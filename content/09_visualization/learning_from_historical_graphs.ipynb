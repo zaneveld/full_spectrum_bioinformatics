{
 "cells": [
  {
   "cell_type": "markdown",
   "metadata": {},
   "source": [
    "# Learning From Historical Graphs\n",
    "\n",
    "A good way to gain familiarity with many different kinds of practical skills is to study, and try to recreate, what others have done in the past. By getting a feel for how to apply these foundational approaches, you'll build up a toolkit that will help you implement your own visualizations. Also, by finding what you like or don't like about past approaches, you can start to find a style that works for you.\n",
    "\n",
    "I personally feel that a little time spent studying historical data visualization is also a good antidote to any hubris - humans everywhere they have lived have been making beautiful and useful data visualizations for a very long time. \n",
    "\n",
    "In this chapter we'll take a quick tour of some historical data visualizations, then try our hand at remaking one together in python. Finally, in the exercises, you'll be asked to try recreating the style of a historical graph as closely as you can using python."
   ]
  },
  {
   "cell_type": "markdown",
   "metadata": {},
   "source": [
    "## Representing Quantities and Patterns"
   ]
  },
  {
   "cell_type": "markdown",
   "metadata": {},
   "source": [
    "## Historical Data Visualization\n",
    "\n",
    "Let's take see some examples of <a href=\"https://thinkinsights.net/data/history-data-visualization\">historical data visualizations</a>. This will necessarily be much more visual than other sections. Where they are known, I've tried to add dates for each visualization (BCE stands for 'before the common era' and is equivalent to BC ; CE stands for 'common era' and is equivalent to AD). Smart people (and our Neanderthal relatives) have been visualizing data for a very long time, so it's difficult to organize the wealth of historical visualizations in a way that makes sense. Here I've tried to organize them by theme (counts & values; maps of places & stars; time & events), and then organize each them around selected examples in roughly chronological order. Feel free to skip around or browse as you like.\n",
    "\n",
    "As we consider these historical data visualizations, keep in the back of your mind what you might draw on from them in representing your own data or analytical results. At the end, we will attempt to either recreate a historic graph in python, or adjust a graph by drawing on some aspect of a historic data visualization."
   ]
  },
  {
   "cell_type": "markdown",
   "metadata": {},
   "source": [
    "## Display of Counts, Values and Income "
   ]
  },
  {
   "cell_type": "markdown",
   "metadata": {},
   "source": [
    "<div>\n",
    "<img align=\"left\" src=\"./resources/Lembombo_Bone_DErica_PNAS_2012.png\" alt=\"An image of several views of a bone notched with 29 markings at regular intervals\" width=\"600px\" style=\"background-color: white; padding-top: 5px; padding-bottom: 5px; padding-right: 20px; padding-left: 10px\">\n",
    "\n",
    "### The Lembombo Bone (~40,000 BCE)\n",
    "    \n",
    "Around 40,000 BCE, several technologies appeared simultaneously in San culture in southern Africa. These included things like tools for applying poison for hunting, weighted digging sticks, and also arguably the first known human data visualization - bones notched at regular intervals. The exact function of these notched bones, including the Lembombo bone pictured to the left, is not known, but might include tracking time. The image of the Lembombo bone is from D'Erico et al., 2012; Fig S9 (Copyright 2012 National Academy of Sciences).\n",
    "    \n",
    "Similarly notched raven bones have been found in Neanderthal settlements (Majkić *et al.,* 2017), with several features of the bone — such as the regularity of notches and evidence of returning to the same bone with a different tool later — suggest that the markings were intentional and not an accidental consequence of butchering an animal. \n",
    "</div>"
   ]
  },
  {
   "cell_type": "markdown",
   "metadata": {},
   "source": [
    "<div>\n",
    "<img align=\"left\" src=\"./resources/Uruk_clay_tokens_and_envelope_Public_Domain.jpg\" alt=\"An image of a \" width=\"600px\" style=\"background-color: white; padding-top: 5px; padding-bottom: 5px; padding-right: 20px; padding-left: 10px\">\n",
    "\n",
    "### Sumarian Clay Tokens & Bullae (4000 BCE)\n",
    "    \n",
    "In the Uruk period in ancient Sumeria (around 4000 - 3100 BCE), regional trade gave rise to a need for mechanisms to prevent theft of goods by those transporting them. For example, a king giving another king gift would want to ensure the entire shipment arrived, without any being pilfered along the way by those charged with transporting it. \n",
    "    \n",
    "One ingenious security mechanism involved clay bullae or envelopes. A series of tokens representing trade goods would be placed inside a clay envelope. When the shipment arrived, the recipient could then break open the envelope, count the goods, and make sure the delivery matched what was sent. However, this still left open the possibility that a dishonest trader could break the envelope themselves, remove some tokens (and steal some goods) then reseal the envelop. To prevent this, elaborate seals were carved into rollers by skilled crafters. When these were rolled over the clay envelopes, they produced a unique verifiable pattern that would be much more difficult to replicate without the original seal.\n",
    "\n",
    "</div>"
   ]
  },
  {
   "cell_type": "markdown",
   "metadata": {},
   "source": [
    "<img align=\"left\" src=\"./resources/Inca_Quipu.jpg\" alt=\"An image of an Incan Quipu. Knotted cords are arranged in an arc, resembling a collar. Small knots are visible on each cord. The quipu is displayed on a plain background.\" width=\"600px\" style=\"background-color: white; padding-top: 5px; padding-bottom: 5px; padding-right: 20px; padding-left: 20px\">\n",
    "\n",
    "\n",
    "\n",
    "### Incan Quipu (starting ~2600 BCE)\n",
    "\n",
    "[Incan Quipu](https://en.wikipedia.org/wiki/Quipu) were a system of colored and knotted cords that could record numerical data, or even narratives. The word Quipu (also spelled khipu) derives from the Quechua word meaning 'to knot', while record-keepers who kept quipu to record contracts, census data and more were known as quipumayocs. For numerical quipu, positions on the cord represented a base 10 system. The number of knots in each position indicated the number of digits in that position. The type of knot (overhand, or figure eight) also mattered, with special knots used to indicate the ones position. This allowed multiple numbers to be represented in the same cord. These could record sums used in record-keeping of census data. Image by Claus Ableite (Wikimedia Commons, CC BY-SA 3.0)"
   ]
  },
  {
   "cell_type": "markdown",
   "metadata": {},
   "source": [
    "<img align=\"left\" src=\"./resources/Playfair_TimeSeries-2_Wikimedia_Commons_Public_Domain.png\" alt=\"A line plot showing two series: English exports and imports. Time is on the x axis and value of imports on the y axis. The area between exports and imports — the balance of trade — is shaded in. Before 1755, imports exceed exports. This area is shaded in pink, with the words BALANCE AGAINST written inside. In the second half of the graph, exports exceed imports. This area is shaded in green, with the words BALANCE in FAVOR of ENGLAND written inside.\" width=\"600\" style=\"background-color: white; padding-top: 5px; padding-bottom: 5px; padding-right: 20px; padding-left: 20px\">\n",
    "\n",
    "### Economic and Political Graphs of William Playfair (late 1700s CE)\n",
    "\n",
    "One of the original line plots by [William Playfair](https://en.wikipedia.org/wiki/William_Playfair). Playfair had many interests and careers, including political economist and secret agent. He is often credited with developing several commonly used types of graphs, including line and area plots, and pie chart. Note how the *difference* between exports and imports is clearly shown by the size of the shaded area, and the *sign* of the balance of trade is indicated by the color. At the same time, we can see that increasing exports drive the more favorable balance of trade after 1755, because the 'Exports' line goes up, while 'Imports' stay about the same.\n"
   ]
  },
  {
   "cell_type": "markdown",
   "metadata": {},
   "source": [
    "<img src=\"./resources/WEB_DuBois_City_and_Rural_Population_1890_Library_of_Congress.jpeg\" alt=\"A plot titled City and Rural Population, 1890. A line plot in bold colors zig-zags at diagonal angles to show the proportion of Black Americans in large, medium, and small cities (These are colored green, blue and yellow, respectively). Next, a dramatic red spiral shows the Black population in rural areas, the length of which emphasizes that this quantity vastly exceeds the others.\" align=\"left\" width=\"600\" style=\"background-color: white; padding-top: 5px; padding-bottom: 5px; padding-right: 20px; padding-left: 20px\">\n",
    "\n",
    "### The Sociological Graphs of W.E.B. Du Bois (1900 CE)\n",
    "\n",
    "W.E.B. Du Bois and a team of black sociologists produced a set of stunning visuals illustrating Black life in America for the 1900 World Fair in Paris. The work combined eye-catching and unique visuals designed to attract attention and interest with a bold color palette.\n",
    "\n",
    "\n"
   ]
  },
  {
   "cell_type": "markdown",
   "metadata": {},
   "source": [
    "<img align=\"left\" src=\"./resources/Spear_First_Boxplot_Public_Domain.png\" alt=\"A printed diagram of a boxplot\" width=\"600px\" style=\"background-color: grey; padding-top: 5px; padding-bottom: 5px; padding-right: 20px; padding-left: 20px\">\n",
    "\n",
    "### Mary Eleanor Spear's Box Plot (1952 CE)\n",
    "\n",
    "A key consideration in modern scientific graphs is the presentation of variance in data within a category. Box plots are a common way of doing so. The first known box plot was developed by [Mary Eleanor Spear](https://en.wikipedia.org/wiki/Mary_Eleanor_Spear), an American data visualization specialist working on methods for presenting economic and statistical information for television broadcast. She worked at the United States Internal Revenue Service with [various titles](https://medium.com/nightingale/credit-where-credit-is-due-mary-eleanor-spear-6a7a1951b8e6) from 'Draftsman' in the 1920s to Visual Information Specialist in 1952. In her 1952 book [Charting Statistics](https://archive.org/details/ChartingStatistics_201801/page/n177/mode/2up) (p. 166; the full book is out of copyright and available on the Internet Archive). In *Charting Statistics* she illustrated the first description of a box plot, as a variant of a range-bar plot in which interquartile range is also marked. The example applications include salary data within professions. This range-bar plot with interquartile ranges added was later elaborated by John Tukey into the modern boxplot."
   ]
  },
  {
   "cell_type": "markdown",
   "metadata": {},
   "source": [
    "##  Spatial Data from Cities to Stars\n",
    "\n",
    "Historically, many of the earliest known data visualizations represented the physical position of things: how long you might have to travel to get from one town to another, or where different constellations would appear in the night sky at different times of year. \n",
    "\n",
    "Being able to share the quickest route to get from point A to point B using a map made it much easier to get where you wanted to go in trade, travel or warfare.\n",
    "\n",
    "Just as maps of physical space help with trade and military movements, maps of stars have significance for timekeeping, agriculture, as well as many religious or cultural ceremonies."
   ]
  },
  {
   "cell_type": "markdown",
   "metadata": {},
   "source": [
    "<div>\n",
    "    \n",
    "<img align=\"left\" src=\"./resources/Part_of_Tabula_Peutingeriana_Bibliotheca_Augustana_Wikipedia.jpg\" alt=\"An image of the Tabula Peutingeriana - a map with building icons on a coastline. Towns and cities are labelled, with red lines connecting the population centers\" width=\"600px\" style=\"background-color: white; padding-top: 5px; padding-bottom: 5px; padding-right: 20px; padding-left: 20px\">\n",
    "\n",
    "\n",
    "    \n",
    "### The Tabula Peutingeriana (366 - 355 BCE) \n",
    "\n",
    "The Tabula Peutingeriana (at left, from roughly 366-355 BCE) shows how Roman roads — the *cursus publicus* — connected with one another\n",
    "\n",
    "</div>"
   ]
  },
  {
   "cell_type": "markdown",
   "metadata": {},
   "source": [
    "<div>\n",
    "\n",
    "\n",
    "<img align=\"left\" src=\"./resources/Dunhuang_star_map_public_domain.jpg\" alt=\"A detail of the Dunhuang Star map. Black and white markings on a tan background show a polar star projection with annotations\" width=\"600px\" style=\"background-color: white; padding-top: 5px; padding-bottom: 5px; padding-right: 20px; padding-left: 20px\">\n",
    "\n",
    "### Dunhuang Star Map (649-694 CE)\n",
    "    \n",
    "The [Silk Road](https://en.wikipedia.org/wiki/Silk_Road) was a vital trade route connecting eastern and western eurasia between about 114 BCE to 1450 CE. Throughout much of this time, Buddhist travellers who wanted to pray for a safe and successful journey could, starting in about 366 CE, do so at the [Mogao Caves](https://en.wikipedia.org/wiki/Mogao_Caves) near Dunhuang. These caves are also known as the Thousand Buddha Grottos, and are famous for Buddhist art stretching over the span of 1000 years.  This exquisite star chart, along with 40,000 other manuscripts was stored in a cave uncovered by Wang Yuanlu, a Taoist Monk, in 1900 ([Qiu 2009](https://www.nature.com/articles/459778a#citeas)). The image to the left is just one small detail, with the full chart showing more than 1339 stars. More recent analysis of the Dunhuang Star Map finds the star positions to be surprisingly accurate - to within 1-4 degrees for bright stars ([Bonnet-Bidau et al., 2009](https://ui.adsabs.harvard.edu/abs/2009JAHH...12...39B/abstract)).\n",
    "\n",
    "</div>"
   ]
  },
  {
   "cell_type": "markdown",
   "metadata": {},
   "source": [
    "<img align=\"left\" src=\"./resources/Rebbelib_Map_Wikipedia_GPL.jpg\" alt=\"An image of a large Marshall Islands Rebbelib stick chart in a museum. The map is about the height of a person, constructed of thin sticks knotted together with a fiber.\" width=\"600px\" style=\"background-color: white; padding-top: 5px; padding-bottom: 5px; padding-right: 20px; padding-left: 20px\">\n",
    "\n",
    "### Marshall Islands Rebbelib Stick Charts (data unknown but pre-1800s CE)\n",
    "\n",
    "Specific cultures also used and use data visualization to represent more abstract quantities. \n",
    "\n",
    "For example, navigation in the Marshall Islands was historically difficult because the islands are low and hard to spot over large distances. *Rebbelib* [Marshallese Stick Charts](https://en.wikipedia.org/wiki/Marshall_Islands_stick_chart) showed the relative location of islands, as well as the way that ocean swells bounced off of them (reflection) or bent around them (refraction). \n",
    "\n",
    "The NOAA short video<a href=\"https://oceantoday.noaa.gov/oceanshowsusway/\">\"The Ocean Shows Us the Way\"</a> includes diagrams and satellite imagery illustrating how these patterns of reflection and refraction extend far around islands. \n",
    "\n",
    "A screen grab from the same video appears below. In combination with other observations —like cloud formation over islands, ocean color, and the movements of birds— experienced navigators could use the movement of a boat in swells to determine location. Traditional navigation of this type is still taught today. \n",
    "\n",
    "<img align=\"left\" src=\"./resources/NOAA_The_Ocean_Shows_Us_The_Way.png\" alt=\"A diagram of an island in the ocean. As waves approach the island, some reflect back in a cone on it's right. Others bend or refract aroundt he island on the left. Refraction and reflection are labelled. The overall style looks like a video from the late 1980s or early 1990s.\" width=\"600px\" style=\"background-color: grey; padding-top: 5px; padding-bottom: 5px; padding-right: 20px; padding-left: 20px\">\n",
    "\n",
    "Although different in function, a similarly physical approach to representing maps is found in Inuit <a href=\"https://en.wikipedia.org/wiki/Ammassalik_wooden_maps\"> Ammassalik wooden maps </a>, which allow a navigator to trace key features in the outline of a coast, even in darkness"
   ]
  },
  {
   "cell_type": "markdown",
   "metadata": {},
   "source": [
    "<div>\n",
    "\n",
    "    \n",
    "<img align=\"left\" src=\"./resources/Su_Song_Star_Map_Public_Domain.jpeg\" alt=\"A black and white image of the Su Song Star Map. Vertical lines divide images of constellations\" width=\"600px\" style=\"background-color: white; padding-top: 5px; padding-bottom: 5px; padding-right: 20px; padding-left: 20px\">\n",
    "    \n",
    "### Su Song's Star Maps (1092 CE)\n",
    "\n",
    "During the Song Dynasty in China (1092 CE), [Su Song](https://en.wikipedia.org/wiki/Su_Song) recorded what is thought to be one of the oldest *printed* star maps, recording 1464 stars across 5 scrolls. He published this star map in a book describing the design for a large mechanical water-powered Armillary Clock. This water-driven clockwork machine rose 40' tall. It displayed time using small figurines that popped out holding plaques, with unique sounds from gongs or drums, and showed astronomical information like the phase of the moon. A 10-20 ton armillary sphere rotated on it's top displaying astronomical information.\n",
    "</div>"
   ]
  },
  {
   "cell_type": "markdown",
   "metadata": {},
   "source": [
    "<div>\n",
    "<img align=\"left\" src=\"./resources/Snow_Broad_Street_Pump_Cholera_Map.jpg\" alt=\"A black and white image of the an area around Broad Street in London. Black shading indicates the presence of cholera cases. A water pump on Broad Street is marked with a dot and the word pump.\" width=\"600px\" style=\"background-color: white; padding-top: 5px; padding-bottom: 5px; padding-right: 20px; padding-left: 20px\">\n",
    "    \n",
    "### John Snow's Dot Map (1854 CE)\n",
    "       \n",
    "</div>"
   ]
  },
  {
   "cell_type": "markdown",
   "metadata": {},
   "source": [
    "## Representations of Time, Events, and Movement "
   ]
  },
  {
   "cell_type": "markdown",
   "metadata": {},
   "source": [
    "<div>\n",
    "<img align=\"left\" src=\"./resources/Bacon_et_al_2023_Fig_1_CC_NonDerivative_Fig1.jpg\" alt=\"An image of cave paintings, highlighting vertical lines and Y shapes marked on the animals\" width=\"600px\" style=\"background-color: white; padding-top: 5px; padding-bottom: 5px; padding-right: 20px; padding-left: 10px\">\n",
    "\n",
    "### Cave Paintings Visualizing Animal's Reproductive Timing (13,000 BCE)\n",
    "    \n",
    "As old as 13,000 years before the common era, Ice Age people appear to have <a href=\"https://www.pbs.org/wgbh/nova/article/cave-painting-calendar-earliest-writing/\"> marked cage paintings</a> to indicate the reproductive timing of animals (<a href = \"https://www.cambridge.org/core/journals/cambridge-archaeological-journal/article/an-upper-palaeolithic-protowriting-system-and-phenological-calendar/6F2AD8A705888F2226FE857840B4FE19#article\"> Bacon *et al.,* 2023 </a>). Bacon and colleagues argue that marks in more than 400 caves denote lunar months with lines or dots, and births with the sign Y. Evidence includes that the number of lines does not exceed 13 (the number of 28-day lunar months in a year), and that the recorded timings, if interpreted as lunar months, match the reproductive timing of animals to a greater degree than would be expected by chance.\n",
    "\n",
    "</div>"
   ]
  },
  {
   "cell_type": "markdown",
   "metadata": {},
   "source": [
    "<img align=\"left\" src=\"./resources/Oresmes_diagrams_full_page_Public_Domain.gif\" alt=\"An image of an manuscript with elaborate lettered text in latin organized into columns. Bar diagrams showing various curves are inserted to the right of the text at various points.\" width=\"600px\" style=\"background-color: white; padding-top: 5px; padding-bottom: 5px; padding-right: 20px; padding-left: 20px\">\n",
    "\n",
    "### Nicole Oresme's Latitude of Forms (~1350 CE)\n",
    "\n",
    "Nicole Oresme, developed a type of bar chart, the \"Latitude of Forms\" to visualize work on velocity and acceleration. The image to the left shows Oresme's Latitude of Forms as reprinted in 1505. Time proceeds from left to right, with the position of an object shown on the y-axis.\n",
    "\n"
   ]
  },
  {
   "cell_type": "markdown",
   "metadata": {},
   "source": [
    "<img align=\"left\" src=\"./resources/ROSAT_xray_star_map.png\" alt=\"A black and white image of the Su Song Star Map. Vertical lines divide images of constellations\" width=\"600px\" style=\"background-color: grey; padding-top: 5px; padding-bottom: 5px; padding-right: 20px; padding-left: 20px\">\n",
    "\n",
    "### The ROSAT X-Ray Star Map\n",
    "\n",
    "The [ROSAT X-ray star map](https://www.sciencenews.org/article/xray-map-sky-erosita-telescope-milky-way) shows a full-sky view of x-ray emissions. "
   ]
  },
  {
   "cell_type": "markdown",
   "metadata": {},
   "source": [
    "<div>\n",
    "<img align=\"left\" src=\"./resources/Priestly_A_New_Chart_of_History_public_domain.jpg\" alt=\"A shaded chart of historical events, with rows representing different regions like Germany, Persia, the British Isles, etc and the columns representing different periods of time. The Roman Empire is most visible, spanning multiple regions and time-period columns.\" width=\"600px\" style=\"background-color: white; padding-top: 5px; padding-bottom: 5px; padding-right: 20px; padding-left: 20px\">\n",
    "    \n",
    "### Joseph Priestley's Historical Charts (1769 CE)\n",
    "    \n",
    "In addition to many other contributions — including oxygen (\"dephlogistinated air\"), writings on politics and utilitarian philosophy, and the invention of carbonated water — Joseph Priestly developed visualizations of events over time. The intent of these visualizations was to help students with study of people and events. His *New Chart of History* (pictured left) integrated events across 106 different regions like Persia and Germany. These different regions were represented as rows, while multiple time periods, shown as columns. You may be able to make out the large green shape representing the Roman Empire just to the left of the center of the chart. \n",
    "      \n",
    "</div>"
   ]
  },
  {
   "cell_type": "markdown",
   "metadata": {},
   "source": [
    "##  Relationships, Networks, and Sets\n",
    "\n"
   ]
  },
  {
   "cell_type": "markdown",
   "metadata": {},
   "source": [
    "<div>\n",
    "<img src=\"./resources/Darwin_Evolutionary_Tree.png\" alt=\"Darwin's Tree of Life from On the Origin of Species. Several branches extend from the bottom of the diagram to the top, with dotted lines representing extinct lineages radiating outwards at several places and then abruptly stopping.\" align=\"left\" width=\"600\" style=\"background-color: white; padding-top: 5px; padding-bottom: 5px; padding-right: 20px; padding-left: 20px\">\n",
    "    \n",
    "### Darwin's Evolutionary Tree (1859 CE)\n",
    "\n",
    "Darwin's 1859 *On the Origin* of species contains one and only one diagram - so you know it is important! Darwin was not the first to visualize relationships among living things using a tree - but his trees visualized not just similarities in traits, but also a proposed mechanism by which those similarities and differences arose. Notably, his tree included branches that \n",
    "</div>"
   ]
  },
  {
   "cell_type": "markdown",
   "metadata": {},
   "source": [
    "### Catawba Deerskin Map "
   ]
  },
  {
   "cell_type": "markdown",
   "metadata": {},
   "source": [
    "### Mayan Tzol'kin, Haab, and Long Count Calendar\n",
    "\n",
    "The Tzol'kin sacred calender consists of interlocking circles of 13 days and 20 months (260 total), while the Haab calendar more closely matches a year and so is useful for business and agriculture. "
   ]
  },
  {
   "cell_type": "markdown",
   "metadata": {},
   "source": [
    "### Galton's Scatterplot\n",
    "\n",
    "The early origins of the scatterplot are reviewed in Friendly ([Friendly 2005](https://www.researchgate.net/publication/7923211_The_Early_Origins_and_Development_of_the_Scatterplot/download?_tp=eyJjb250ZXh0Ijp7ImZpcnN0UGFnZSI6Il9kaXJlY3QiLCJwYWdlIjoiX2RpcmVjdCJ9fQ))"
   ]
  },
  {
   "cell_type": "markdown",
   "metadata": {},
   "source": [
    "### Charles Dupin's Chloropleth"
   ]
  },
  {
   "cell_type": "markdown",
   "metadata": {},
   "source": [
    "### Florence Nightengale's Rose Diagram\n",
    "\"Coxcomb\""
   ]
  },
  {
   "cell_type": "markdown",
   "metadata": {},
   "source": [
    "### Nigel Holmes Infographics\n",
    "\n",
    "This approach of studying past graphs is the basis of Edward Tufte's *The Visual Display of Quantitative Information*. \n",
    "\n",
    "### UpSet Plots (2014) \n",
    "https://en.wikipedia.org/wiki/UpSet_plot\n",
    "\n",
    "\n",
    "Abigail Echo-Hawk, Decolonizing Data"
   ]
  },
  {
   "cell_type": "markdown",
   "metadata": {},
   "source": [
    "# Exercises\n",
    "\n",
    "1. \n",
    "\n",
    "\n"
   ]
  },
  {
   "cell_type": "markdown",
   "metadata": {},
   "source": [
    "## The Sociological Graphs of W.E.B. Du Bois for the 1900 World Fair\n",
    "\n",
    "<img src=\"./resources/WEB_DuBois_City_and_Rural_Population_1890_Library_of_Congress.jpeg\" alt=\"A plot titled City and Rural Population, 1890. A line plot in bold colors zig-zags at diagonal angles to show the proportion of Black Americans in large, medium, and small cities (These are colored green, blue and yellow, respectively). Next, a dramatic red spiral shows the Black population in rural areas, the length of which emphasizes that this quantity vastly exceeds the others.\" width=\"400\">\n",
    "\n",
    "**[*Smithsonian*. 2018](https://www.smithsonianmag.com/history/first-time-together-and-color-book-displays-web-du-bois-visionary-infographics-180970826/) \"W.E.B. Du Bois’ Visionary Infographics Come Together for the First Time in Full Color\"**\n",
    "   - Background on how W.E.B. Du Bois and a team of black sociologists produced a set of stunning visuals illustrating Black life in America for the 1900 World Fair in Paris.\n",
    "   \n",
    "**[W.E.B. DuBois graphs from the Library of Congress](https://www.loc.gov/collections/african-american-photographs-1900-paris-exposition/?fa=subject:exhibitions+%26+displays)**\n",
    "   - You can see all of W.E.B. DuBois' plates for the 1900 World Fair at the above link from the library of congress.\n",
    "   \n",
    "**[\"The DuBois Visual Style\"](https://www.dignityanddebt.org/uploads/dubois-style.pdf), DignityandDebt.org.** This guide breaks down some key graphical elements of DuBois style, and also includes RGB and Hex values for the colors in many of these graphs. Here is a key quotation: \"The use of bold solid colors is a characteristic of the DuBois style. Here are the colors in the Dubois palette:"
   ]
  },
  {
   "cell_type": "markdown",
   "metadata": {},
   "source": [
    "`Name RGB Hex\n",
    "black rgb(0,0,0) #000000\n",
    "brown rgb(101,67,33) #654321\n",
    "tan rgb(210,180,140) #d2b48c\n",
    "gold rgb(255,215,0) #ffd700\n",
    "pink rgb(255,192,203) #ffc0cb\n",
    "crimson rgb(220,20,60) #dc143c\n",
    "green rgb(0,128,0) #00aa00\n",
    "blue rgb(0,0,255) #0000ff`"
   ]
  },
  {
   "cell_type": "code",
   "execution_count": 1,
   "metadata": {},
   "outputs": [],
   "source": [
    "import matplotlib.pyplot as plt\n",
    "from cycler import cycler\n",
    "\n",
    "duBois_colors = {\"black\":\"#000000\",\\\n",
    "                 \"green\":\"#00aa00\",\\\n",
    "                 \"crimson\":\"#dc143c\",\\\n",
    "                 \"blue\":\"#0000ff\",\\\n",
    "                 \"brown\":\"#654321\",\\\n",
    "                 \"pink\":\"#ffc0cb\",\\\n",
    "                 \"tan\":\"#d2b48c\",\\\n",
    "                 \"gold\":\"#ffd700\"      \n",
    "                }\n",
    "\n",
    "default_cycler = (cycler(color=list(duBois_colors.values()))) \n",
    "plt.rc('axes', prop_cycle=default_cycler)"
   ]
  },
  {
   "cell_type": "code",
   "execution_count": 2,
   "metadata": {},
   "outputs": [
    {
     "data": {
      "text/plain": [
       "Text(0, 0.5, 'y-axis')"
      ]
     },
     "execution_count": 2,
     "metadata": {},
     "output_type": "execute_result"
    }
   ],
   "source": [
    "\n",
    "\n",
    "x = [1,3,20]\n",
    "y = [10,40,80]\n",
    "z = [50,10,1]\n",
    "                  \n",
    "from random import randrange\n",
    "\n",
    "#simulate 8 sets of measurements, each with a little error\n",
    "for i in range(8):\n",
    "    curr_x = [i + randrange(-1,1) for i in x]\n",
    "    curr_y = [i + randrange(-30,30) for i in y]\n",
    "    plt.scatter(curr_x,curr_y,linewidth=4)\n",
    "    \n",
    "    #Plot area\n",
    "    plt.plot(curr_x,curr_y,linewidth=1)\n",
    "\n",
    "plt.xlabel(\"x-axis\")\n",
    "plt.ylabel(\"y-axis\")"
   ]
  },
  {
   "cell_type": "code",
   "execution_count": 3,
   "metadata": {},
   "outputs": [],
   "source": [
    "def interpolate(series,n_interpolation_points = 10):\n",
    "    interpolated_points = []\n",
    "    for i,x in enumerate(series):\n",
    "        \n",
    "        for j in range(n_interpolation_points):\n",
    "            if i == len(series) -1:\n",
    "                break\n",
    "            next_x = series[i+1]\n",
    "            new = j/n_interpolation_points\n",
    "            old = 1.0 - new\n",
    "            interpolated_x = x * old + next_x * new\n",
    "            interpolated_points.append(interpolated_x)\n",
    "    return interpolated_points"
   ]
  },
  {
   "cell_type": "code",
   "execution_count": 4,
   "metadata": {},
   "outputs": [
    {
     "name": "stdout",
     "output_type": "stream",
     "text": [
      "0 /\n",
      "1 o\n",
      "2 \\\n",
      "3 +\n",
      "4 0\n",
      "5 .\n"
     ]
    },
    {
     "name": "stderr",
     "output_type": "stream",
     "text": [
      "/var/folders/v2/qns4f6vs1bv0jcb0f7w2qk_sc_yq4j/T/ipykernel_73126/905050496.py:38: MatplotlibDeprecationWarning: hatch must consist of a string of \"*+-./OX\\ox|\" or None, but found the following invalid values \"0\". Passing invalid values is deprecated since 3.4 and will become an error in 3.9.\n",
      "  plt.fill_between(curr_x,top_line,bottom_line,alpha = 0.5,facecolor = curr_color,\\\n"
     ]
    },
    {
     "data": {
      "text/plain": [
       "Text(0, 0.5, 'y-axis')"
      ]
     },
     "execution_count": 4,
     "metadata": {},
     "output_type": "execute_result"
    }
   ],
   "source": [
    "plt.clf()\n",
    "from numpy import array\n",
    "x = [1,3,10,15,20,25]\n",
    "y = [1,20,40,80,160,80]\n",
    "z = [50,25,12,6,3,25]\n",
    "fig1 = plt.subplot(111,facecolor='darkslategray')\n",
    "duBois_colors = {\"black\":\"#000000\",\\\n",
    "                 \"green\":\"#00aa00\",\\\n",
    "                 \"crimson\":\"#dc143c\",\\\n",
    "                 \"blue\":\"#0000ff\",\\\n",
    "                 \"brown\":\"#654321\",\\\n",
    "                 \"pink\":\"#ffc0cb\",\\\n",
    "                 \"tan\":\"#d2b48c\",\\\n",
    "                 \"gold\":\"#ffd700\"      \n",
    "                }\n",
    "\n",
    "colors = list(duBois_colors.values())\n",
    "hatches = ['/','o','\\\\','+','0','.','*']\n",
    "n_interpolation_points = 10\n",
    "\n",
    "for i in range(6):\n",
    "    \n",
    "    curr_hatch = hatches[i]\n",
    "    curr_color = colors[i]\n",
    "    print(i,curr_hatch)\n",
    "    #curr_x = [i + randrange(-1,1) for i in x]\n",
    "    curr_x = x\n",
    "    curr_y = [k + randrange(-5*(i+1),5*(i+1)) + i * 30 for k in y]\n",
    "    curr_z = [k + randrange(-10*(i+1),10*(i+1)) - i * 3 for k in z]\n",
    "    \n",
    "    interpolated_x = interpolate(curr_x,10)\n",
    "    interpolated_y = interpolate(curr_y,10)\n",
    "    interpolated_z = interpolate(curr_z,10)\n",
    "    \n",
    "    top_line = [y_point + curr_z[j]/2 for j,y_point in enumerate(curr_y)]\n",
    "    bottom_line = [y_point - curr_z[j]/2 for j,y_point in enumerate(curr_y)]\n",
    "    \n",
    "    plt.fill_between(curr_x,top_line,bottom_line,alpha = 0.5,facecolor = curr_color,\\\n",
    "      edgecolor = 'white',linewidth=2.0,hatch=curr_hatch)\n",
    "    \n",
    "    plt.bar(curr_x,array(top_line)-array(bottom_line),bottom=bottom_line,\\\n",
    "      linewidth=0.5,edgecolor='white',facecolor=curr_color,alpha=0.75,width=0.25)\n",
    "    plt.scatter(curr_x,curr_y,linewidth=1.0,edgecolor='white',s=100.0,facecolor=curr_color)\n",
    "    \n",
    "plt.xlabel(\"x-axis\",size=\"xx-large\")\n",
    "plt.ylabel(\"y-axis\",size=\"xx-large\")"
   ]
  },
  {
   "cell_type": "markdown",
   "metadata": {},
   "source": [
    "### Economic and Political Graphs of William Playfair\n",
    "\n",
    "<img src=\"./resources/Playfair_TimeSeries-2_Wikimedia_Commons_Public_Domain.png\" alt=\"A line plot showing two series: English exports and imports. Time is on the x axis and value of imports on the y axis. The area between exports and imports — the balance of trade — is shaded in. Before 1755, imports exceed exports. This area is shaded in pink, with the words BALANCE AGAINST written inside. In the second half of the graph, exports exceed imports. This area is shaded in green, with the words BALANCE in FAVOR of ENGLAND written inside.\" width=\"800\">\n",
    "\n",
    "One of the original line plots by [William Playfair](https://en.wikipedia.org/wiki/William_Playfair). Playfair had many interests and careers, including political economist and secret agent. He is often credited with developing several commonly used types of graphs, including line and area plots, and pie chart Note how the *difference* between exports and imports is clearly shown by the size of the shaded area, and the *sign* of the balance of trade is indicated by the color. At the same time, we can see that increasing exports drive the more favorable balance of trade after 1755, because the 'Exports' line goes up, while 'Imports' stay about the same.\n",
    "\n",
    "[Import and Export of Grain](Playfair_TimeSeries-2_Wikimedia_Commons_Public_Domain.png)\n",
    "\n"
   ]
  },
  {
   "cell_type": "code",
   "execution_count": 5,
   "metadata": {},
   "outputs": [],
   "source": [
    "playfair_colors = {\"negative_shading\":\"#FDD9D6\",\"positive_shading\":\"#E9DAB0\",\\\n",
    "                   \"positive\":\"#BE495A\",\"negative\":\"#E89D44\"}\n"
   ]
  },
  {
   "cell_type": "code",
   "execution_count": 6,
   "metadata": {},
   "outputs": [
    {
     "data": {
      "text/plain": [
       "Text(8.0, 190, ' LOSS\\n   of\\nENERGY')"
      ]
     },
     "execution_count": 6,
     "metadata": {},
     "output_type": "execute_result"
    }
   ],
   "source": [
    "days = array([1,2,3,4,5,6,7,8,9,10])\n",
    "calories_gained = array([100,110,70,120,130,80,150,170,175,180])\n",
    "calories_lost = array([30,60,40,80,110,120,200,250,245,255])\n",
    "fig,ax = plt.subplots(facecolor='white')\n",
    "\n",
    "avg_work = calories_lost.mean()\n",
    "\n",
    "plt.axhline(avg_work,color='darkslategray',linewidth=4.0,alpha=0.50)\n",
    "plt.grid(color='darkslategray',alpha=0.35,linestyle='dashdot')\n",
    "\n",
    "plt.plot(days,calories_gained+2.25,c=playfair_colors['positive'],linewidth=4.5)\n",
    "plt.plot(days,calories_gained,c='darkslategray',linewidth=0.5,linestyle='dashdot')\n",
    "\n",
    "plt.plot(days,calories_lost-2.25,c=playfair_colors['negative'],\\\n",
    "      linewidth=4.5,linestyle='dashdot')\n",
    "plt.plot(days,calories_lost-2.25,c='orange',\\\n",
    "      linewidth=4.5)\n",
    "plt.plot(days,calories_lost,c='darkslategray',linewidth=0.5,linestyle='dashdot')\n",
    "\n",
    "plt.fill_between(days,calories_gained,calories_lost,alpha = 1.0,facecolor = playfair_colors[\"positive_shading\"],\\\n",
    "      edgecolor = None,linewidth=2.0,hatch=None,where=calories_gained >= calories_lost,\n",
    "      interpolate=True)\n",
    "plt.fill_between(days,calories_gained,calories_lost,alpha = 1.0,facecolor = playfair_colors['negative_shading'],\\\n",
    "      edgecolor = None,linewidth=2.0,hatch=None,where=calories_lost > calories_gained,\\\n",
    "      interpolate=True)\n",
    "plt.xlabel(\"Days since the Start of the Experiment\",size=\"large\")\n",
    "plt.ylabel(\"Energy\",size=\"xx-large\")\n",
    "\n",
    "plt.annotate(text=\"Calories\",xy=(3,100),xytext=(2.9,85),rotation=49)\n",
    "plt.annotate(text=\"eaten\",xy=(4,110),xytext=(4,125),rotation=17)\n",
    "\n",
    "plt.annotate(text=\"Calories burnt\",xy=(3,100),xytext=(3.1,30),rotation=45)\n",
    "\n",
    "plt.annotate(text=\"Calories eaten\",xy=(3,100),xytext=(8,155),rotation=10)\n",
    "plt.annotate(text=\"Calories burnt\",xy=(3,100),xytext=(6,157),rotation=59)\n",
    "\n",
    "plt.annotate(text=\"ENERGY\\n GAIN\",xy=(1.5,75),xytext=(1.03,65),rotation=0,size=\"large\")\n",
    "plt.annotate(text=\" LOSS\\n   of\\nENERGY\",xy=(1.5,75),xytext=(8.0,190),rotation=0,size=\"x-large\")"
   ]
  },
  {
   "cell_type": "markdown",
   "metadata": {},
   "source": [
    "## Further Reading \n",
    "\n",
    "The arrangement of this chapter is endebted to this <a href=\"https://thinkinsights.net/data/history-data-visualization\">very informative</a> post by Mithun Sridharan on the history of data visualization.\n",
    "\n",
    "\n",
    "## Experimental tests of Reader Perception and Memory of Chart Data\n",
    "\n",
    "Data Visualization researchers sometimes experimentally test which graphical elements can be most accurately perceived by readers, and how well these graphical elements are remembered over time. Below are some examples:\n",
    "\n",
    "**[Bateman 2010.](https://dl.acm.org/doi/pdf/10.1145/1753326.1753716?casa_token=0tMANwwfa8EAAAAA:qPyLGCKlrtD6RHrLWOjPAFYtPDeXA4qMT-f5vvIALEO8FsjLRsb_v30VrFVx9MNUrDDG0HiuZmyX) \"Useful Junk? The Effects of Visual Embellishmenton Comprehension and Memorability of Charts\"**\n",
    "   \n",
    "   - While Tufte's principles have been very influential, there are also examples where embellished representations of data — like the 'infographics' of famous Time graphic designer Nigel Holmes — are equally well read but better remembered by readers. Often such graphics implicitly or explicitly put an editorial spin on the data. This is often too mucn for scientific papers, where it is critical that readers be able to consider alternative interpretations of the data. However, to me these results do suggest that there is some benefit to adding memorable visual elements to graphs, as long as the data themselves are still the main graphical element.\n",
    "\n",
    "**[Cleveland and McGill, 1986](http://snoid.sv.vt.edu/~npolys/projects/safas/science.pdf) \"An experiment in Visual Perception\"**\n",
    "    \n",
    "   -  Here, graphical 'encodings' — that is, ways of showing numbers — are ranked according to how accurately viewers can estimate the numerical data from the graph. One key result was a ranking of accuracy among different encodings, from highest to lowest accuracy: x and y position (as in a scatter plot); length (as in a bar graph); angle and slope; and area (as in a pie chart, or the sizing of points on a bubble plot). "
   ]
  },
  {
   "cell_type": "markdown",
   "metadata": {},
   "source": [
    "## Qualitative Interviews with Designers\n",
    "\n",
    "[Parsons and Shukla, 2020](https://arxiv.org/pdf/2009.02634.pdf). **\"Data Visualization Practitioners’ Perspectives on Chartjunk\"**\n",
    "\n",
    " - Structured interviews with folks who visualize data for a living, discussing some of the papers cited above. Most described Tufte's minimalism as one end of the spectrum, and suggest some easing off from that position."
   ]
  },
  {
   "cell_type": "markdown",
   "metadata": {},
   "source": [
    "### References\n",
    "\n",
    "Bacon B, Khatiri A, Palmer J, Freeth T, Pettitt P, Kentridge R. An Upper Palaeolithic Proto-writing System and Phenological Calendar. Cambridge Archaeological Journal. 2023;33(3):371-389. doi:10.1017/S0959774322000415"
   ]
  },
  {
   "cell_type": "markdown",
   "metadata": {},
   "source": [
    "Qiu, J. Charting the heavens from China. Nature 459, 778–779 (2009). https://doi.org/10.1038/459778a"
   ]
  },
  {
   "cell_type": "markdown",
   "metadata": {},
   "source": [
    "Bonnet-Bidaud J-M, Praderie F, Whitfield S. The Dunhuang Chinese sky: A comprehensive study of the oldest known star atlas. J Astron Hist Herit 12:39–59 (2009)."
   ]
  },
  {
   "cell_type": "markdown",
   "metadata": {},
   "source": [
    "Majkić A, Evans S, Stepanchuk V, Tsvelykh A, d’Errico F. 2017. A decorated raven bone from the Zaskalnaya VI (Kolosovskaya) Neanderthal site, Crimea. PLOS ONE 12:e0173435.\n"
   ]
  },
  {
   "cell_type": "code",
   "execution_count": null,
   "metadata": {},
   "outputs": [],
   "source": []
  }
 ],
 "metadata": {
  "kernelspec": {
   "display_name": "Python 3 (ipykernel)",
   "language": "python",
   "name": "python3"
  },
  "language_info": {
   "codemirror_mode": {
    "name": "ipython",
    "version": 3
   },
   "file_extension": ".py",
   "mimetype": "text/x-python",
   "name": "python",
   "nbconvert_exporter": "python",
   "pygments_lexer": "ipython3",
   "version": "3.9.19"
  }
 },
 "nbformat": 4,
 "nbformat_minor": 2
}
