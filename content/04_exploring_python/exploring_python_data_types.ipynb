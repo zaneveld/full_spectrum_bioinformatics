{
 "cells": [
  {
   "cell_type": "markdown",
   "metadata": {},
   "source": [
    "# Python Data Types Quick Reference\n",
    "\n",
    "\n",
    "## What's in this section?\n",
    "\n",
    "This section provides an overview of the most commonly used data types in Python. If you are just learning, don't expect yourself to memorize all this information all at once - the most commonly used data types will be covered in more depth in the chapters where they are used. For now, just read over the examples and let it soak in. You can then refer back to this page if you later encounter one of these data types and need to remember how it works.\n",
    "\n",
    "If you are already familiar with other programming languages, and feel comfortable seeking out information  about each data type online, this page may be sufficient to jump-start your exploration of Python.\n",
    "\n",
    "To complete this section you will need:\n",
    "* A computer with Anaconda Python installed. If you aren't set up with Anaconda Python, see [Exploring Python](./exploring_python.ipynb)\n",
    "* To complete the exercise you will need familiarity with basic molecular biology terminology (e.g. DNA, RNA, protein, the Central Dogma). \n",
    "\n",
    "\n",
    "## What is a data type and why do I need one?\n",
    "\n",
    "In our everyday lives, we use all different kinds of data, organized in a variety of ways. We might enter a PIN number to use a debit card. We may keep a TODO list or a list of groceries. If we encounter an unfamiliar term, we might look up its definition in a physical or online dictionary or the glossary of a textbook. Similarly, when tackling a bioinformatics project, we may need to organize many different kinds of data: lists of genes or files, annotations of gene function, or the numerical results of calculations.\n",
    "\n",
    "When programming, **data structures** are specific ways of holding and organizing information. Each works best for certain types of data, and each provides different ways of interacting with that data. Becoming fluent in pythons data types - and knowing when to use each - will go a long way towards becoming a productive Python programmer.\n",
    "\n"
   ]
  },
  {
   "cell_type": "markdown",
   "metadata": {},
   "source": [
    "## Data types you've probably already encountered...\n",
    "\n",
    "If you completed the introduction to python in [Exploring Python](./exploring_python.ipynb), then you have already used three python data types:\n",
    "* when you typed print(\"Hello World!\"), the text \"Hello World!\" was represented as a **string** (str) object. Strings are a built-in data type that holds text.\n",
    "* when you typed x = 3 + 7, the numbers 3 and 7 were **integer** (int) objects. Integers represent round numbers.\n",
    "* when we calculated the mass of an ever-growing ball of bacteria that swiftly swallowed the entire solar system, the decimal number representing that mass was represented by a **float** (float) object. Float objects hold decimal point numbers. Unlike integers, floats are not always perfectly precise (a common computational limitation known as [floating point error](https://en.wikipedia.org/wiki/Floating-point_arithmetic#Accuracy_problems)).\n",
    "\n",
    "\n",
    "\n",
    "\n"
   ]
  },
  {
   "cell_type": "code",
   "execution_count": 69,
   "metadata": {},
   "outputs": [
    {
     "name": "stdout",
     "output_type": "stream",
     "text": [
      "What type of data does the n_frogs variable hold?  <class 'int'>\n",
      "What type of data does the region variable hold?  <class 'str'>\n",
      "What type of data does the percent_female variable hold? <class 'float'>\n"
     ]
    }
   ],
   "source": [
    "n_frogs = 470\n",
    "print(\"What type of data does the n_frogs variable hold? \",type(n_frogs))\n",
    "\n",
    "region = \"Iquitos\"\n",
    "print(\"What type of data does the region variable hold? \",type(region))\n",
    "\n",
    "percent_female = 275/n_frogs\n",
    "print(\"What type of data does the percent_female variable hold?\",type(percent_female))"
   ]
  },
  {
   "cell_type": "markdown",
   "metadata": {},
   "source": [
    "## Mutable vs. Immutable Data Types\n",
    "\n",
    "When organizing large bodies of information, I find it helpful to have bins to put things into. Data types in python are organized into two main bins: those that are mutable vs. those that are immutable. Mutable means changeable - so mutable data types can be changed 'in place' without creating a new variable. In contrast immutable data types cannot be changed once created. \n",
    "\n",
    "Let's take a tour of some common data types in python. For each data type I try to give examples of how to use them without using any syntax that we haven't yet seen. However, be aware that some data types only really shine when used in conjunction with if statements or for loops."
   ]
  },
  {
   "cell_type": "markdown",
   "metadata": {},
   "source": [
    "## Common Immutable Data Types in Python\n",
    "\n",
    "### Integers (int)\n",
    "\n",
    "Integers represent round numbers. You can create them by setting a variable equal to a round number. Here are a couple examples:"
   ]
  },
  {
   "cell_type": "code",
   "execution_count": 70,
   "metadata": {},
   "outputs": [],
   "source": [
    "population_size = 200\n",
    "generations_to_simulate = 1000"
   ]
  },
  {
   "cell_type": "markdown",
   "metadata": {},
   "source": [
    "You can convert decimal or floating point numbers (see below) to integers using the **int** function. Importantly, this rounds the floating point number **down** to the nearest int. "
   ]
  },
  {
   "cell_type": "code",
   "execution_count": 71,
   "metadata": {},
   "outputs": [
    {
     "name": "stdout",
     "output_type": "stream",
     "text": [
      "The experiment ran for about 3 years\n"
     ]
    }
   ],
   "source": [
    "years = 3.8\n",
    "whole_years = int(years)\n",
    "print(\"The experiment ran for about\", whole_years, \"years\")"
   ]
  },
  {
   "cell_type": "markdown",
   "metadata": {},
   "source": [
    "If you want to use conventional rounding rules you can call the **round** function before converting to an integer with the int function"
   ]
  },
  {
   "cell_type": "code",
   "execution_count": 44,
   "metadata": {},
   "outputs": [
    {
     "name": "stdout",
     "output_type": "stream",
     "text": [
      "The experiment ran for about 3 years\n",
      "Wait WTF that's not right!\n",
      "The experiment ran for about 4 years\n"
     ]
    }
   ],
   "source": [
    "years = 3.8\n",
    "whole_years = int(years)\n",
    "print(\"The experiment ran for about\", whole_years, \"years\")\n",
    "print(\"Wait WTF that's not right!\")\n",
    "whole_years = int(round(years))\n",
    "print(\"The experiment ran for about\", whole_years, \"years\")"
   ]
  },
  {
   "cell_type": "markdown",
   "metadata": {},
   "source": [
    "Note that when you perform mathematical operations on integers, the result may not be an integer:"
   ]
  },
  {
   "cell_type": "code",
   "execution_count": 51,
   "metadata": {},
   "outputs": [
    {
     "name": "stdout",
     "output_type": "stream",
     "text": [
      "type(x): <class 'int'>\n",
      "type(y): <class 'int'>\n",
      "type(result): <class 'float'>\n"
     ]
    }
   ],
   "source": [
    "x = 5\n",
    "y = 10\n",
    "result = x/y\n",
    "print(\"type(x):\",type(x))\n",
    "print(\"type(y):\",type(y))\n",
    "print(\"type(result):\",type(result))"
   ]
  },
  {
   "cell_type": "markdown",
   "metadata": {},
   "source": [
    "### Boolean Values (bool)\n",
    "\n",
    "Boolean values represent truth or falsehood. In python they are represented by the words True (with just the first T capitalized) or False (with just the first F capitalized). Boolean values can be assigned directly, and are returned when comparisons are performed. \n",
    "\n",
    "#### Comparison operators\n",
    "\n",
    "Common comparison operators used with boolean values are:\n",
    "\n",
    "**\\>** (greater than)\n",
    "\n",
    "**<** (less than)\n",
    "\n",
    "**\\>=** (greater than or equal to)\n",
    "\n",
    "**<=** (less than or equal to)\n",
    "\n",
    "**==** (equals)\n",
    "\n",
    "**!=** (not equal)\n",
    "\n",
    "**and** (evaluates to True if both the right and left operators are True)\n",
    "\n",
    "**or** (evaluates to True if the left operator evaluates to true, if not evaluates to True if the right operator evaluates to True)\n",
    "\n",
    "**not** (reverses the truth value of what follows)\n",
    "\n",
    "#### Some examples using Boolean Values:"
   ]
  },
  {
   "cell_type": "code",
   "execution_count": 9,
   "metadata": {},
   "outputs": [
    {
     "name": "stdout",
     "output_type": "stream",
     "text": [
      "Does 7 equal 3?  False\n"
     ]
    }
   ],
   "source": [
    "print(\"Does 7 equal 3? \", 7 == 3)"
   ]
  },
  {
   "cell_type": "code",
   "execution_count": 25,
   "metadata": {},
   "outputs": [
    {
     "name": "stdout",
     "output_type": "stream",
     "text": [
      "True\n"
     ]
    }
   ],
   "source": [
    "save_output_file = True\n",
    "print(save_output_file)"
   ]
  },
  {
   "cell_type": "code",
   "execution_count": 26,
   "metadata": {},
   "outputs": [
    {
     "name": "stdout",
     "output_type": "stream",
     "text": [
      "True and False: False\n",
      "True or False: True\n",
      "False or True: True\n"
     ]
    }
   ],
   "source": [
    "print(\"True and False:\",True and False)\n",
    "print(\"True or False:\",True or False)\n",
    "print(\"False or True:\",False or True)"
   ]
  },
  {
   "cell_type": "code",
   "execution_count": 27,
   "metadata": {},
   "outputs": [
    {
     "name": "stdout",
     "output_type": "stream",
     "text": [
      "Is this organism capable of reproduction? True\n"
     ]
    }
   ],
   "source": [
    "alive = True\n",
    "infertile = False\n",
    "\n",
    "capable_of_reproduction = alive and not infertile\n",
    "print(\"Is this organism capable of reproduction?\", capable_of_reproduction)"
   ]
  },
  {
   "cell_type": "markdown",
   "metadata": {},
   "source": [
    "#### When to use Boolean values.\n",
    "\n",
    "Boolean values are commonly used in conjuction with **if statements** which allows your program to do different things in different conditions."
   ]
  },
  {
   "cell_type": "markdown",
   "metadata": {},
   "source": [
    "### Strings (str)\n",
    "\n",
    "Strings in python, as we noted above, are immutable objects that hold text. Other data types can be converted to text by use of the **str** function. "
   ]
  },
  {
   "cell_type": "code",
   "execution_count": 34,
   "metadata": {},
   "outputs": [],
   "source": [
    "correlation_method = \"Spearman\""
   ]
  },
  {
   "cell_type": "markdown",
   "metadata": {},
   "source": [
    "Strings have many useful methods for generating new strings based on the content they contain:"
   ]
  },
  {
   "cell_type": "code",
   "execution_count": 73,
   "metadata": {},
   "outputs": [
    {
     "name": "stdout",
     "output_type": "stream",
     "text": [
      "Original DNA sequence: ATACGTACGTACTTGCTTTTTGCTTGCTACGTAGGGGGAAAAAGTACGGTACGTACGATTCGTCGTAACG\n",
      "Original DNA sequence length: 70\n",
      "Lowercase DNA sequence: atacgtacgtacttgctttttgcttgctacgtagggggaaaaagtacggtacgtacgattcgtcgtaacg\n",
      "Lowercase RNA sequence: auacguacguacuugcuuuuugcuugcuacguagggggaaaaaguacgguacguacgauucgucguaacg\n",
      "RNA split up into a list by dividing it on 'ua' strings: ['a', 'cg', 'cg', 'cuugcuuuuugcuugc', 'cg', 'gggggaaaaag', 'cgg', 'cg', 'cgauucgucg', 'acg']\n",
      "new RNA (produced by joining fragments): auacguacguacuugcuuuuugcuugcuacguagggggaaaaaguacgguacguacgauucgucguaacg\n",
      "Is the new RNA identical to the old one? True\n"
     ]
    }
   ],
   "source": [
    "dna_seq = \"ATACGTACGTACTTGCTTTTTGCTTGCTACGTAGGGGGAAAAAGTACGGTACGTACGATTCGTCGTAACG\"\n",
    "print(\"Original DNA sequence:\",dna_seq)\n",
    "\n",
    "#the len function is commonly used with strings -\n",
    "#it returns an integer representing the length of your string\n",
    "print(\"Original DNA sequence length:\",len(dna_seq))\n",
    "\n",
    "#generate a new lowercase version of the string \n",
    "#and save it to the dna_seq variable \n",
    "#(replacing the old uppercase string)\n",
    "dna_seq = dna_seq.lower()\n",
    "print(\"Lowercase DNA sequence:\",dna_seq)\n",
    "\n",
    "#The replace function lets you substitute\n",
    "#one substring with another\n",
    "rna_seq = dna_seq.replace(\"t\",\"u\")\n",
    "print(\"Lowercase RNA sequence:\",rna_seq)\n",
    "\n",
    "#Split up a string into a list by dividing it based on a 'delimiting' character\n",
    "#Note that the delimiting string will be removed\n",
    "rna_fragments = rna_seq.split(\"ua\")\n",
    "print(\"RNA split up into a list by dividing it on 'ua' strings:\",rna_fragments)\n",
    "\n",
    "#Join together a list of strings to make it a single string, optionally adding a delimiter between each entry:\n",
    "delimiter = 'ua'\n",
    "new_rna = delimiter.join(rna_fragments)\n",
    "print(\"new RNA (produced by joining fragments):\",new_rna)\n",
    "print(\"Is the new RNA identical to the old one?\", new_rna == rna_seq)"
   ]
  },
  {
   "cell_type": "markdown",
   "metadata": {},
   "source": [
    "#### String formatting\n",
    "\n",
    "Python provides some nice capabilities for string formatting. The most popular way is to use the format method of the string object. \n",
    "\n",
    "Let's say we want to notify the user of which genome we are currently processing. We can put curly braces into our string to act as placeholders for the genome and its length"
   ]
  },
  {
   "cell_type": "code",
   "execution_count": 77,
   "metadata": {},
   "outputs": [
    {
     "name": "stdout",
     "output_type": "stream",
     "text": [
      "Currently processing genome Homo sapiens in phylum Eukaryota\n"
     ]
    }
   ],
   "source": [
    "current_genome = \"Homo sapiens\"\n",
    "phylum = \"Eukaryota\"\n",
    "msg_template = \"Currently processing genome {current_genome} in phylum {phylum}\"\n",
    "msg = msg_template.format(current_genome=current_genome,phylum=phylum)\n",
    "print(msg)\n"
   ]
  },
  {
   "cell_type": "markdown",
   "metadata": {},
   "source": [
    "A shortcut to this slightly long syntax is to put an f right before a string definition. If you do, any text in your string inside curly braces will be substituted by the contents of variables with the same name:"
   ]
  },
  {
   "cell_type": "code",
   "execution_count": 83,
   "metadata": {},
   "outputs": [
    {
     "name": "stdout",
     "output_type": "stream",
     "text": [
      "Done processing genome Homo sapiens in phylum Eukaryota\n"
     ]
    }
   ],
   "source": [
    "job_done_msg = f\"Done processing genome {current_genome} in phylum {phylum}\"\n",
    "print(job_done_msg)"
   ]
  },
  {
   "cell_type": "markdown",
   "metadata": {},
   "source": [
    "# Common Mutable Data Types\n",
    "\n",
    "Mutable data types in python tend to be collections that hold other objects. Their ability to change in place lets you add or subtract items from these collections on-the-fly. All mutable types in python have many methods in common. You can find a list of these methods in the [official python type documentation](https://docs.python.org/2/library/stdtypes.html#mutable-sequence-types)"
   ]
  },
  {
   "cell_type": "markdown",
   "metadata": {},
   "source": [
    "## Lists\n",
    "\n",
    "Lists in python are *ordered*, *mutable* collections of any other type of object.  You can have lists of strings, lists of integers, lists that mix strings and integers, lists of other lists (e.g. a list of lists of strings), etc.\n",
    "\n",
    "It is quick to access items in a list by their position (known as indexing - see next chapter), and list methods provide convenient ways to add or remove items from the list.\n",
    "\n",
    "Lists may be defined using square brackets, with commas (,) separating each item in the list. You can also define a list that starts empty using square brackets containing nothing.\n",
    "\n",
    "**Comparison to other languages:** lists in python are referred to in many other languages as an [array](https://en.wikipedia.org/wiki/Comparison_of_programming_languages_(array)). One weakness of python arrays is that they do not support vectorized operation (operations applied to the whole list simultaneously). There is an array object defined in the popular library numpy which allows for true multidimensional arrays and supports vectorized operations. This is widely used in support of many data-heavy applications in python. \n",
    "\n",
    "\n"
   ]
  },
  {
   "cell_type": "code",
   "execution_count": 18,
   "metadata": {},
   "outputs": [],
   "source": [
    "genes = ['ADH1','TLR4','TLR2']"
   ]
  },
  {
   "cell_type": "markdown",
   "metadata": {},
   "source": [
    "As with strings, the len function lets you count up the length of a list:"
   ]
  },
  {
   "cell_type": "code",
   "execution_count": 19,
   "metadata": {},
   "outputs": [
    {
     "name": "stdout",
     "output_type": "stream",
     "text": [
      "There are  3  genes in the list genes\n"
     ]
    }
   ],
   "source": [
    "print(\"There are \",len(genes),\" genes in the list genes\")"
   ]
  },
  {
   "cell_type": "markdown",
   "metadata": {},
   "source": [
    "#### Adding single items to lists with append\n",
    "\n",
    "What if we find a new gene that we should add to the list? Unlike in languages where the length of an array must be fixed at the time it is created, in python lists can grow or shrink in size dynamically. We can use the append method to add *one* new item to the list. "
   ]
  },
  {
   "cell_type": "code",
   "execution_count": 20,
   "metadata": {},
   "outputs": [
    {
     "name": "stdout",
     "output_type": "stream",
     "text": [
      "Updated gene list: ['ADH1', 'TLR4', 'TLR2', 'IL-1R']\n"
     ]
    }
   ],
   "source": [
    "extra_gene = \"IL-1R\"\n",
    "genes.append(extra_gene)\n",
    "print(\"Updated gene list:\",genes)"
   ]
  },
  {
   "cell_type": "markdown",
   "metadata": {},
   "source": [
    "Note that we did **not** say genes = genes.append(extra_gene)! Since lists are mutable, the append method changes the list of genes in place - it does not return a new list of genes. This is advantageous when keeping very large lists (say millions or billions of entries) that must frequently change - we don't have to duplicate the entire list everytime we modify it, which would end up using excessive amounts of RAM."
   ]
  },
  {
   "cell_type": "markdown",
   "metadata": {},
   "source": [
    "#### Adding multiple items to a list with extend\n",
    "\n",
    "Let's say we wanted to add a bunch of items to our list. We might be tempted to use the append method. However, that will add ALL the items to our list as a single new entry, which is often not what we want. If we want to add multiple items to a list one by one, we can use the list extend method:"
   ]
  },
  {
   "cell_type": "code",
   "execution_count": 21,
   "metadata": {},
   "outputs": [
    {
     "name": "stdout",
     "output_type": "stream",
     "text": [
      "Updated gene list ['ADH1', 'TLR4', 'TLR2', 'IL-1R', 'NLRX1', 'CBX3']\n"
     ]
    }
   ],
   "source": [
    "more_genes = [\"NLRX1\",\"CBX3\"]\n",
    "genes.extend(more_genes)\n",
    "print(f\"Updated gene list {genes}\")"
   ]
  },
  {
   "cell_type": "markdown",
   "metadata": {},
   "source": [
    "#### Check if an item is in a list\n",
    "\n",
    "You can use the **in** keyword to check if a particular item is in a list. The expression will return True or False based on whether that exact value is present somewhere in the lsit:"
   ]
  },
  {
   "cell_type": "code",
   "execution_count": 22,
   "metadata": {},
   "outputs": [
    {
     "name": "stdout",
     "output_type": "stream",
     "text": [
      "Does this list have ADH1 in it? True\n"
     ]
    }
   ],
   "source": [
    "has_ADH1 = 'ADH1' in genes\n",
    "print(f\"Does this list have ADH1 in it? {has_ADH1}\")"
   ]
  },
  {
   "cell_type": "markdown",
   "metadata": {},
   "source": [
    "#### Select items from a list using indexing\n",
    "\n",
    "We can get back an entry from a list using **indexing** or more than one using **slicing**. To index into a list, use square brackets after the variable holding the list, and put inside an integer representing the position in the list you want to access, counting from 0:"
   ]
  },
  {
   "cell_type": "code",
   "execution_count": 23,
   "metadata": {},
   "outputs": [
    {
     "name": "stdout",
     "output_type": "stream",
     "text": [
      "The first gene is ADH1\n"
     ]
    }
   ],
   "source": [
    "#Get the first gene in our list of genes\n",
    "\n",
    "first_gene = genes[0]\n",
    "print(f\"The first gene is {first_gene}\")"
   ]
  },
  {
   "cell_type": "markdown",
   "metadata": {},
   "source": [
    "You can also index in reverse order using negative numbers, such that the last item is at index -1, the next to last item is at index -2 etc:\n",
    "\n"
   ]
  },
  {
   "cell_type": "code",
   "execution_count": 24,
   "metadata": {},
   "outputs": [
    {
     "name": "stdout",
     "output_type": "stream",
     "text": [
      "The next to last gene is: NLRX1\n"
     ]
    }
   ],
   "source": [
    "next_to_last_gene = genes[-2]\n",
    "print(f\"The next to last gene is: {next_to_last_gene}\")"
   ]
  },
  {
   "cell_type": "markdown",
   "metadata": {},
   "source": [
    "The index that you pass can be a variable holding an integer rather than the number itself:"
   ]
  },
  {
   "cell_type": "code",
   "execution_count": 109,
   "metadata": {},
   "outputs": [
    {
     "name": "stdout",
     "output_type": "stream",
     "text": [
      "The gene at index 3 is: IL-1R\n"
     ]
    }
   ],
   "source": [
    "gene_idx = 3\n",
    "curr_gene = genes[gene_idx]\n",
    "print(f\"The gene at index {gene_idx} is: {curr_gene}\")"
   ]
  },
  {
   "cell_type": "markdown",
   "metadata": {},
   "source": [
    "#### Find the position of the first occurence of an item in a list using index\n",
    "\n",
    "You can find the first occurence of an item in a list using the list index method. If the order of our list of genes represented the physical order of those genes on a chromosome, we could then use the index method to find the location of the gene, and by adding or subtracting from that index, look up neighboring genes:"
   ]
  },
  {
   "cell_type": "code",
   "execution_count": 110,
   "metadata": {},
   "outputs": [
    {
     "name": "stdout",
     "output_type": "stream",
     "text": [
      "Genomic neighborhood of the Adh1 gene: ['TLR4', 'TLR2', 'IL-1R']\n"
     ]
    }
   ],
   "source": [
    "gene_of_interest = 'TLR2'\n",
    "\n",
    "gene_idx = genes.index(gene_of_interest)\n",
    "upstream_gene_idx = gene_idx - 1\n",
    "downstream_gene_idx = gene_idx +2 #has to be +2 because index is to the START of the gene of interest\n",
    "\n",
    "nearby_genes = genes[upstream_gene_idx:downstream_gene_idx]\n",
    "print(\"Genomic neighborhood of the Adh1 gene:\",nearby_genes)"
   ]
  },
  {
   "cell_type": "markdown",
   "metadata": {},
   "source": [
    "## Dictionaries in python\n",
    "\n",
    "Much like a physical dictionary let you quickly flip to a particular page and look up the definition of a word, python dictionaries let you rapidly find a *value* (which can be any type of object) from a key (which can be any immutable object). This lookup is extremely fast and memory-efficient, and so gets widely used in python code.\n",
    "\n",
    "**Comparison to other languages:** Dictionaries in python are a type of [associative array](https://en.wikipedia.org/wiki/Comparison_of_programming_languages_(associative_array)#Python), somewhat similar to Map objects (specifically HashMap) in Java or property-value mapping within objects in JavaScript. There isn't a direct equivalent in C, though 3rd party libraries implement similar structures.\n",
    "\n",
    "**Common uses**: In bioinformatics, dictionaries are often used to hold the function of genes, counts of nucleotides or k-mers (sequences of k nucleotides in a row like \"CCAG\"), counts of species, mappings of identifiers for the same gene between different databases, holding tables of which codons translate to which amino acids, etc. A common pattern is to have a list of identifiers, and to use a **for loop** to look up some piece of information about each item in the list from a dictionary.\n",
    "\n",
    "Dictionaries are defined using curly braces {} (hold shift while hitting the square bracket key to write this character). \n",
    "\n",
    "Let's define a dictionary mapping the complement of each unambiguous nucleotide:"
   ]
  },
  {
   "cell_type": "code",
   "execution_count": 86,
   "metadata": {},
   "outputs": [],
   "source": [
    "complements = {\"A\":\"T\",\"T\":\"A\",\"G\":\"C\",\"C\":\"G\"}"
   ]
  },
  {
   "cell_type": "markdown",
   "metadata": {},
   "source": [
    "We can look up the value associated with a key by *indexing* into the dictionary using square brackets containing the value we want to look up. \n",
    "\n",
    "For example, to find the complement of A, we would write:"
   ]
  },
  {
   "cell_type": "code",
   "execution_count": 96,
   "metadata": {},
   "outputs": [
    {
     "name": "stdout",
     "output_type": "stream",
     "text": [
      "The complement of A is T\n"
     ]
    }
   ],
   "source": [
    "curr_nt = \"A\"\n",
    "curr_nt_complement = complements[curr_nt]\n",
    "print(f\"The complement of {curr_nt} is {curr_nt_complement}\")"
   ]
  },
  {
   "cell_type": "markdown",
   "metadata": {},
   "source": [
    "## Sets\n",
    "\n",
    "Sets in python are collections that hold unique items. Sets can be compared with one another to produce sets using unions, intersections, and other set operations. If it helps, think about sets like what is represented by a Venn Diagram. For example, the intersection of two sets would be the items in the center of a Venn Diagram\n",
    "\n",
    "**How to define a set**: you can define an empty set by calling set(), or you can define a list and convert it to a set by calling set on your list: set([my_list_here])\n",
    "\n",
    "**When to use sets**: a very common use of sets is to take a list of items and call set() on it to get back just the unique items in the list. Sets are broadly useful anytime you want to compare unique values. Examples include set operations during ancestral state reconstruction in phylogenetics and comparison of sets of species when calculating the difference between ecological communities (beta-diversity). "
   ]
  },
  {
   "cell_type": "markdown",
   "metadata": {},
   "source": [
    "Sets are unique, so even if a list has multiple copies of an item, it will show up just once in the set"
   ]
  },
  {
   "cell_type": "code",
   "execution_count": 6,
   "metadata": {},
   "outputs": [
    {
     "name": "stdout",
     "output_type": "stream",
     "text": [
      "{'A', 'C', 'T', 'G'}\n"
     ]
    }
   ],
   "source": [
    "dna_seq = \"AATTGTGGTACGCTGGGCTATACCCTATATTAGGGGCATACGACGGCATCGTAC\"\n",
    "nucleotides_in_seq = set(dna_seq)\n",
    "print(nucleotides_in_seq)"
   ]
  },
  {
   "cell_type": "markdown",
   "metadata": {},
   "source": [
    "This feature of sets is extremely useful. If you have a list with lots of repeated elements you can call list(set(my_list)) to convert to a set (getting just the unique elements) then immediately convert back to a list. (Note though that you aren't guaranteed that the order of your list will be preserved).\n",
    "\n",
    "\n",
    "#### Unions and intersections with sets\n",
    "Set objects are also often used for comparison using union and intersection operations. Let's define a simple set of animal common names to try out unions and intersections:"
   ]
  },
  {
   "cell_type": "code",
   "execution_count": 3,
   "metadata": {},
   "outputs": [],
   "source": [
    "#Define some sets \n",
    "flying_animals = set(['Hawaiian crow','Flying Fox','Fruit Bat','Bumblebee'])\n",
    "mammals = set(['Fox','Wolf','Rhino','Flying Fox','Fruit Bat'])"
   ]
  },
  {
   "cell_type": "markdown",
   "metadata": {},
   "source": [
    "The **intersection** of two sets (A & B) is the set of items in *both* sets\n",
    "The **union** of two sets (A|B) is the set of all items in *at least one* of the sets. The **symmetric difference**  (A^B) between sets is the set of items that are present in one set or the other *but not both*."
   ]
  },
  {
   "cell_type": "code",
   "execution_count": 11,
   "metadata": {},
   "outputs": [
    {
     "name": "stdout",
     "output_type": "stream",
     "text": [
      "Flying mammals: {'Fruit Bat', 'Flying Fox'}\n",
      "{'Wolf', 'Fox', 'Rhino', 'Bumblebee', 'Hawaiian crow'}\n"
     ]
    }
   ],
   "source": [
    "# The intersection of a set is what's in common with another set\n",
    "flying_mammals = flying_animals.intersection(mammals)\n",
    "print(\"Flying mammals:\",flying_mammals)\n",
    "\n",
    "non_flying_mammals_and_non_mammal_fliers = flying_animals.symmetric_difference(mammals)\n",
    "print(non_flying_mammals_and_non_mammal_fliers)"
   ]
  },
  {
   "cell_type": "markdown",
   "metadata": {},
   "source": [
    "## Converting between data types"
   ]
  },
  {
   "cell_type": "markdown",
   "metadata": {},
   "source": [
    "It is important to note that in Python sometimes similar seeming things can be represented by more than one possible data type. This can be a source of significant confusion early on - for example, the text representation of a number in python is distinct from the mathematical version of the number:"
   ]
  },
  {
   "cell_type": "code",
   "execution_count": 9,
   "metadata": {},
   "outputs": [
    {
     "name": "stdout",
     "output_type": "stream",
     "text": [
      "Is 7 as a string equal to 7 as a number? False\n"
     ]
    }
   ],
   "source": [
    "number_as_string = \"7\"\n",
    "number_as_int = 7\n",
    "print(\"Is 7 as a string equal to 7 as a number?\",number_as_string == number_as_int)"
   ]
  },
  {
   "cell_type": "markdown",
   "metadata": {},
   "source": [
    "The general solution to this problem is to use conversion functions to convert the data type to the one you want. For example, to resolve our problem above, we can use the **int** function to convert \"7\" to 7 before comparison:"
   ]
  },
  {
   "cell_type": "code",
   "execution_count": 88,
   "metadata": {},
   "outputs": [
    {
     "name": "stdout",
     "output_type": "stream",
     "text": [
      "Will our comparison work now? True\n"
     ]
    }
   ],
   "source": [
    "x = \"7\"\n",
    "x = int(x)\n",
    "y = 7\n",
    "print(\"Will our comparison work now?\", x == y)"
   ]
  },
  {
   "cell_type": "markdown",
   "metadata": {},
   "source": [
    "## Conclusion\n",
    "\n",
    "There are many data types in python. It's good to have a general sense of what's out there, but don't feel like you have to memorize all of them at once - instead try using what feels appropriate when you get a chance. It will probably take some Googling the first time you use a new data type, but with practice you can add it to your repertoire. Subsequent chapters will introduce these data types one by one, so again don't worry if it is too much to take in at once."
   ]
  },
  {
   "cell_type": "markdown",
   "metadata": {},
   "source": [
    "## Exercises\n",
    "\n",
    "**Exercise 1.** Which Python data structure(s) would you use to represent each of the following types of data, and why? (Note that in some cases there is more than one right answer depending on context - the important part of the exercise is in your consideration). \n",
    "\n",
    "* Which python data structure(s) would you use to represent the number of herbivorous fish on a coral reef?\n",
    "* the number of herbivorous fish on a coral reef, organized by species?\n",
    "* the length of a genome in nucleotides?\n",
    "* the nucleotide sequence of a gene in the human genome (such sequences are represented by the letters A,T,C and G)?\n",
    "5. the function of each gene in a genome (e.g. *Adh1* is a gene that encodes an [alcohol dehydrogense](https://en.wikipedia.org/wiki/Alcohol_dehydrogenase), etc)\n",
    "* the taxonomy of an organism (it's phylum, class, order, family, genus and species)?\n",
    "* the scientific names of all the organisms found in an environment?\n",
    "* the locations of exons in an mRNA (representing each exon as start and stop coordinates relative to the beginning of the mRNA)?\n",
    "\n",
    "*If you get stuck, or if you'd like to have something to compare to once you've tried answering these questions, sample answers are available [here](./exercise_answers_exploring_python_data_types.ipynb)*\n"
   ]
  },
  {
   "cell_type": "markdown",
   "metadata": {},
   "source": [
    "# Further reading\n",
    "\n",
    "If you feel comfortable with these data types, you might be interested to research two other data types in python commonly used in bioinformatics. Unlike the above data types these are not built in to python, but must be imported from extra libraries. These are:\n",
    "\n",
    "**arrays**: arrays come from the [numpy](https://numpy.org/) library (numpy is pronounced NUM-PIE for 'numerical python'). They let you do math with whole matrices of numbers at once. They are also often much faster to work with than large lists, and so get used in a really wide variety of python projects with a mathematical or data analysis component. Among many other ways of making an array, you can produce one by calling the `array` function on a list of numbers\n",
    "\n",
    "A quick example of using a numpy array to perform a calculation on a whole matrix of numbers at once is given below. In the example, we imagine that we want to predict some y values for a bunch of different points x, using the equation (y = mx + b where m is the slope and b is the intercept). A numpy array let's us do this for any number of points at once:"
   ]
  },
  {
   "cell_type": "code",
   "execution_count": 6,
   "metadata": {},
   "outputs": [
    {
     "name": "stdout",
     "output_type": "stream",
     "text": [
      "x: [0. 1. 2. 3. 4. 5.]\n",
      "y: [10. 13. 16. 19. 22. 25.]\n"
     ]
    }
   ],
   "source": [
    "from numpy import array\n",
    "\n",
    "x_data = [0.0,1.0,2.0,3.0,4.0,5.0]\n",
    "x_data = array(x_data)\n",
    "\n",
    "slope = 3.0\n",
    "intercept = 10.0\n",
    "\n",
    "y_values = x_data * slope + intercept\n",
    "\n",
    "print(f\"x: {x_data}\")\n",
    "print(f\"y: {y_values}\")"
   ]
  },
  {
   "cell_type": "markdown",
   "metadata": {},
   "source": [
    "**dataframes**: dataframes come from the [pandas](https://pandas.pydata.org/) package, and represent tables of data with labelled headers. They are an extremely convenient and powerful way to organize tabular data. They also are used by many graphing libraries (e.g. [seaborn](https://seaborn.pydata.org/)), and make it much easier to write code for the graph you want by effectively saying which column you want to plot on e.g. the x and y axis of a scatterplot."
   ]
  },
  {
   "cell_type": "code",
   "execution_count": 19,
   "metadata": {
    "scrolled": true
   },
   "outputs": [
    {
     "data": {
      "text/html": [
       "<div>\n",
       "<style scoped>\n",
       "    .dataframe tbody tr th:only-of-type {\n",
       "        vertical-align: middle;\n",
       "    }\n",
       "\n",
       "    .dataframe tbody tr th {\n",
       "        vertical-align: top;\n",
       "    }\n",
       "\n",
       "    .dataframe thead th {\n",
       "        text-align: right;\n",
       "    }\n",
       "</style>\n",
       "<table border=\"1\" class=\"dataframe\">\n",
       "  <thead>\n",
       "    <tr style=\"text-align: right;\">\n",
       "      <th></th>\n",
       "      <th>x</th>\n",
       "      <th>y</th>\n",
       "    </tr>\n",
       "  </thead>\n",
       "  <tbody>\n",
       "    <tr>\n",
       "      <th>0</th>\n",
       "      <td>0.0</td>\n",
       "      <td>10.0</td>\n",
       "    </tr>\n",
       "    <tr>\n",
       "      <th>1</th>\n",
       "      <td>1.0</td>\n",
       "      <td>13.0</td>\n",
       "    </tr>\n",
       "    <tr>\n",
       "      <th>2</th>\n",
       "      <td>2.0</td>\n",
       "      <td>16.0</td>\n",
       "    </tr>\n",
       "    <tr>\n",
       "      <th>3</th>\n",
       "      <td>3.0</td>\n",
       "      <td>19.0</td>\n",
       "    </tr>\n",
       "    <tr>\n",
       "      <th>4</th>\n",
       "      <td>4.0</td>\n",
       "      <td>22.0</td>\n",
       "    </tr>\n",
       "    <tr>\n",
       "      <th>5</th>\n",
       "      <td>5.0</td>\n",
       "      <td>25.0</td>\n",
       "    </tr>\n",
       "  </tbody>\n",
       "</table>\n",
       "</div>"
      ],
      "text/plain": [
       "     x     y\n",
       "0  0.0  10.0\n",
       "1  1.0  13.0\n",
       "2  2.0  16.0\n",
       "3  3.0  19.0\n",
       "4  4.0  22.0\n",
       "5  5.0  25.0"
      ]
     },
     "execution_count": 19,
     "metadata": {},
     "output_type": "execute_result"
    }
   ],
   "source": [
    "from pandas import DataFrame\n",
    "\n",
    "data = {\"x\":[0., 1., 2., 3., 4., 5.],\"y\":[10., 13., 16., 19., 22., 25.]}\n",
    "df = DataFrame(data)\n",
    "df"
   ]
  },
  {
   "cell_type": "markdown",
   "metadata": {},
   "source": [
    "## [Reading Responses & Feedback](https://docs.google.com/forms/d/e/1FAIpQLSeUQPI_JbyKcX1juAFLt5z1CLzC2vTqaCYySUAYCNElNwZqqQ/viewform?usp=pp_url&entry.2118603224=Exploring+Python+-+Data+Types)"
   ]
  }
 ],
 "metadata": {
  "kernelspec": {
   "display_name": "Python 3",
   "language": "python",
   "name": "python3"
  },
  "language_info": {
   "codemirror_mode": {
    "name": "ipython",
    "version": 3
   },
   "file_extension": ".py",
   "mimetype": "text/x-python",
   "name": "python",
   "nbconvert_exporter": "python",
   "pygments_lexer": "ipython3",
   "version": "3.7.2"
  }
 },
 "nbformat": 4,
 "nbformat_minor": 2
}
