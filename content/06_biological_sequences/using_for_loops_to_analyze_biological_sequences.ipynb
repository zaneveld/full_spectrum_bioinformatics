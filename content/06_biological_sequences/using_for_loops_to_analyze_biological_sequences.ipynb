{
 "cells": [
  {
   "cell_type": "markdown",
   "metadata": {},
   "source": [
    "<img src=\"./resources/for_loops_banner.png\" width=\"1000\" align=\"center\"  description=\"A decorative banner with schematics representing for loops, if statements and functions.\"> \n",
    "\n",
    "# Analyzing Biological Sequences using For Loops, If Statements & Functions\n",
    "\n",
    "This section discusses how to analyze biological sequences using a variety of different control structures: if statements, for loops and functions. These are extremely powerful foundations for almost all coding, and well worth practicing extensively. We will show a couple examples, but it is most important to work with each type of control structure enough (even using silly examples!) so that you can apply them creatively to solve your own problems of interest. Because this is often a big jump, we'll talk through several examples of how to solve some simple sequence analysis problems using if statements and for loops, and how to wrap up each solution as a python function.\n",
    "   \n",
    "#### In this section you will learn to\n",
    "* Use the string count method to measure the composition of a biological sequence\n",
    "* Write code to calculate GC content of a DNA sequence\n",
    "* Write code to calculate amino acid composition of a sequence\n",
    "* Write code to calculate sequence identity for a pair of DNA sequences\n",
    "* The principle of DRY (do not repeat yourself) coding\n",
    "* Use `for` loops to simplify repetitive code\n",
    "* How to use `if` statements to let your code handle different conditions\n",
    "* Use function `def`initions to make custom functions that allow code to easily be rerun on different data\n",
    "\n",
    "\n",
    "#### Prerequisites for this section\n",
    "* Have Anaconda python installed\n",
    "* Be familiar with how to run python\n",
    "* Be familiar with the Central Dogma of Molecular Biology, and how to represent DNA,RNA, and Protein sequences using python strings.\n",
    "* Be familiar with how to use python like a calculator including:\n",
    "   * assigning variables\n",
    "   * order of operations\n",
    "   * multiplication and division\n",
    "   * basic string operations  \n",
    "* It's helpful to be familiar with and have already practiced string indexing and slicing (e.g. `\"Hi!\"[-1]`)\n",
    "* How to call functions in python (e.g. `print(\"Hello World!\")`)\n",
    "* How to run string methods in python (e.g. `\"Hello World\".lower()`)"
   ]
  },
  {
   "cell_type": "markdown",
   "metadata": {},
   "source": [
    "## Using for loops and dictionaries to analyze biological sequences."
   ]
  },
  {
   "cell_type": "markdown",
   "metadata": {},
   "source": [
    "Before we learn about python for loops and dictionaries and how they apply to biological problems, let us start with a biological application: calculating the GC content of a sequence. We'll try solving it without for loops or dictionaries, and then consider how we can use these features of python to develop a better solution.\n",
    "\n",
    "#### Introduction: calculating the GC content of a sequence\n",
    "\n",
    "The [GC content](https://en.wikipedia.org/wiki/GC-content#Applications) of DNA or RNA sequences is defined as the percentage of total nucleotides that are G or C out of the total count of all nucleotides in the sequence. Let's use what we know so far to calculate the GC content of an example DNA sequence. \n",
    "\n",
    "**Goal**: given a DNA sequence represented as a string, calculate the percentage GC content of that sequence.\n",
    "\n",
    "**Approach**: we will use the **count** method of python string objects to count up how many 'A','G','C',and 'T' strings occur in our sequence and then do some arithmatic to convert those counts into GC content."
   ]
  },
  {
   "cell_type": "code",
   "execution_count": 42,
   "metadata": {},
   "outputs": [
    {
     "name": "stdout",
     "output_type": "stream",
     "text": [
      "The GC content of our sequence is: 76.28571428571429\n"
     ]
    }
   ],
   "source": [
    "DNA_sequence = \"\"\"CTCAGTCAGGCGCTCAGCTCCGTTTCGGTTTCACTTCCGGTGGAGGGCCGCCTCTGAGCGGGCGGCGGGCCGACGGCGAGCGCGGGCGGCGGCGGTGACGGAGGCGCCGCTGCCAGGGGGCGTGCGGCAGCGCGGCGGCGGCGGCGGCGGCGGCGGCGGCGGAGGCGGCGGCGGCGGCGGCGGCGGCGGCGGCTGGGCCTCGAGCGCCCGCAGCCCACCTCTCGGGGGCGGGCTCCCGGCGCTAGCAGGGCTGAAGAGAAGATGGAGGAGCTGGTGGTGGAAGTGCGGGGCTCCAATGGCGCTTTCTACAAGGTACTTGGCTCTAGGGCAGGCCCCATCTTCGCCCTTCC\"\"\"\n",
    "\n",
    "total_nucleotides = len(DNA_sequence)\n",
    "\n",
    "g_count = DNA_sequence.count(\"G\")\n",
    "c_count = DNA_sequence.count(\"C\")\n",
    "\n",
    "gc_content = ((g_count + c_count)/total_nucleotides)*100\n",
    "print(f\"The GC content of our sequence is: {gc_content}\")\n"
   ]
  },
  {
   "cell_type": "markdown",
   "metadata": {},
   "source": [
    "So we've defined a new python string called DNA sequence, and pasted into it the sequence of a human gene - in this case the *FMR1* gene on the X-chromosome. We've used len to count up the total nucleotides in that function, and repeated applications of the string count method to count up the frequency of each nucleotide. Then we do a little division to calculate the fraction of Gs and Cs, and multiply by 100 to make it a percentage.\n",
    "\n"
   ]
  },
  {
   "cell_type": "markdown",
   "metadata": {},
   "source": [
    "### Wrap up our GC content code as a function and test it\n",
    "\n",
    "To make our code reusable, we can wrap it up into a function. This is similar to what we did above, \n",
    "except that we will need to name our function and allow the DNA_sequence will be passed in as a parameter. Instead of just printing our results, we will `return` them, which allows the numbers to be used in later calculations. \n",
    "\n",
    "Here's how a function definition for our `calc_GC` function could look:"
   ]
  },
  {
   "cell_type": "code",
   "execution_count": 3,
   "metadata": {},
   "outputs": [],
   "source": [
    "def calc_GC(DNA_sequence):\n",
    "    \"\"\"Calculate the fraction of a DNA sequence that is G or C\n",
    "    DNA -- a DNA sequence as a python string\n",
    "    \"\"\"\n",
    "    total_nucleotides = len(DNA_sequence)\n",
    "\n",
    "    g_count = DNA_sequence.count(\"G\")\n",
    "    c_count = DNA_sequence.count(\"C\")\n",
    "\n",
    "    gc_content = ((g_count + c_count)/total_nucleotides)*100\n",
    "    return gc_content"
   ]
  },
  {
   "cell_type": "markdown",
   "metadata": {},
   "source": [
    "Now let's test our function. First, we can make sure our function works on a basic sequence like 'agtc' where we know GC content should be 50%. We'll define our input and expected result by hand, then call our function and assign that to the `observed` variabe. Then we can test if we got what we expected."
   ]
  },
  {
   "cell_type": "code",
   "execution_count": 9,
   "metadata": {},
   "outputs": [
    {
     "name": "stdout",
     "output_type": "stream",
     "text": [
      "50.0\n",
      "calc_GC gets 50.0 on input seq AGTC..............True\n"
     ]
    }
   ],
   "source": [
    "seq = 'AGTC'\n",
    "expected = 50.0\n",
    "observed = calc_GC(seq)\n",
    "print(observed)\n",
    "\n",
    "#Floating point numbers can have tiny variations\n",
    "#so here we're rounding before testing for equality\n",
    "result = round(expected,3) == round(observed,3)\n",
    "\n",
    "print(f\"calc_GC gets {expected} on input seq {seq}..............{result}\")"
   ]
  },
  {
   "cell_type": "markdown",
   "metadata": {},
   "source": [
    "**Try it yourself**: If you look at the code up above, what do you think would happen if we used 'gggggg' as an input? Write down an expected value, and try running the code on the sequence and see what happens. If it doesn't produce the result you expect, try fixing it so that it does. (*hint*: the `lower()` string method produces a lowercase version of a string, like if `letter = \"A\"` then `letter = letter.lower()` sets letter to `a`)"
   ]
  },
  {
   "cell_type": "markdown",
   "metadata": {},
   "source": [
    "### Applying our Method to Calculate the Amino Acid composition of a Protein\n",
    "\n",
    "Now let's do a similar task but for the amino acid composition of the protein produced by the FMR1 gene. There is no direct analog of GC content for amino acids, so we can instead calculate the percentage of each amino acid in the sequence. "
   ]
  },
  {
   "cell_type": "code",
   "execution_count": 43,
   "metadata": {},
   "outputs": [
    {
     "name": "stdout",
     "output_type": "stream",
     "text": [
      "MEELVVEVRGSNGAFYKAFVKDVHEDSITVAFENNWQPDRQIPFHDVRFPPPVGYNKDINESDEVEVYSRANEKEPCCWWLAKVRMIKGEFYVIEYAACDATYNEIVTIERLRSVNPNKPATKDTFHKIKLDVPEDLRQMCAKEAAHKDFKKAVGAFSVTYDPENYQLVILSINEVTSKRAHMLIDMHFRSLRTKLSLIMRNEEASKQLESSRQLASRFHEQFIVREDLMGLAIGTHGANIQQARKVPGVTAIDLDEDTCTFHIYGEDQDAVKKARSFLEFAEDVIQVPRNLVGKVIGKNGKLIQEIVDKSGVVRVRIEAENEKNVPQEEGMVPFVFVGTKDSIANATVLLDYHLNYLKEVDQLRLERLQIDEQLRQIGASSRPPPNRTDKEKSYVTDDGQGMGRGSRPYRNRGHGRRGPGYTSGTNSEASNASETESDHRDELSDWSLAPTEEERESFLRRGDGRRRGGGGRGQGGRGRGGGFKGNDDHSRTDNRPRNPREAKGRTTDGSLQIPPVKVVGCARVKIVTRRKRSQTAWMVSNHS\n",
      "The following amino acids are in our sequence: {'D', 'N', 'G', 'W', 'P', 'E', 'M', 'S', 'F', 'H', 'R', 'Q', 'K', 'C', 'A', 'Y', 'V', 'T', 'I', 'L'}\n",
      "Total unique amino acids: 20\n",
      "% Alanine: 0.0625\n",
      "% Arginine: 0.09191176470588236\n",
      "% Asparagine: 0.04963235294117647\n",
      "% Aspartic acid: 0.0661764705882353\n"
     ]
    }
   ],
   "source": [
    "protein_sequence =\"\"\"MEELVVEVRGSNGAFYKAFVKDVHEDSITVAFENNWQPDRQIPFHDVRFPPPVGYNKDINESDEVEVYSRANEKEPCCWWLAKVRMIKGEFYVIEYAACDATYNEIVTIERLRSVNPNKPATKDTFHKIKLDVPEDLRQMCAKEAAHKDFKKAVGAFSVTYDPENYQLVILSINEVTSKRAHMLIDMHFRSLRTKLSLIMRNEEASKQLESSRQLASRFHEQFIVREDLMGLAIGTHGANIQQARKVPGVTAIDLDEDTCTFHIYGEDQDAVKKARSFLEFAEDVIQVPRNLVGKVIGKNGKLIQEIVDKSGVVRVRIEAENEKNVPQEEGMVPFVFVGTKDSIANATVLLDYHLNYLKEVDQLRLERLQIDEQLRQIGASSRPPPNRTDKEKSYVTDDGQGMGRGSRPYRNRGHGRRGPGYTSGTNSEASNASETESDHRDELSDWSLAPTEEERESFLRRGDGRRRGGGGRGQGGRGRGGGFKGNDDHSRTDNRPRNPREAKGRTTDGSLQIPPVKVVGCARVKIVTRRKRSQTAWMVSNHS\"\"\"\n",
    "print(protein_sequence)\n",
    "\n",
    "#Let's check which amino acids are in the sequence\n",
    "all_amino_acids = set(protein_sequence)\n",
    "print(\"The following amino acids are in our sequence:\",all_amino_acids)\n",
    "print(\"Total unique amino acids:\",len(all_amino_acids))\n",
    "\n",
    "alanine_count = protein_sequence.count(\"A\")\n",
    "print(\"% Alanine:\",alanine_count/len(protein_sequence))\n",
    "arginine_count = protein_sequence.count(\"R\")\n",
    "print(\"% Arginine:\",arginine_count/len(protein_sequence))\n",
    "asparagine_count = protein_sequence.count(\"N\")\n",
    "print(\"% Asparagine:\",asparagine_count/len(protein_sequence))\n",
    "aspartic_acid_count = protein_sequence.count(\"D\")\n",
    "print(\"% Aspartic acid:\",aspartic_acid_count/len(protein_sequence))\n",
    "\n",
    "#It's getting pretty boring to type these!"
   ]
  },
  {
   "cell_type": "markdown",
   "metadata": {},
   "source": [
    "The above approach 'works' in the sense that we could, with enough labor, get an answer to our question. However, if you try retyping the code above and extending it for all the amino acids, you will quickly notice several things:\n",
    "\n",
    "* It is very boring to write similar code over and over again\n",
    "* It is easy to make mistakes that could give the wrong answer. In particular, when you copy the print statement, it is easy to forget to update which count you are dividing by the total length of the sequence. \n",
    "* If you want to change the code, you will now have to go back through all 20 print statements and all 20 count commands and change each - without making any mistakes.\n",
    "* It would be easy to accidentally leave off one of the amino acids.\n",
    "\n",
    "There must be a better way to do this - after all most of us didn't get into bioinformatics because we enjoyed repetitive tasks. Our obsevations trying to calculate amino acid composition highlight a general principle of coding that you can use in many places in your work. That principle is known as DRY coding."
   ]
  },
  {
   "cell_type": "markdown",
   "metadata": {},
   "source": [
    ">### Coding Style Sidebar: DRY coding\n",
    ">\n",
    ">The DRY in DRY coding stands for **Don't Repeat Yourself**. It is a shorthand way of saying that you should find a way to write your code that avoids repetitive statements. It also is a shorthand way of summing up many of our >observations above. If code is repetitive, it has many disadvantages:\n",
    ">* It makes code look more complex (or at least much longer) than it should be\n",
    ">* It makes code more prone to errors\n",
    ">* It makes code harder to change and maintain\n",
    ">\n",
    ">So based on the principles of DRY coding, we now know that we should tell python once what we want it to do. >That is, somehow we want to tell python what it would be easy to tell a friend: for each of the amino acids in >our sequence, we want to get a count and convert that count to a percentage.\n",
    ">\n",
    "\n",
    "Python for loops can help us to automate this task and do it in just a few lines of code. They can also help with many other repetitive tasks in python."
   ]
  },
  {
   "cell_type": "markdown",
   "metadata": {},
   "source": [
    "\n",
    "\n",
    "<img src=\"./resources/for_loops_diagram.png\" width=\"300\" style=\"float: left; margin-right: 1em;\" description=\"A decorative version of a for loop. Text reads for (star shape) in (square, circle: and after the colon there is a block of gray text with a pink loop surrounding it.\"> \n",
    "Conceptually, for loops in python work like the diagram at the left. We set something to iterate or loop over (the list of square and circle shapes). We pick a variable name to represent what each thing we loop over will be called (the star). Then, we write a block of code *in terms of* the variable name we picked (`print(*)` in the diagram). That way as the variable is reassigned to a new item each time we go through the loop, the rest of the code will automatically run on that new item."
   ]
  },
  {
   "cell_type": "markdown",
   "metadata": {},
   "source": [
    "-------------------------------------------------------------------------------------------------------------\n",
    "\n",
    "## Using For Loops In Python to Improve our Amino Acid Composition calculator\n",
    "\n",
    "\n",
    "If we were leaving a detailed note telling a friend how to solve this problem, we might say something like:\n",
    "\n",
    ">   For each amino acid in our amino acid sequence, I want you to:\n",
    ">      1) count that amino acid in the sequence\n",
    ">      2) calculate a percentage for that amino acid\n",
    ">      3) write down what you got.\n",
    ">   \n",
    ">   Thanks!\n",
    "   \n",
    "A for loop in python is actually not too dissimilar from the above note. I'll show how it looks and then we will consider the details of how it works."
   ]
  },
  {
   "cell_type": "code",
   "execution_count": 23,
   "metadata": {},
   "outputs": [
    {
     "name": "stdout",
     "output_type": "stream",
     "text": [
      "R : 9.2\n",
      "D : 6.6\n",
      "F : 3.5\n",
      "S : 6.2\n",
      "T : 4.6\n",
      "L : 5.7\n",
      "V : 8.1\n",
      "G : 7.9\n",
      "P : 4.4\n",
      "Y : 2.6\n",
      "C : 1.1\n",
      "W : 0.9\n",
      "M : 1.8\n",
      "I : 5.0\n",
      "A : 6.2\n",
      "K : 6.2\n",
      "Q : 3.9\n",
      "H : 2.6\n",
      "E : 8.5\n",
      "N : 5.0\n",
      "Done!\n"
     ]
    }
   ],
   "source": [
    "protein_sequence =\"\"\"MEELVVEVRGSNGAFYKAFVKDVHEDSITVAFENNWQPDRQIPFHDVRFPPPVGYNKDINESDEVEVYSRANEKEPCCWWLAKVRMIKGEFYVIEYAACDATYNEIVTIERLRSVNPNKPATKDTFHKIKLDVPEDLRQMCAKEAAHKDFKKAVGAFSVTYDPENYQLVILSINEVTSKRAHMLIDMHFRSLRTKLSLIMRNEEASKQLESSRQLASRFHEQFIVREDLMGLAIGTHGANIQQARKVPGVTAIDLDEDTCTFHIYGEDQDAVKKARSFLEFAEDVIQVPRNLVGKVIGKNGKLIQEIVDKSGVVRVRIEAENEKNVPQEEGMVPFVFVGTKDSIANATVLLDYHLNYLKEVDQLRLERLQIDEQLRQIGASSRPPPNRTDKEKSYVTDDGQGMGRGSRPYRNRGHGRRGPGYTSGTNSEASNASETESDHRDELSDWSLAPTEEERESFLRRGDGRRRGGGGRGQGGRGRGGGFKGNDDHSRTDNRPRNPREAKGRTTDGSLQIPPVKVVGCARVKIVTRRKRSQTAWMVSNHS\"\"\"\n",
    "\n",
    "amino_acids = set(protein_sequence)\n",
    "sequence_length = len(protein_sequence)\n",
    "\n",
    "for amino_acid in amino_acids:\n",
    "    amino_acid_count = protein_sequence.count(amino_acid)\n",
    "    amino_acid_percent = (amino_acid_count/sequence_length) * 100\n",
    "    print(amino_acid,\":\",round(amino_acid_percent,1))\n",
    "    \n",
    "print(\"Done!\")"
   ]
  },
  {
   "cell_type": "markdown",
   "metadata": {},
   "source": [
    "This looks much better. We now calculate amino acid percentages for all the amino acids in only 11 lines of code (including the blank line before the for loop to make the code easier to read). Moreover, we didn't have to type out 40 lines of very repetitive calculations."
   ]
  },
  {
   "cell_type": "markdown",
   "metadata": {},
   "source": [
    "#### Walking through our `for` loop step by step\n",
    "\n",
    "So how does the for loop for our amino acid sequences work in detail? Here's what's happening when python executes the loop:\n",
    "\n",
    "1. Get the first item of the iterable object (here the amino acid 'D' from amino_acids).\n",
    "2. Assign that item to a variable (in our case set amino_acid = 'D' for this time through the loop) \n",
    "3. Run all the *indented* code after the line defining the for loop (this is all considered part of the for loop)\n",
    "4. Get the next item from the iterable object (here the amino acid 'N' from amino acids), and repeat from step 1.\n",
    "5. When you run out of items in your iterable object, stop and continue with the rest of the unindented code after the for loop (here, print(\"Done!\") to the screen).\n",
    "\n",
    "The first line of the loop is 'for amino_acid in amino_acids:'. In the context of our code, amino_acids is the set of all the amino acid letters in our sequence. For loops can loop over any *iterable* object. That means basically any python object that holds other objects, including strings, lists, sets, dictionaries, etc. Python will take our amino_acids object, and pick out the first item in it. In this case that's a D. It will then give that item the name amino_acid (effectively setting amino_acid = D). Finally it will execute all the code that is indented after the for loop for that amino acid. Then it will start over at the beginning, set amino_acid = N, and repeat the process until it runs out of amino acids.\n",
    "\n",
    "If you want to test out how for loops work for yourself, you can modify the above code to add print statements that report the values of variables throughout the process. For example, right after the first line of the for loop, you might add the code: print(\"Current amino acid = \",amino_acid). This would then report to you what the value of the variable amino_acid is each time through the loop.\n",
    "\n",
    "> **Terminology Sidenote: Iterations**\n",
    "> When programmers talk about code repeating a task, they will often call each time the task repeats an *iteration*. So we might say,'for each *iteration* of the for loop, the code does X,Y, and Z'. \n",
    "> If it is important to keep track of how many times you've repeated a task with a number, an integer named\n",
    "> i is often used to do so. In that case i stands for 'iteration'."
   ]
  },
  {
   "cell_type": "markdown",
   "metadata": {},
   "source": [
    "#### Storing data from a loop in a dictionary\n",
    "\n",
    "Our version of the amino acid profiler using a for loop is much improved, but still isn't wholly satisfactory in one important respect: the data that we generate is printed to screen, but isn't stored in an accessible way.\n",
    "Dictionaries are python objects that associate keys with values - just like a physical dictionary associates words with their definitions. In our amino acid composition profiler, we could use a dictionary to store the counts of each amino acid. In that case strings representing the amino acids would be the keys, and the counts of those amino acids would be the values.\n",
    "\n",
    "> For a very brief introduction to dictionaries in python see the [Tour of Python Data Types](../04_exploring_python/exploring_python_data_types.ipynb)\n",
    "\n",
    "The code below revises our amino acid profiler to use a dictionary to hold results. Therefore, it is no longer necessary to print each amino acid as it is calculated. I've added some extra comments to the code that would not normally be necessary highlighting what each new line does:"
   ]
  },
  {
   "cell_type": "code",
   "execution_count": 67,
   "metadata": {},
   "outputs": [
    {
     "name": "stdout",
     "output_type": "stream",
     "text": [
      "Counts for each amino acid: {'D': 36, 'N': 27, 'G': 43, 'W': 5, 'P': 24, 'E': 46, 'M': 10, 'S': 34, 'F': 19, 'H': 14, 'R': 50, 'Q': 21, 'K': 34, 'C': 6, 'A': 34, 'Y': 14, 'V': 44, 'T': 25, 'I': 27, 'L': 31}\n"
     ]
    }
   ],
   "source": [
    "amino_acids = set(protein_sequence)\n",
    "sequence_length = len(protein_sequence)\n",
    "\n",
    "#create an empty dictionary\n",
    "#to hold our results\n",
    "amino_acid_profile = {} \n",
    "\n",
    "for amino_acid in amino_acids:\n",
    "    amino_acid_count = protein_sequence.count(amino_acid)\n",
    "    amino_acid_percent = (amino_acid_count/sequence_length) * 100\n",
    "    \n",
    "    #add a new entry to our amino_acid_profile \n",
    "    #using the amino acid (e.g. \"D\") as the key, \n",
    "    #and it's count as the value (e.g. 35)\n",
    "    #the general syntax to set a dictionary key equal\n",
    "    #to a value is my_dictionary[key] = value\n",
    "    amino_acid_profile[amino_acid] = amino_acid_count\n",
    "\n",
    "print(\"Counts for each amino acid:\",amino_acid_profile)"
   ]
  },
  {
   "cell_type": "markdown",
   "metadata": {},
   "source": [
    "### Wrapping up our amino acid composition code into a reusable function and testing it\n",
    "\n",
    "<img src=\"./resources/function_diagram.png\" width=\"300\" style=\"float: left; margin-right: 1em;\" description=\"A decorative version of a function definition. Text reads def (wavy pink shape)(star): then has a gray block of text represented by rectangles. Then it says return and shows a star fading from light to dark grey. Below this representation of a function definition, the wavy pink shape appears again with a circle in the parentheses. Multiple circles fade from light ot dark just like the star did in the function definition.\"> As in previous examples, now that we have the basic idea working we want to wrap up our code for counting amino acids into a function and test it. The concept is diagrammed at left: we first define some function name (wavy pink box) and describe it's input *in general terms*. Then we write a bunch of indented code that refers *only* to those inputs. Finally we `return` some result of running our code. Below the function definition in the diagram, we see the wavy pink shape again (representing whatever we called our function) open and closed parentheses with a circle inside. This represents actually calling the function, and having it apply whatever general process the function does to our specific example (in the diagram it looks like the function blends the color of shapes, so running it on the circle produces a blending of that shape)."
   ]
  },
  {
   "cell_type": "markdown",
   "metadata": {},
   "source": [
    "Here's an example of how we might wrap our amino acid composition code up into a functon, again just adding a function definiton line for inputs and a line with the `return` keyword to output the result. \n",
    "\n",
    "Note that both functions and for loops use indentation to show what code is within them. If we have a for loop *inside* a function, we need to indent two levels. More generally, just add one level of indentation for each for loop, if statement, or function, and unindent one level when that element ends."
   ]
  },
  {
   "cell_type": "code",
   "execution_count": 17,
   "metadata": {},
   "outputs": [],
   "source": [
    "def calc_amino_acid_composition(protein_sequence):\n",
    "    \"\"\"Return a dictionary of amino acid counts for a given protein sequence\n",
    "    \n",
    "    protein_sequence -- a string representing a protein sequence\n",
    "    \"\"\"\n",
    "    amino_acids = set(protein_sequence)\n",
    "    sequence_length = len(protein_sequence)\n",
    "\n",
    "    #create an empty dictionary\n",
    "    #to hold our results\n",
    "    amino_acid_profile = {} \n",
    "\n",
    "    for amino_acid in amino_acids:\n",
    "        amino_acid_count = protein_sequence.count(amino_acid)\n",
    "        amino_acid_percent = (amino_acid_count/sequence_length) * 100\n",
    "    \n",
    "        #add a new entry to our amino_acid_profile \n",
    "        #using the amino acid (e.g. \"D\") as the key, \n",
    "        #and it's count as the value (e.g. 35)\n",
    "        #the general syntax to set a dictionary key equal\n",
    "        #to a value is my_dictionary[key] = value\n",
    "        amino_acid_profile[amino_acid] = amino_acid_count\n",
    "\n",
    "    print(\"Counts for each amino acid:\",amino_acid_profile)\n",
    "    return amino_acid_profile"
   ]
  },
  {
   "cell_type": "markdown",
   "metadata": {},
   "source": [
    "## `if` statements in python\n",
    "\n",
    "Programs often need to make decisions based on data. For example, when comparing two sequences, we might want to do one thing if they are very similar in sequence, and something else if they are different. If statements are a key way that python scripts can make decisions based on conditions. \n",
    "\n",
    "\n",
    "<img src=\"./resources/if_statement_diagram.png\" width=\"300\" style=\"float: left; margin-right: 1em;\" description=\"A decorative version of a function definition. Text reads def (wavy pink shape)(star): then has a gray block of text represented by rectangles. Then it says return and shows a star fading from light to dark grey. Below this representation of a function definition, the wavy pink shape appears again with a circle in the parentheses. Multiple circles fade from light to dark just like the star did in the function definition.\">\n",
    "\n",
    "The diagam shows an if statement that checks if a shape (represented by the gray star) is a circle. If it is, the top gray block of indented text executes (path marked by pink arrow). If not, that block is skipped (path marked by blue arrow). Regardless of whether the conditions of the if statement are met, a bottom gray block of unindented text runs."
   ]
  },
  {
   "cell_type": "markdown",
   "metadata": {},
   "source": [
    "### A simple if statement\n",
    "\n",
    "Here is some code that uses an if statement to print out something different based on the outcome of a coin flip (simulated by using the `choice` function to randomly pick `\"Heads\"` or `\"Tails\"` from a list):"
   ]
  },
  {
   "cell_type": "code",
   "execution_count": 18,
   "metadata": {},
   "outputs": [
    {
     "name": "stdout",
     "output_type": "stream",
     "text": [
      "Will you win the coin flip?\n",
      "You win!\n"
     ]
    }
   ],
   "source": [
    "from random import choice\n",
    "print(\"Will you win the coin flip?\")\n",
    "\n",
    "coin_flip = choice([\"Heads\",\"Tails\"])\n",
    "\n",
    "if coin_flip == \"Heads\":\n",
    "    print(\"You win!\")\n",
    "else:\n",
    "    print(\"You lose!\")"
   ]
  },
  {
   "cell_type": "markdown",
   "metadata": {},
   "source": [
    "Here are some key features of the if statement:\n",
    "* it starts with the keyword 'if' \n",
    "* after the 'if' we place any expression that evaluates to True or False. Such expressions include:\n",
    "* we end the first line of the if statement with a colon\n",
    "* the code that is indented after the if statement (here `print(\"You win!\")` ) will execute\n",
    "  only `if` the condition evaluates to `True`\n",
    "* if the condition does not evaluate to `True`, the code indented below the `else` statement will execute instead. You can think about an `if`/`else pair` like this is a fork or decision point in a flowchart."
   ]
  },
  {
   "cell_type": "markdown",
   "metadata": {},
   "source": [
    "### Designing `if` statements\n",
    "\n",
    "We can design new if statements by using different expressions that evaluate to True or False in python.\n",
    " -  tests for equality (`x == y`). Note that two equals signs must be used to distinguish this from when you *set* x equal to y. If you use just one (`x = y`) in an `if` statement python will send you a `SyntaxError` as a reminder :).\n",
    "   -  inequalities, include less than (`x < y`), less than or equal to **(x <= y)**, \n",
    "       greater than (`x > y`), greater than or equal to (`x >= y`), or not equal ( `x != y`).\n",
    "   - tests for whether a sequence includes a specific item `(x in y)`\n",
    "   - tests for whether two variables refer to exactly the same thing (not just equal things), for example `x is y`.\n",
    "\n",
    "Interestingly, in python many normal objects also have truth values (this is called truthiness). We can also use these in if statments. Here are some examples:\n",
    "   - 0 is treated as False, but any non-zero integer is treated as True\n",
    "   - an empty list,dict,set, or string is treated as false, but one with contents is treated as True.\n",
    "   \n",
    "You can figure out the truthiness of an object by calling the bool() function on it.\n",
    "\n",
    "Finally we can use the `or` and `and` keywords to combine multiple conditions (`if x > 10 or x < 5:`). Notably, python only evaluates the right side of `or` statements if the left is `False`. "
   ]
  },
  {
   "cell_type": "markdown",
   "metadata": {},
   "source": [
    "## Using a `for` loop and `if` statement together to compare sequence identity\n",
    "\n",
    "A common way to measure the similarity of two sequences in by comparing **sequence identity**. Sequence identity is defined as the percentage of positions in two sequences in which they have exactly the same letter. A related idea of **sequence similarity** counts up the percentage of positions in a sequence that have 'similar' units. What 'similar' means depends on the application, but generally refers to the biochemical properties of the nucleotides or amino acids (e.g. two hydrophobic amino acids might count as 'similar' even if not identical).\n",
    "\n",
    "Sequence identity can be calculated for *aligned* sequences where alignment software (often with a multiple sequence aligner like muscle, MAAFT, T-Coffee, etc) has been used to mark *indels* (insertions or deletions). After two related sequences are  aligned, each letter of the top sequence should correspond to the letter in the same position in the bottom sequence.  \n",
    "\n",
    "Let's write code to calculate the sequence identity of two sequences:"
   ]
  },
  {
   "cell_type": "code",
   "execution_count": 20,
   "metadata": {},
   "outputs": [
    {
     "name": "stdout",
     "output_type": "stream",
     "text": [
      "There were 52 shared nucleotides and 9 different nucleotides among the sequences\n",
      "Sequence identity: 0.85\n"
     ]
    }
   ],
   "source": [
    "#Find the number of mismatches between two sequences\n",
    "seq1 = \"---ATATCGCGGCGCGCTTACGATGCTACGTCGCGGCGGGGTATATTAGCGGGATTCATTT\"\n",
    "seq2 = \"ATAATATCGCGGCGCCCTTACGATGCTACGTCGCGGCGCGGTATATTAGCGGGATACA---\"\n",
    "length_of_shorter_seq = min(len(seq1),len(seq2))\n",
    "\n",
    "shared = 0\n",
    "different = 0\n",
    "for i in range(length_of_shorter_seq):\n",
    "    if seq1[i] == seq2[i]:\n",
    "        shared += 1\n",
    "    else:\n",
    "        different +=1\n",
    "\n",
    "sequence_identity = shared/length_of_shorter_seq\n",
    "print(f\"There were {shared} shared nucleotides and {different} different nucleotides among the sequences\")\n",
    "print(f\"Sequence identity: {round(sequence_identity,2)}\")       "
   ]
  },
  {
   "cell_type": "markdown",
   "metadata": {},
   "source": [
    "Some notes about the above code:\n",
    "* the range() function generates all the numbers between 0 and a specified number one by one. It is very commonly used in python to run a for loop a given number of times. Here we use it to run the for loop over each nucleotide in the sequence.\n",
    "* if using an if statement inside a for loop, the code inside the if statment is indented an *additional* level, as shown above.\n",
    "* notice that *before* we start the loop, we have already prepared two variables, shared and different, to hold the counts of shared and different nucleotides we generate inside the loop. It is very common to define some variable to hold your data before you start a loop. Notice that if these variables were instead defined *inside* the loop, they would reset the count every time the loop ran, resulting in the wrong answer."
   ]
  },
  {
   "cell_type": "markdown",
   "metadata": {},
   "source": [
    "### Wrapping our sequence identity code into a function and testing it.\n",
    "\n",
    "<img src=\"./resources/function_diagram.png\" width=\"300\" style=\"float: left; margin-right: 1em;\" description=\"A decorative version of a function definition. Text reads def (wavy pink shape)(star): then has a gray block of text represented by rectangles. Then it says return and shows a star fading from light to dark grey. Below this representation of a function definition, the wavy pink shape appears again with a circle in the parentheses. Multiple circles fade from light ot dark just like the star did in the function definition.\"> \n",
    "\n",
    "By now you probably know the drill. Every time we write some chunk of useful code like the sequence identity calculator up above, we want to wrap it up into a modular, reusable function and then carefully test that it works the way we expect.\n",
    "\n",
    "**Try it yourself**: before reading further, scroll up to the code for calculating sequence identity for two sequences, and try converting it into a function. Then test your function against some examples where you know the right answer."
   ]
  },
  {
   "cell_type": "markdown",
   "metadata": {},
   "source": [
    "Here's one way you could do it:"
   ]
  },
  {
   "cell_type": "code",
   "execution_count": 15,
   "metadata": {},
   "outputs": [],
   "source": [
    "def calc_sequence_identity(seq1,seq2):\n",
    "    \"\"\"Returns sequence identity of two sequences as a number between 0.0 and 1.0\n",
    "    \n",
    "    seq1 -- a string representing a sequence\n",
    "    seq2 -- a string representing a sequence, in the same format as seq1\n",
    "    \n",
    "    Note: counts indels (\"-\") as differences between seq1 and seq2.\n",
    "    Depending on application this may or may not be what you want.\n",
    "    \"\"\"\n",
    "    length_of_shorter_seq = min(len(seq1),len(seq2))\n",
    "\n",
    "    shared = 0\n",
    "    different = 0\n",
    "    for i in range(length_of_shorter_seq):\n",
    "        if seq1[i] == seq2[i]:\n",
    "            shared += 1\n",
    "        else:\n",
    "            different +=1\n",
    "\n",
    "    sequence_identity = shared/length_of_shorter_seq\n",
    "    return sequence_identity"
   ]
  },
  {
   "cell_type": "markdown",
   "metadata": {},
   "source": [
    "Now let's test our function using some examples where we can predict the result. For example, two sequences that are identical should return 100%, while two that are totally different should return 0%."
   ]
  },
  {
   "cell_type": "code",
   "execution_count": 21,
   "metadata": {},
   "outputs": [
    {
     "name": "stdout",
     "output_type": "stream",
     "text": [
      "Running calc_sequence_identity(('aaaaaa', 'aaaaaa')) produces 1.0 ..... True\n"
     ]
    }
   ],
   "source": [
    "seq1 = 'aaaaaa'\n",
    "seq2 = seq1\n",
    "expected = 1.0\n",
    "observed = calc_sequence_identity(seq1,seq1)\n",
    "result = observed == expected\n",
    "print(f\"Running calc_sequence_identity({seq1,seq2}) produces {expected} ..... {result}\")"
   ]
  },
  {
   "cell_type": "markdown",
   "metadata": {},
   "source": [
    "Try out a few other tests to make sure the function is behaving the way you expect."
   ]
  },
  {
   "cell_type": "markdown",
   "metadata": {},
   "source": [
    "## Exercises \n",
    "\n",
    "**Exercise 1**. Write code to calculate the frequency of each nucleotide in an **RNA** sequence.\n",
    "Keep these things in mind:\n",
    "* Be sure that the code can be easily run on new sequences. \n",
    "* Use DRY coding methods and a for loop to avoid lots of repeated code\n",
    "* Be sure to check your code using a sequence where you know the right answer. For example, on the sequence:\n",
    "  \"AAUUGGGG\", your code should return frequencies A: 25%, U:25%, G:50%, C:0%.\n",
    "\n",
    "**Exercise 2**. Using the code for calculating sequence similarity, calculate the similarity of these two DNA sequences:\n",
    "\n",
    "sequence_1 = \"AAGTC\"\n",
    "sequence_2 = \"AGTCG\"\n",
    "\n",
    "Do you notice anything interesting about the two sequences? (We will return to this pattern later when we discuss the topic of sequence alignment).\n",
    "\n",
    "**Exercise 3**. The sequences we used in our sequence alignment example were aligned. What happens if you remove the indels (`-`) from the sequences and rerun the code? Remember that these represent places where either a nucleotide has been inserted into the sequence without the `-`, or deleted from the sequence with the `-`. \n",
    "\n",
    "**Exercise 4**. Different control structures (for loops, if statements and functions) can be nested. Write an example of each of the following:\n",
    "\n",
    "   **4a** An `if` statement within a for loop (e.g. looping over nucleotides and stopping if the current one is the same as the last one).\n",
    "   \n",
    "   **4b** A `for` loop within an `if` statement (e.g. if a sequence is longer than 3 nucleotides, print all the 3rd codon position nucleotides (e.g. the 'T' in 'AAT')\n",
    "   \n",
    "   **4c**  A `for` loop within a different `for` loop (e.g. generating all possible dinucleotides by looping over `['A','T','C','G']`, setting the first letter in the outer loop and the second letter in the inner loop, then combining them with `dinuc = f\"{first_letter}{second_letter}\" ` or something similar. Bonus points for storing all of them in a data structure like a list or dict. \n",
    "\n",
    "You can use the biological examples in parentheses, or come up with any other example you can think of that makes sense to you. The main thing is to get comfortable with different ways of combining these control structures. \n",
    "    \n",
    "\n",
    "Once you have jotted down your answers, you can check them in the [answer key](./biological_sequences_exercise_answers.ipynb)"
   ]
  },
  {
   "cell_type": "markdown",
   "metadata": {},
   "source": [
    "## [Reading Responses & Feedback](https://docs.google.com/forms/d/e/1FAIpQLSeUQPI_JbyKcX1juAFLt5z1CLzC2vTqaCYySUAYCNElNwZqqQ/viewform?usp=pp_url&entry.2118603224=Biological+Sequences+-+Using+For+Loops+and+If+statements+to+analyze+biological+sequences)"
   ]
  }
 ],
 "metadata": {
  "kernelspec": {
   "display_name": "Python 3 (ipykernel)",
   "language": "python",
   "name": "python3"
  },
  "language_info": {
   "codemirror_mode": {
    "name": "ipython",
    "version": 3
   },
   "file_extension": ".py",
   "mimetype": "text/x-python",
   "name": "python",
   "nbconvert_exporter": "python",
   "pygments_lexer": "ipython3",
   "version": "3.9.19"
  }
 },
 "nbformat": 4,
 "nbformat_minor": 2
}
