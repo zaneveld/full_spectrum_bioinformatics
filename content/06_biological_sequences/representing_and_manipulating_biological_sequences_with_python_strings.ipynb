{
 "cells": [
  {
   "attachments": {},
   "cell_type": "markdown",
   "metadata": {},
   "source": [
    "<img src=\"./resources/sequence_index_banner.png\" width=\"1000\" align=\"center\"  description=\"A decorative banner with nucleotides represented by letters in different colors. Each has a number below and to the left. The full text reads: 0A1T2C3G4A5A6C. A dotted cyan line slices the sequence at positions 0 and 3, selecting the letters ATC.\"> \n",
    "\n",
    "# Representing and Manipulating Biological Sequences with Python Strings\n",
    "\n",
    "In the previous section we discussed the Central dogma and the role of DNA, RNA and protein sequences in biology. Python strings hold text, and can be used to represent those DNA, RNA and protein sequences. In this section we will represent biological sequences as strings and introduce various methods we can use to analyze or manipulate them in ways that will be very useful later on.\n",
    "\n",
    "#### In this section you will learn\n",
    "* Defining Python strings\n",
    "* Getting help with string methods\n",
    "* Using string methods like upper, lower, count, strip, etc.\n",
    "* Generating new strings dynamically using variables\n",
    "* using the len function to calculate the length of a sequence\n",
    "* Using string indexing and slicing to get parts of sequences\n",
    "\n",
    "\n",
    "#### Prerequisites for this section\n",
    "* Have Anaconda python installed\n",
    "* Be familiar with how to run python\n",
    "* Be familiar with how to use python like a calculator including:\n",
    "   * assigning variables\n",
    "   * order of operations\n",
    "   * multiplication and division\n",
    "* Be familiar with the types of biological sequence and the Central Dogma of molecular biology.\n",
    "* It is helpful to have seen python function definitions before (e.g. at the end of the Exploring Python chapter)"
   ]
  },
  {
   "cell_type": "markdown",
   "metadata": {},
   "source": [
    "## Defining strings\n",
    "\n",
    "If you completed the section on Exploring Python you have already used a string in python - the \"Hello World!\" in <pre>print(\"Hello World!\")</pre> is a string. We define strings in python by surrounding text with quotation marks. Let's try defining a DNA sequence as a python string. \n",
    "(Note: The abbreviation 'seq' is commonly used as a shorter standing for sequence when writing code)"
   ]
  },
  {
   "cell_type": "code",
   "execution_count": 1,
   "metadata": {},
   "outputs": [],
   "source": [
    "DNA_seq = \"atagcca\""
   ]
  },
  {
   "cell_type": "markdown",
   "metadata": {},
   "source": [
    "Note that the matching quotation marks are important! They tell python that \"atagcca\" is a new string we're defining, not the name of an existing variable. Python strings can be defined using single quotes ('my string'), double quotes(\"my string\") or triple single or double quotes (\"\"\"my string\"\"\" or '''my_string'''). Triple quoted strings denote that a string stretches across more than one line, and are called *multiline strings*. They are still just regular string objects, however.\n",
    "\n",
    "Let's try intentionally leaving quotations off and see what happens:\n"
   ]
  },
  {
   "cell_type": "code",
   "execution_count": 2,
   "metadata": {},
   "outputs": [
    {
     "ename": "NameError",
     "evalue": "name 'atagcca' is not defined",
     "output_type": "error",
     "traceback": [
      "\u001b[0;31m---------------------------------------------------------------------------\u001b[0m",
      "\u001b[0;31mNameError\u001b[0m                                 Traceback (most recent call last)",
      "Cell \u001b[0;32mIn[2], line 1\u001b[0m\n\u001b[0;32m----> 1\u001b[0m DNA_seq \u001b[38;5;241m=\u001b[39m \u001b[43matagcca\u001b[49m\n",
      "\u001b[0;31mNameError\u001b[0m: name 'atagcca' is not defined"
     ]
    }
   ],
   "source": [
    "DNA_seq = atagcca"
   ]
  },
  {
   "cell_type": "markdown",
   "metadata": {},
   "source": [
    "As expected, if we forget the quotation marks we get a NameError. This is because python without the quotation marks python is treating atagcca as some variable that we're saying already exists. It's trying to set the value of DNA_seq to that variable, but can't do so because it can't find it.\n",
    "\n",
    "So we have two key takeaways:\n",
    "\n",
    "> Python strings are defined by matched quotation marks\n",
    "\n",
    "and\n",
    "\n",
    "> If we get a NameError, we might be referring to a variable that doesn't exist."
   ]
  },
  {
   "cell_type": "markdown",
   "metadata": {},
   "source": [
    "## Getting the length of a string\n",
    "\n",
    "The builtin len function is very useful for checking how long a string is. Here's an example:"
   ]
  },
  {
   "cell_type": "code",
   "execution_count": null,
   "metadata": {},
   "outputs": [],
   "source": [
    "dna_seq = \"ATAGCACTGTACGTCATCG\"\n",
    "dna_seq_length = len(dna_seq)\n",
    "print(\"The length of the sequene is:\",dna_seq_length)"
   ]
  },
  {
   "cell_type": "markdown",
   "metadata": {},
   "source": [
    "## Using string methods to convert between cases\n",
    "\n",
    "A common problem encountered in bioinformatics is converting the same data between different formats to use it with different software. For example, let's say we want to use our sequence with other software or code that only accepts uppercase sequences. It turns out python string methods provide an easy solution.\n",
    "\n",
    "Python string objects have multiple functions associated with them that can do several useful things given our string. These are called **string methods**. Importantly, similar methods exist for essentially all other types of object in python. \n",
    "\n",
    "Let's use a string method to convert our sequence from lowercase to uppercase:"
   ]
  },
  {
   "cell_type": "code",
   "execution_count": null,
   "metadata": {},
   "outputs": [],
   "source": [
    "DNA_seq = \"atagcca\"\n",
    "DNA_seq = DNA_seq.upper()\n",
    "print(DNA_seq)"
   ]
  },
  {
   "cell_type": "markdown",
   "metadata": {},
   "source": [
    "Here are the important parts of what we wrote and what they mean. To call the method, we took the variable holding our DNA sequence (DNA_seq), added a period (.) after it to indicate we wanted to access a method of that object, put the name of the method (upper), and then put an open and closed parentheses () to indicate that we want to call that method without supplying any additional argument.\n",
    "\n",
    "It is important that we say DNA_seq = DNA_seq.upper() instead of just DNA_seq.upper() in order to save our uppercase sequence to the variable DNA_seq.  If we didn't do that our print statement would still print the sequence in lowercase! Why?\n",
    "\n",
    "This is because strings are immutable objects. Therefore DNA_seq.upper() doesn't in and of itself change our original string - it just gives us a new version of it that is uppercase. So technically we're making a new uppercase version of our DNA sequence and replacing the old one with it."
   ]
  },
  {
   "cell_type": "markdown",
   "metadata": {},
   "source": [
    "## Getting a list of all string methods\n",
    "\n",
    "After reading the above example, you might find this all well and good, but wonder how the heck I knew upper was a string method I could call in the first place? It turns out that python has builtin ways to get help on any object, and to find all of an objects methods and properties. \n",
    "\n",
    "The builtin help function provides help for any of the python data types (see Exploring Python). If in the interpreter you may need to hit 'q' to get out of help.\n",
    "\n",
    "Here's an example of how it looks for strings\n",
    "\n"
   ]
  },
  {
   "cell_type": "markdown",
   "metadata": {},
   "source": [
    "#Get help on string objects\n",
    "help(str)"
   ]
  },
  {
   "cell_type": "markdown",
   "metadata": {},
   "source": [
    "Note that many methods like \\_\\_add\\_\\_  have two underscores (\\_) on either side. These are methods that you *can* use, but probably don't normally need to. Scroll past them to methods without underscores to see the 'regular stuff' like count, index, split, etc. \n",
    "\n",
    "Of course, getting help this way requires that you know that your DNA sequence is a string, and the string data type in python is called str. If you can't remember what type an object is (or what the object is formally called in python) you can check it with the type() function:"
   ]
  },
  {
   "cell_type": "code",
   "execution_count": null,
   "metadata": {},
   "outputs": [],
   "source": [
    "type(DNA_seq)"
   ]
  },
  {
   "cell_type": "markdown",
   "metadata": {},
   "source": [
    "Sometimes, the help text can be too much if you are just quickly looking for something (and are willing to Google what you find). If I want a really quick list of ALL the methods and properties of an object, I sometimes use the dir() to print them. You can call dir directly on your object:"
   ]
  },
  {
   "cell_type": "code",
   "execution_count": null,
   "metadata": {},
   "outputs": [],
   "source": [
    "#List all the methods and properties of the DNA_sequence object\n",
    "dir(DNA_seq)"
   ]
  },
  {
   "cell_type": "markdown",
   "metadata": {},
   "source": [
    "\n",
    "## Using string methods to count substrings\n",
    "\n",
    "Run help on string objects <pre>help(str)</pre> Look through the list of methods for count(). This is a method that will let you count characters or other strings in a string. Here's how we would use it to count 'CG' dinucleotides ('C' characters followed by 'G' characters) in a DNA sequence:"
   ]
  },
  {
   "cell_type": "code",
   "execution_count": null,
   "metadata": {},
   "outputs": [],
   "source": [
    "DNA_seq = \"ACATCGATGCTACGTCGAGCAGTGC\"\n",
    "CG_count = DNA_seq.count(\"GC\")\n",
    "print(\"The count of CG dinuclotides is:\",CG_count)"
   ]
  },
  {
   "cell_type": "markdown",
   "metadata": {},
   "source": [
    "## Making strings dynamically using string formatting\n",
    "\n",
    "We often want to make strings from other strings. For example, we might have a species name and a genus name, and want to get out a full scientific name. Python string's format method gives us a nice way to do that. Format let's us replace any words in our string that are inside curly braces {} with the contents of python variables. Here's an example:"
   ]
  },
  {
   "cell_type": "code",
   "execution_count": 4,
   "metadata": {},
   "outputs": [
    {
     "name": "stdout",
     "output_type": "stream",
     "text": [
      "My sequence is ATCGTACGACT\n"
     ]
    }
   ],
   "source": [
    "DNA_seq = \"ATCGTACGACT\"\n",
    "message = \"My sequence is {current_seq}\".format(current_seq = DNA_seq)\n",
    "print(message)"
   ]
  },
  {
   "cell_type": "markdown",
   "metadata": {},
   "source": [
    "In newer versions of python, you can skip the call to format if you put an f before the string definition, like this:"
   ]
  },
  {
   "cell_type": "code",
   "execution_count": 5,
   "metadata": {},
   "outputs": [
    {
     "name": "stdout",
     "output_type": "stream",
     "text": [
      "My sequence is: ATCG\n"
     ]
    }
   ],
   "source": [
    "DNA_seq = \"ATCG\"\n",
    "message = f\"My sequence is: {DNA_seq}\"\n",
    "print(message)"
   ]
  },
  {
   "cell_type": "markdown",
   "metadata": {},
   "source": [
    "Another useful trick to be aware of is that you can add strings together to generate a new longer string:"
   ]
  },
  {
   "cell_type": "code",
   "execution_count": 6,
   "metadata": {},
   "outputs": [
    {
     "name": "stdout",
     "output_type": "stream",
     "text": [
      "The combined sequence is: ATCGTAGCATCGACGATG\n"
     ]
    }
   ],
   "source": [
    "seq1 = \"ATCGTAGCATCG\"\n",
    "seq2 = \"ACGATG\"\n",
    "long_seq = seq1 + seq2\n",
    "print(\"The combined sequence is:\", long_seq)"
   ]
  },
  {
   "cell_type": "markdown",
   "metadata": {},
   "source": [
    "## Selecting parts of a python string using string indexing and slicing\n",
    "\n",
    "\n",
    "Strings are ordered collections of characters. Often we want to access some but not all of those characters. For example, if we have a string representing a whole genome sequence, we might want to extract a specific gene from it. Or if we have a binomial name like *Homo sapiens*, we might want to get just the genus name (*Homo*). This can be accomplished by string slicing and indexing. \n",
    "\n",
    "Internally, python keeps track of an **index** for each character in a sequence. We can use those indices to get individual characters or smaller strings (substrings) from within a string.\n",
    "\n",
    "Imagine each index as a small number, counting upwards from 0, that is placed below and to the left of each letter in a string, as shown below:\n",
    "<br>\n",
    "<img src=\"../images/positive_string_indices.png\" width=\"400\" align=\"left\"  description=\"The string greeting = Hello World with numbers below and to the left of each letter, so it goes: 0 H 1 E 2 l 3 l 4 0 etc.\"> \n",
    "<br><br><br><br>\n",
    "Sometimes we want to pick letters from the end of a string. For convenience, python also numbers strings right-to-left using negative indices:\n",
    "<br>\n",
    "<img src=\"../images/negative_string_indices.png\" width=\"400\" align=\"left\"  description=\"The string greeting = Hello World with numbers below and to the left of each letter, so it goes: 0 H 1 E 2 l 3 l 4 0 etc.\"> \n",
    "<br><br><br><br>\n",
    "We can use positive and negative indices to grab the parts of a python string that we want!\n"
   ]
  },
  {
   "cell_type": "markdown",
   "metadata": {},
   "source": [
    "### Selecting individual characters from a string using string indexing\n",
    "\n",
    "We can select individual characters form a string using square brackets after the string with the index of that character inside. Python will find the index in the string and give us the character just to the right of it. \n",
    "\n",
    "Here are some examples:"
   ]
  },
  {
   "cell_type": "code",
   "execution_count": 7,
   "metadata": {},
   "outputs": [
    {
     "name": "stdout",
     "output_type": "stream",
     "text": [
      "The first letter in our greeting is: H\n",
      "The last letter in our greeting is: !\n"
     ]
    }
   ],
   "source": [
    "greeting = \"Hello world!\"\n",
    "\n",
    "#get the H in 'Hell'\n",
    "first_letter = greeting[0]\n",
    "print(f\"The first letter in our greeting is: {first_letter}\")\n",
    "\n",
    "#use a reverse index get the last character\n",
    "last_letter = greeting[-1]\n",
    "print(f\"The last letter in our greeting is: {last_letter}\")\n"
   ]
  },
  {
   "cell_type": "markdown",
   "metadata": {},
   "source": [
    "**Applied Example:** let's say we wanted to get the 3rd nucleotide in a codon (codons are the three letter codes in RNA and DNA that each code for one amino acid in a protein).  If we remember that python indices count from 0 upward, we can get the right one:"
   ]
  },
  {
   "cell_type": "code",
   "execution_count": 8,
   "metadata": {},
   "outputs": [
    {
     "name": "stdout",
     "output_type": "stream",
     "text": [
      "The nucleotide at the third codon position is G\n"
     ]
    }
   ],
   "source": [
    "codon = \"AUG\"\n",
    "third_nucleotide = codon[2]\n",
    "print(f\"The nucleotide at the third codon position is {third_nucleotide}\")"
   ]
  },
  {
   "cell_type": "markdown",
   "metadata": {},
   "source": [
    "### Selecting substrings from a string using string slicing\n",
    "\n",
    "We can also grab whole sets of characters from a string using **string slicing**. This is done by placing a start and end index inside the brackets, and separating them by a colon:"
   ]
  },
  {
   "cell_type": "code",
   "execution_count": 9,
   "metadata": {},
   "outputs": [
    {
     "name": "stdout",
     "output_type": "stream",
     "text": [
      "NNNNN\n"
     ]
    }
   ],
   "source": [
    "dna_seq = \"ATCGTANNNNNAG\"\n",
    "print(dna_seq[6:11])\n"
   ]
  },
  {
   "cell_type": "markdown",
   "metadata": {},
   "source": [
    "In combination with the trick of adding strings together using +, we can use string slicing to cut the N's out of the above DNA sequence:"
   ]
  },
  {
   "cell_type": "code",
   "execution_count": 10,
   "metadata": {},
   "outputs": [
    {
     "name": "stdout",
     "output_type": "stream",
     "text": [
      "ATCGTAAG\n"
     ]
    }
   ],
   "source": [
    "dna_seq_without_Ns = dna_seq[0:6] + dna_seq[11:13] \n",
    "print(dna_seq_without_Ns)"
   ]
  },
  {
   "cell_type": "markdown",
   "metadata": {},
   "source": [
    "If we leave a start or end coordinate off, but still put the colon, python interprets this as 'from the beginning of the string' or 'until the end of the string'. Therefore, the above code could also be written:"
   ]
  },
  {
   "cell_type": "code",
   "execution_count": 11,
   "metadata": {},
   "outputs": [
    {
     "name": "stdout",
     "output_type": "stream",
     "text": [
      "ATCGTAAG\n"
     ]
    }
   ],
   "source": [
    "dna_seq_without_Ns = dna_seq[:6] + dna_seq[11:] \n",
    "print(dna_seq_without_Ns)"
   ]
  },
  {
   "cell_type": "markdown",
   "metadata": {},
   "source": [
    "### Advanced string slicing: skipping characters with stride\n",
    "\n",
    "If you add another colon to your string index, you can skip certain characters by adding another colon and a number after our slice. Here's how it works with our hello world message:\n"
   ]
  },
  {
   "cell_type": "code",
   "execution_count": 12,
   "metadata": {},
   "outputs": [
    {
     "name": "stdout",
     "output_type": "stream",
     "text": [
      "Hlowrd\n"
     ]
    }
   ],
   "source": [
    "greeting = \"Hello world!\"\n",
    "every_other_letter = greeting[::2]\n",
    "print(every_other_letter)"
   ]
  },
  {
   "cell_type": "markdown",
   "metadata": {},
   "source": [
    "Here's a biological example. Let's say we want to access the 3rd codon position in each codon in a DNA sequence. We could define our sequence as a string, and then use stride to get just every 3rd nucleotide. We'll have to start at index 2 because when using stride the 0th character is automatically included (and we want only 3rd codon positions):"
   ]
  },
  {
   "cell_type": "code",
   "execution_count": 13,
   "metadata": {},
   "outputs": [
    {
     "name": "stdout",
     "output_type": "stream",
     "text": [
      "Here are the 3rd codon positions: CTC\n"
     ]
    }
   ],
   "source": [
    "dna_seq = \"CTCAGTAAC\"\n",
    "#Extract all 3rd codon positions from a sequence,\n",
    "#assuming the 0th character is the 1st codon position\n",
    "#of the first codon\n",
    "start = 2\n",
    "end = len(dna_seq)\n",
    "stride = 3\n",
    "third_codon_positions = dna_seq[start:end:stride]\n",
    "print(\"Here are the 3rd codon positions:\",third_codon_positions)"
   ]
  },
  {
   "cell_type": "markdown",
   "metadata": {},
   "source": [
    "## Wrapping string operations in functions\n",
    "\n",
    "Most real python code used in projects is wrapped up into functions or classes. Function `def`initions were introduced in the Exploring Python chapter. However, for most folks learning python for the first time, it takes a lot of practice to get comfortable writing functions. In this section, we'll see how to represent some of the code from up above as a reusable function. Then, if you feel like you could use some practice with functions, you can try representing any of the other examples you'd like as functions as well. \n",
    "\n",
    "### Writing and informally testing a function to extract 3rd codon positions from a sequence\n",
    "\n",
    "Let's start with the most recent example first: extracting 3rd codon positions from a DNA sequence that is already assumed to be 'in-frame' (that is starting with the first codon as the first letter). When using functions in python, we always have two main steps: writing the function itself (which tells python what to do when you call that function) and then actually calling the function. \n",
    "\n",
    "### Defining our function\n",
    "So first we'll write the definition for our function that extracts 3rd codon positions. Recall that functions in python\n",
    "    - start with the `def` keyword, the name of the function, the parameters of the function and a colon\n",
    "    - have a triple quoted (\"\"\"Help goes here\"\"\") doc string with help text\n",
    "      (this goes right after the defintion line)\n",
    "    - use indented code to say what is part of the function\n",
    "    - use the `return` keyword to pass information out of the function. \n",
    "\n",
    "Here's an example using our code for getting the 3rd codon position from sequences up above:"
   ]
  },
  {
   "cell_type": "code",
   "execution_count": 26,
   "metadata": {},
   "outputs": [],
   "source": [
    "def get_3rd_codon_positions(seq):\n",
    "    \"\"\"Extract the 3rd codon positions from a sequence\n",
    "    \"\"\"\n",
    "    start = 2\n",
    "    end = len(seq)\n",
    "    result = seq[start:end:3]\n",
    "    return result"
   ]
  },
  {
   "cell_type": "markdown",
   "metadata": {},
   "source": [
    "### Testing our function\n",
    "\n",
    "Now let's run the function definition and try it on some example sequences. *Critically* we want to test a variety of sequences *where we can predict the right answer* to make sure we understand how our function handles them, and to confirm it's what we want before applying it to anything biological.\n",
    "\n",
    "Here's our first test: the pretty normal codons AAA TGA ACG. "
   ]
  },
  {
   "cell_type": "code",
   "execution_count": 27,
   "metadata": {},
   "outputs": [],
   "source": [
    "#test1 - basic codons \n",
    "seq1 = \"AAATGAACG\""
   ]
  },
  {
   "cell_type": "markdown",
   "metadata": {},
   "source": [
    "To keep ourselves honest, let's write down the result we expect *before* we run the function, using the variable expected."
   ]
  },
  {
   "cell_type": "code",
   "execution_count": 28,
   "metadata": {},
   "outputs": [],
   "source": [
    "expected = 'AAG'"
   ]
  },
  {
   "cell_type": "markdown",
   "metadata": {},
   "source": [
    "Now we can run the function on our test sequence, and confirm whether the result is what we think. To do that with code, we can use `==` to compare our observed and expected values and get a `True` or `False` (Boolean) value. This may look a little weird, but in python regular (single) `=`*assigns* a value to a variable (like in `x = 7`) whereas `==` *tests* if two things are equal (i.e. is x 7?)\n",
    "\n",
    "**Note**: if you get a `NameError` when running the code below, make sure you've run the function definition up above - otherwise python won't know what we're referring to when we call get_3rd_codon_positions, since it's a custom function we just made up, not a builtin python function."
   ]
  },
  {
   "cell_type": "code",
   "execution_count": 33,
   "metadata": {},
   "outputs": [
    {
     "name": "stdout",
     "output_type": "stream",
     "text": [
      "Running get_3rd_codon_position on AAATGAACG gave this result: AAG\n",
      "get_3rd_codon_position extracts position 3 nucleotides from regular codon sequence .... True\n"
     ]
    }
   ],
   "source": [
    "seq = \"AAATGAACG\"\n",
    "expected = 'AAG'\n",
    "observed = get_3rd_codon_positions(seq)\n",
    "print(f\"Running get_3rd_codon_position on {seq} gave this result: {observed}\")\n",
    "test_result = observed == expected\n",
    "print(f\"get_3rd_codon_position extracts position 3 nucleotides from regular codon sequence .... {test_result}\")"
   ]
  },
  {
   "cell_type": "markdown",
   "metadata": {},
   "source": [
    "You can use tests like this to verify the importance of each part of your function. For example, when writing the code, my first version omitted starting at 2. To see how this changes the answer, try changing the start variable in the function to 0. It's very easy to make mistakes like that one that run without errors but produce results that are misleading. Testing code is critical to making sure your conclusions are actually true."
   ]
  },
  {
   "cell_type": "markdown",
   "metadata": {},
   "source": [
    "Now that we've verified our function's behavior on an easy case, we should also test to make sure it does what we expect in less obvious cases. For example, what behavior should we expect if the sequence length isn't cleanly divisible into codons? We can test this with another example. The only code we should have to change is the input sequence and the expected output. The rest can stay exactly the same."
   ]
  },
  {
   "cell_type": "code",
   "execution_count": 34,
   "metadata": {},
   "outputs": [
    {
     "name": "stdout",
     "output_type": "stream",
     "text": [
      "Running get_3rd_codon_position on AAATG gave this result: A\n",
      "get_3rd_codon_position extracts position 3 nucleotides from regular codon sequence .... True\n"
     ]
    }
   ],
   "source": [
    "seq = \"AAATG\"\n",
    "expected = \"A\"\n",
    "observed = get_3rd_codon_positions(seq)\n",
    "print(f\"Running get_3rd_codon_position on {seq} gave this result: {observed}\")\n",
    "test_result = observed == expected\n",
    "print(f\"get_3rd_codon_position extracts position 3 nucleotides from regular codon sequence .... {test_result}\")"
   ]
  },
  {
   "cell_type": "markdown",
   "metadata": {},
   "source": [
    "If your code behaves as expected in several examples where you know the right answer, you can start to trust it enough to use it as part of your projects. Generally speaking, the more careful and diverse tests you run, the more you can trust your code. For this reason, as projects become more complex tests are often automated using separate *test code* scripts that run all the functions in the main script on known examples. That way if a change in one part of the code messes something else up, you can detect that there's a problem automatically, because some of the examples stop working. We'll revisit test code later, but for now be sure to test any code you want to use. If you have known examples of what your code *should* do you'll be ahead of the game when it comes time to write formal test code.\n",
    "\n",
    "In the exercises, you can try applying what we learned above to do some new analyses, and wrapping up some analyses we already did into functions."
   ]
  },
  {
   "cell_type": "markdown",
   "metadata": {},
   "source": [
    "## Exercises\n",
    "\n",
    "1. Write python code to count the number of 'N' (ambiguous) characters in a DNA sequence. Test it with this short sequence: \n",
    "\n",
    "<pre>short_dna_seq = \"NNNATGNNCNN\"</pre>. Did you get 7 as expected? If so, apply your code to count the N characters in a longer sequence like this one: \n",
    "\n",
    "<pre>dna_seq=\"TACGTAGCTCACGTACGTACGTACGTACGTAGCTACGTAGCTAGCTCGCGGCGCGCCGCGNATCGTACGTACCTACGTACGTCNGTACGTACGTATCGTACGCTGACTACGTACGTACGTACGATCGTACGTAGCTACGTACTCAGNNNNTACGTACGTCACGNTACGTACTGACTGCN\"</pre>\n",
    "\n",
    "2. Write python code to convert the below RNA sequence into uppercase:\n",
    "\n",
    "<pre>rna_seq = \"augcggguacuacguacgucgcggcgcgcuagcuacggugcuacggggcuagc\"</pre>\n",
    "\n",
    "3. Write python code that prints to screen \"Your sequence is 17 nucleotides long\" for a sequence of 17 nucleotides, and automatically changes the number based on the number of nucleotides in your sequence. (So for example if your sequence was 53 nucleotides long it should print \"Your sequence is 53 nucleotides long\")\n",
    "\n",
    "4. Write python code that converts an RNA sequence to a DNA sequence by replacing all characters representing Uracil with characters representing Thymidine\n",
    "\n",
    "5. Aligned DNA sequences often have gap (`-`) characters in them. Sometimes you aren't comparing sequences and so want to remove these gaps. Write code that removes gaps from a sequence. HINT: replacing a character with an empty string ('') is equivalent to removing it from a sequence. \n",
    "\n",
    "6. Write code to calculate the percentage of a sequence that is gaps. HINT: you might count the number of gaps directly using the count method , or you might use your answer to number 5, generate an ungapped sequence, and infer the percentage of gaps by the change in sequence length when converting to ungapped.\n",
    "\n",
    "7. Try learning about a new python string method on your own. Use help(str) to get a list. If the description is \n",
    "unclear, Google for a tutorial. For example, if I wanted to learn about the index method, I might search for \"python index string method tutorial\". Commonly used string methods you might want to research include: startswith, strip, replace, and index.\n",
    "\n",
    "8. Pick any example of something useful you can do with string operations from the chapter or the previous exercises. Write a python function to do that thing to any sequence you provide. Work out 1-3 examples by hand, and use the test framework from up above to double check that your code gets the right answer!\n",
    "\n",
    "-----------------------------------------------------------------------------------------------------------------\n",
    "\n",
    "Once you have jotted down your answers, you can check them in the [answer key](./biological_sequences_exercise_answers.ipynb)"
   ]
  },
  {
   "cell_type": "markdown",
   "metadata": {},
   "source": [
    "## [Reading Responses & Feedback](https://docs.google.com/forms/d/e/1FAIpQLSeUQPI_JbyKcX1juAFLt5z1CLzC2vTqaCYySUAYCNElNwZqqQ/viewform?usp=pp_url&entry.2118603224=Biological+Sequences+-+Representing+Sequences+as+Python+Strings)\n"
   ]
  }
 ],
 "metadata": {
  "kernelspec": {
   "display_name": "Python 3 (ipykernel)",
   "language": "python",
   "name": "python3"
  },
  "language_info": {
   "codemirror_mode": {
    "name": "ipython",
    "version": 3
   },
   "file_extension": ".py",
   "mimetype": "text/x-python",
   "name": "python",
   "nbconvert_exporter": "python",
   "pygments_lexer": "ipython3",
   "version": "3.9.19"
  }
 },
 "nbformat": 4,
 "nbformat_minor": 2
}
