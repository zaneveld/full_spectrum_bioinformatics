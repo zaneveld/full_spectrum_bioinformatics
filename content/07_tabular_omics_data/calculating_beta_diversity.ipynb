{
 "cells": [
  {
   "cell_type": "markdown",
   "metadata": {},
   "source": [
    "# Calculating Alpha Diversity in Python\n",
    "\n",
    "Alpha diversity summarizes biodiversity witin a particular site. In this section we will show a conceptual overview of how to calculate alpha diversity in python using microbiome data that has been summarized into a table. In practice, it is almost always best to use carefully tested software to calculate alpha diversity on samples for research purposes. However, doing it yourself on simple examples is a great way to understand what these methods are doing, and an essential step in adding your own methods!"
   ]
  },
  {
   "cell_type": "markdown",
   "metadata": {},
   "source": [
    "## In this section\n",
    "    - Loading tabular alpha diversity data\n",
    "    - Iterating over samples\n",
    "    - Calculating the `observed_species` metric\n",
    "    "
   ]
  },
  {
   "cell_type": "markdown",
   "metadata": {},
   "source": [
    "## Prerequisites"
   ]
  },
  {
   "cell_type": "markdown",
   "metadata": {},
   "source": [
    "## Table of Content\n",
    "* [In this section](#In-this-section)\n",
    "* [Prerequisites](#Prerequisites)\n",
    "* [Main Text](#Main-text)\n",
    "* [Subheading](#Subheading)\n",
    "* [Subheading 2](#Subheading-2)"
   ]
  },
  {
   "cell_type": "markdown",
   "metadata": {},
   "source": [
    "## Flavors of Alpha Diversity:  Richness & Evenness\n",
    "\n",
    "Alpha diveristy is often divided into metrics that measure ecological richness (how many or what diversity of species are present) and evenness (are species in equal or unequal abundances). The difference between these measures conceptually is diagrammed below.\n",
    "\n",
    "<img src=\"resources/richness_vs_eveness.png\" width=\"800\">\n",
    "\n",
    "\n",
    "\n",
    "\n",
    "## Check data availability\n",
    "\n",
    "First let's download a data file to work with. You can find scenario_1_otus_pandas.tsv <a href=\"scenario_1_otus_pandas.tsv\"> here </a> Download it into the same folder as your jupyter notebook, then let's confirm that we've got it. If we have the feature table we are going to analyze in our current working directory, we should be able to see the file `scenario_1_otus_panda.tsv`when we run `listdir()`.\n",
    "\n",
    "If you have any trouble, you can make your own Excel or Google sheets file matching the data shown below, then download that in tab-delimited format into your current working directory. "
   ]
  },
  {
   "cell_type": "code",
   "execution_count": 1,
   "metadata": {},
   "outputs": [
    {
     "name": "stdout",
     "output_type": "stream",
     "text": [
      "Data file available\n"
     ]
    },
    {
     "data": {
      "text/plain": [
       "['scenario1_otus_pandas.txt',\n",
       " 'Scenario_1_specific_pathogen_table_only.png',\n",
       " 'evenness.png',\n",
       " 'gene_id_vs_length.txt',\n",
       " 'Scenario_4_alpha_diversity_with_table_r2-01.png',\n",
       " 'richness.png',\n",
       " 'observed_diversity_vs_sequencing_depth.png',\n",
       " 'Scenario_1_specific_pathogen_w_table-01.png',\n",
       " 'richness_vs_eveness.png',\n",
       " 'coral_disease_susceptibility.txt',\n",
       " 'Scenario_2_community_shift.ai',\n",
       " 'coral_symbiont_abundance.txt',\n",
       " 'Scenario_5_beta_diversity_no_table-01.png',\n",
       " 'Scenario_2_community_shift_no_table-01.png',\n",
       " 'paleobiodb_dinosauria_occurences.csv',\n",
       " 'Scenario_3_microbial_overgrowth_no_table-01.png',\n",
       " 'gene_id_vs_hgt.txt',\n",
       " 'coral_microbiome_diversity.txt',\n",
       " 'Scenario_1_specific_pathogen_no_table-01.png']"
      ]
     },
     "execution_count": 1,
     "metadata": {},
     "output_type": "execute_result"
    }
   ],
   "source": [
    "from os import listdir\n",
    "\n",
    "if \"scenario_1_otus_pandas.tsv\" not in listdir():\n",
    "    print(\"Missing data file. Add scenario_1_otus_pandas.tsv to the current folder before proceeding\")\n",
    "    print(\"Files in your current folder are:\",listdir())\n",
    "else:\n",
    "    print(\"Data file available\")\n",
    "listdir('resources')"
   ]
  },
  {
   "cell_type": "markdown",
   "metadata": {},
   "source": [
    "## Load feature table data\n",
    "\n",
    "Let's begin by importing `pandas`, loading our feature table data as a `pandas` `DataFrame` object, and then setting the `OTU_ID` column — which uniquely identifies each type of microbe — to be our index"
   ]
  },
  {
   "cell_type": "code",
   "execution_count": 2,
   "metadata": {},
   "outputs": [
    {
     "data": {
      "text/html": [
       "<div>\n",
       "<style scoped>\n",
       "    .dataframe tbody tr th:only-of-type {\n",
       "        vertical-align: middle;\n",
       "    }\n",
       "\n",
       "    .dataframe tbody tr th {\n",
       "        vertical-align: top;\n",
       "    }\n",
       "\n",
       "    .dataframe thead th {\n",
       "        text-align: right;\n",
       "    }\n",
       "</style>\n",
       "<table border=\"1\" class=\"dataframe\">\n",
       "  <thead>\n",
       "    <tr style=\"text-align: right;\">\n",
       "      <th></th>\n",
       "      <th>patient1</th>\n",
       "      <th>patient2</th>\n",
       "      <th>patient3</th>\n",
       "      <th>patient4</th>\n",
       "      <th>patient5</th>\n",
       "      <th>patient6</th>\n",
       "      <th>patient7</th>\n",
       "      <th>patient8</th>\n",
       "      <th>patient9</th>\n",
       "      <th>patient10</th>\n",
       "      <th>patient11</th>\n",
       "      <th>patient12</th>\n",
       "    </tr>\n",
       "    <tr>\n",
       "      <th>OTU_ID</th>\n",
       "      <th></th>\n",
       "      <th></th>\n",
       "      <th></th>\n",
       "      <th></th>\n",
       "      <th></th>\n",
       "      <th></th>\n",
       "      <th></th>\n",
       "      <th></th>\n",
       "      <th></th>\n",
       "      <th></th>\n",
       "      <th></th>\n",
       "      <th></th>\n",
       "    </tr>\n",
       "  </thead>\n",
       "  <tbody>\n",
       "    <tr>\n",
       "      <th>OTU1</th>\n",
       "      <td>3</td>\n",
       "      <td>4</td>\n",
       "      <td>2</td>\n",
       "      <td>2</td>\n",
       "      <td>0</td>\n",
       "      <td>4</td>\n",
       "      <td>4</td>\n",
       "      <td>4</td>\n",
       "      <td>0</td>\n",
       "      <td>3</td>\n",
       "      <td>2</td>\n",
       "      <td>2</td>\n",
       "    </tr>\n",
       "    <tr>\n",
       "      <th>OTU2</th>\n",
       "      <td>4</td>\n",
       "      <td>1</td>\n",
       "      <td>3</td>\n",
       "      <td>4</td>\n",
       "      <td>1</td>\n",
       "      <td>3</td>\n",
       "      <td>3</td>\n",
       "      <td>3</td>\n",
       "      <td>4</td>\n",
       "      <td>1</td>\n",
       "      <td>1</td>\n",
       "      <td>4</td>\n",
       "    </tr>\n",
       "    <tr>\n",
       "      <th>OTU3</th>\n",
       "      <td>1</td>\n",
       "      <td>4</td>\n",
       "      <td>2</td>\n",
       "      <td>1</td>\n",
       "      <td>4</td>\n",
       "      <td>2</td>\n",
       "      <td>2</td>\n",
       "      <td>2</td>\n",
       "      <td>1</td>\n",
       "      <td>4</td>\n",
       "      <td>4</td>\n",
       "      <td>1</td>\n",
       "    </tr>\n",
       "    <tr>\n",
       "      <th>OTU4</th>\n",
       "      <td>2</td>\n",
       "      <td>3</td>\n",
       "      <td>0</td>\n",
       "      <td>1</td>\n",
       "      <td>2</td>\n",
       "      <td>0</td>\n",
       "      <td>1</td>\n",
       "      <td>2</td>\n",
       "      <td>3</td>\n",
       "      <td>0</td>\n",
       "      <td>2</td>\n",
       "      <td>1</td>\n",
       "    </tr>\n",
       "    <tr>\n",
       "      <th>OTU5</th>\n",
       "      <td>0</td>\n",
       "      <td>0</td>\n",
       "      <td>0</td>\n",
       "      <td>0</td>\n",
       "      <td>0</td>\n",
       "      <td>0</td>\n",
       "      <td>1</td>\n",
       "      <td>4</td>\n",
       "      <td>2</td>\n",
       "      <td>2</td>\n",
       "      <td>3</td>\n",
       "      <td>4</td>\n",
       "    </tr>\n",
       "  </tbody>\n",
       "</table>\n",
       "</div>"
      ],
      "text/plain": [
       "        patient1  patient2  patient3  patient4  patient5  patient6  patient7  \\\n",
       "OTU_ID                                                                         \n",
       "OTU1           3         4         2         2         0         4         4   \n",
       "OTU2           4         1         3         4         1         3         3   \n",
       "OTU3           1         4         2         1         4         2         2   \n",
       "OTU4           2         3         0         1         2         0         1   \n",
       "OTU5           0         0         0         0         0         0         1   \n",
       "\n",
       "        patient8  patient9  patient10  patient11  patient12  \n",
       "OTU_ID                                                       \n",
       "OTU1           4         0          3          2          2  \n",
       "OTU2           3         4          1          1          4  \n",
       "OTU3           2         1          4          4          1  \n",
       "OTU4           2         3          0          2          1  \n",
       "OTU5           4         2          2          3          4  "
      ]
     },
     "execution_count": 2,
     "metadata": {},
     "output_type": "execute_result"
    }
   ],
   "source": [
    "import pandas as pd\n",
    "\n",
    "df = pd.read_csv(\"scenario_1_otus_pandas.txt\",sep=\"\\t\")\n",
    "df = df.set_index(\"OTU_ID\")\n",
    "df"
   ]
  },
  {
   "cell_type": "markdown",
   "metadata": {},
   "source": [
    "## Calculate alpha diversity using the observed features metric\n",
    "\n",
    "To allow our code for calculating alpha diversity to be modular, we should separate functions for calculating alpha diversity for a given sample from the general code for looping over all the samples and calculating alpha diversity. This has the side benefit of allowing us to set up our `calc_alpha_diversity` function to allow a separate \"metric\" function to be passed. As long as we only pass functions that can take a list of counts and output a diversity value, we can write different functions for each type of alpha diversity, and just pass whichever one is relevant to `calc_alpha_diversity`."
   ]
  },
  {
   "cell_type": "code",
   "execution_count": 3,
   "metadata": {},
   "outputs": [],
   "source": [
    "def get_observed_species(count_list):\n",
    "    \"\"\"Return the number of species with positive counts\n",
    "    \n",
    "    count_list -- a list of ints representing how many times each species was\n",
    "    seen in an sample\n",
    "    \"\"\"\n",
    "    observed_species = 0\n",
    "    \n",
    "    for i,current_count in enumerate(count_list):\n",
    "        current_count = int(current_count)\n",
    "        if current_count > 0:\n",
    "            observed_species +=1\n",
    "    \n",
    "        elif current_count < 0:\n",
    "            raise ValueError(f\"Only positive species counts are allowed but {current_count} at position {i} is negative.\")\n",
    "    \n",
    "    return observed_species\n",
    "        "
   ]
  },
  {
   "cell_type": "markdown",
   "metadata": {},
   "source": [
    "Let's do some quick tests to make sure our alpha diversity function is working. First, let's test an easy example: a community with 3 species present and all others absent. We expect an observed species metric of 3."
   ]
  },
  {
   "cell_type": "code",
   "execution_count": 4,
   "metadata": {},
   "outputs": [
    {
     "name": "stdout",
     "output_type": "stream",
     "text": [
      "get_observed_species returns 3 on data [0, 1, 0, 1, 0, 0, 0, 0, 0, 1, 0] .... True\n"
     ]
    }
   ],
   "source": [
    "species_data = [0,1,0,1,0,0,0,0,0,1,0]\n",
    "expected = 3\n",
    "observed = get_observed_species(species_data)\n",
    "result = expected == observed\n",
    "print(f\"get_observed_species returns {expected} on data {species_data} .... {result}\")"
   ]
  },
  {
   "cell_type": "markdown",
   "metadata": {},
   "source": [
    "Great! That worked. For completeness we should also test some cases that might mess up a method that wasn't working well."
   ]
  },
  {
   "cell_type": "markdown",
   "metadata": {},
   "source": [
    "**Try it yourself**: write at least one additional informal test of the get_observed_species function."
   ]
  },
  {
   "cell_type": "markdown",
   "metadata": {},
   "source": [
    "## Looping over all samples and applying our alpha diversity metric\n",
    "\n",
    "To calculate alpha diversity, we'll need to loop over all samples and apply our alpha diversity metric. We'll also need to store our alpha diversity results in some sort of data structure, which could be a list, dict, pandas DataFrame, or custom class. In this case we'll use a `dict` with the SampleIDs as keys and the diversity as values."
   ]
  },
  {
   "cell_type": "code",
   "execution_count": 5,
   "metadata": {},
   "outputs": [
    {
     "data": {
      "text/plain": [
       "{'patient1': 4,\n",
       " 'patient2': 4,\n",
       " 'patient3': 3,\n",
       " 'patient4': 4,\n",
       " 'patient5': 3,\n",
       " 'patient6': 3,\n",
       " 'patient7': 5,\n",
       " 'patient8': 5,\n",
       " 'patient9': 4,\n",
       " 'patient10': 4,\n",
       " 'patient11': 5,\n",
       " 'patient12': 5}"
      ]
     },
     "execution_count": 5,
     "metadata": {},
     "output_type": "execute_result"
    }
   ],
   "source": [
    "def calc_alpha_diversity(df,metric=get_observed_species):\n",
    "    \"\"\"Return a list of alpha diveristy values given a dataframe with samples on columns\n",
    "    \n",
    "    df -- a pandas dataframe with samples on the columns and microbe ids on the rows\n",
    "    metric -- a python function that takes a column of species abundances as input and returns a vector\n",
    "    of diversity data \n",
    "    \"\"\"\n",
    "\n",
    "\n",
    "    column_names = list(df.columns)\n",
    "\n",
    "    alpha_diversity = {}\n",
    "    for column in column_names:\n",
    "    \n",
    "        current_data = list(df[column])\n",
    "        current_diversity = metric(current_data)\n",
    "        alpha_diversity[column] = current_diversity\n",
    "    \n",
    "    return alpha_diversity\n",
    "    \n",
    "calc_alpha_diversity(df)"
   ]
  },
  {
   "cell_type": "markdown",
   "metadata": {},
   "source": [
    "If we change our output from a dictionary to a dataframe, we can use pandas builtin functionality to be able\n",
    "to export a tab-delimited table with our alpha diversity results\n",
    "\n"
   ]
  },
  {
   "cell_type": "code",
   "execution_count": 40,
   "metadata": {},
   "outputs": [],
   "source": [
    "def calc_alpha_diversity(df,metric=get_observed_species):\n",
    "    \"\"\"Return a list of alpha diveristy values given a dataframe with samples on columns\n",
    "    \n",
    "    df -- a pandas dataframe with samples on the columns and microbe ids on the rows\n",
    "    metric -- a python function that takes a column of species abundances as input and returns a vector\n",
    "    of diversity data \n",
    "    \"\"\"\n",
    "\n",
    "\n",
    "    column_names = list(df.columns)\n",
    "\n",
    "    alpha_diversity = {}\n",
    "    for column in column_names:\n",
    "    \n",
    "        current_data = list(df[column])\n",
    "        current_diversity = metric(current_data)\n",
    "        alpha_diversity[column] = current_diversity\n",
    "    \n",
    "    alpha_diversity = pd.DataFrame.from_dict(data=alpha_diversity, orient='index', columns=['alpha_diversity'])\n",
    "    return alpha_diversity\n",
    "\n",
    "\n",
    "\n",
    "#Run the funciton we defined above\n",
    "#to calculate alpha diversity\n",
    "\n",
    "adiv_df = calc_alpha_diversity(df)\n"
   ]
  },
  {
   "cell_type": "markdown",
   "metadata": {},
   "source": [
    "### Saving our alpha diversity values\n",
    "\n",
    "Now that we are outputing a standard dataframe, we can save our results to a .csv or .tsv file for inclusion as a supplementary data file with our paper, or to use in other steps of our analysis. "
   ]
  },
  {
   "cell_type": "code",
   "execution_count": 10,
   "metadata": {},
   "outputs": [],
   "source": [
    "adiv_df = calc_alpha_diversity(df)\n",
    "adiv_df.to_csv(\"adiv_results.csv\", index_label = \"#SampleID\", header=[\"observed_features\"], sep=\",\")"
   ]
  },
  {
   "cell_type": "markdown",
   "metadata": {},
   "source": [
    "## Plotting and comparing alpha diversity values\n",
    "\n",
    "A common point of confusion is that alpha diversity values are calculated per sample, while beta-diversity distances are calculated between samples. Therefore, it is often confusing when it comes time to compare alpha diversities - after all, the resources you consulted just emphasized how these are a single number for each sample. \n",
    "\n",
    "An analogy might help: age is a value calculated per individual, while relationship is something that usually only makes sense in terms of at least two people. But despite each person having just one age, we can certainly compare groups of people in terms of their average age. \n",
    "\n",
    "Similar reasoning applies to alpha diversity. We often want to know whether, for example, patients who got some disease had higher or lower microbiome richness than those who did not.\n",
    "\n",
    "To figure that out, we can calcualte alpha diversities for each individual. If we have another file, typically called a *metadata* or *mapping* file, that tells us which samples come from healthy vs. diseased patients, we can then divide our diversity values into separate categories: one for healthy and one for diseased. From there we can plot and statistically compare alpha diversity values using similar techniques to those in the 'A Quick Win Chapter' (though often non-parametric Kruskal-Wallace tests are used for stats when there are multiple categories).\n",
    "\n",
    "The most challenging part of this is linking sample ids between the two separate files so we can tell which samples represent healthy vs. sick patients and dividing up the alpha diversity data based on that category.\n",
    "Afterwards we'll have two lists and analysis will be similar to things we've done before.\n",
    "\n",
    "Let's start tackling this problem step by step. We need to:\n",
    "\n",
    "- Make sure we have a file with metadata about samples\n",
    "- Load the metadata file as a pandas dataframe\n",
    "- Find the column that we want to use for our comparison\n",
    "- Figure out which sample ids have each value\n",
    "- Compile alpha diversities from those sample ids (in the results we calculated up above) into lists"
   ]
  },
  {
   "cell_type": "markdown",
   "metadata": {},
   "source": [
    "## Loading the Scenario 1 mapping file\n",
    "\n",
    "You can make a mapping or metadata file in Excel. Set the first column to `#SampleID`, and subsequent columns to the names of variables. Each row below the header should represent the metadata about one sample. For each column, fill in the metadata about that sample. When you are done, save as tab-delimited text.\n",
    "\n",
    "For now, let's load the [mapping file for scenario 1](./scenario_1_mapping.txt). This will tell us which patients had the disease, as well as the age of each patient.\n",
    "\n"
   ]
  },
  {
   "cell_type": "code",
   "execution_count": 7,
   "metadata": {},
   "outputs": [
    {
     "name": "stdout",
     "output_type": "stream",
     "text": [
      "Index(['#SampleID', 'health_status', 'age'], dtype='object')\n"
     ]
    },
    {
     "data": {
      "text/html": [
       "<div>\n",
       "<style scoped>\n",
       "    .dataframe tbody tr th:only-of-type {\n",
       "        vertical-align: middle;\n",
       "    }\n",
       "\n",
       "    .dataframe tbody tr th {\n",
       "        vertical-align: top;\n",
       "    }\n",
       "\n",
       "    .dataframe thead th {\n",
       "        text-align: right;\n",
       "    }\n",
       "</style>\n",
       "<table border=\"1\" class=\"dataframe\">\n",
       "  <thead>\n",
       "    <tr style=\"text-align: right;\">\n",
       "      <th></th>\n",
       "      <th>health_status</th>\n",
       "      <th>age</th>\n",
       "    </tr>\n",
       "    <tr>\n",
       "      <th>#SampleID</th>\n",
       "      <th></th>\n",
       "      <th></th>\n",
       "    </tr>\n",
       "  </thead>\n",
       "  <tbody>\n",
       "    <tr>\n",
       "      <th>patient1</th>\n",
       "      <td>healthy</td>\n",
       "      <td>53</td>\n",
       "    </tr>\n",
       "    <tr>\n",
       "      <th>patient2</th>\n",
       "      <td>healthy</td>\n",
       "      <td>49</td>\n",
       "    </tr>\n",
       "    <tr>\n",
       "      <th>patient3</th>\n",
       "      <td>healthy</td>\n",
       "      <td>53</td>\n",
       "    </tr>\n",
       "    <tr>\n",
       "      <th>patient4</th>\n",
       "      <td>healthy</td>\n",
       "      <td>19</td>\n",
       "    </tr>\n",
       "    <tr>\n",
       "      <th>patient5</th>\n",
       "      <td>healthy</td>\n",
       "      <td>30</td>\n",
       "    </tr>\n",
       "    <tr>\n",
       "      <th>patient6</th>\n",
       "      <td>disease</td>\n",
       "      <td>17</td>\n",
       "    </tr>\n",
       "    <tr>\n",
       "      <th>patient7</th>\n",
       "      <td>disease</td>\n",
       "      <td>16</td>\n",
       "    </tr>\n",
       "    <tr>\n",
       "      <th>patient8</th>\n",
       "      <td>disease</td>\n",
       "      <td>30</td>\n",
       "    </tr>\n",
       "    <tr>\n",
       "      <th>patient9</th>\n",
       "      <td>disease</td>\n",
       "      <td>19</td>\n",
       "    </tr>\n",
       "    <tr>\n",
       "      <th>patient10</th>\n",
       "      <td>disease</td>\n",
       "      <td>22</td>\n",
       "    </tr>\n",
       "    <tr>\n",
       "      <th>patient11</th>\n",
       "      <td>disease</td>\n",
       "      <td>31</td>\n",
       "    </tr>\n",
       "    <tr>\n",
       "      <th>patient12</th>\n",
       "      <td>disease</td>\n",
       "      <td>21</td>\n",
       "    </tr>\n",
       "  </tbody>\n",
       "</table>\n",
       "</div>"
      ],
      "text/plain": [
       "          health_status  age\n",
       "#SampleID                   \n",
       "patient1        healthy   53\n",
       "patient2        healthy   49\n",
       "patient3        healthy   53\n",
       "patient4        healthy   19\n",
       "patient5        healthy   30\n",
       "patient6        disease   17\n",
       "patient7        disease   16\n",
       "patient8        disease   30\n",
       "patient9        disease   19\n",
       "patient10       disease   22\n",
       "patient11       disease   31\n",
       "patient12       disease   21"
      ]
     },
     "execution_count": 7,
     "metadata": {},
     "output_type": "execute_result"
    }
   ],
   "source": [
    "import pandas as pd\n",
    "\n",
    "mapping_df = pd.read_csv(\"scenario_1_mapping.txt\",sep=\"\\t\")\n",
    "print(mapping_df.columns)\n",
    "mapping_df = mapping_df.set_index(\"#SampleID\")\n",
    "mapping_df"
   ]
  },
  {
   "cell_type": "markdown",
   "metadata": {},
   "source": [
    "### Writing a function to get sample ids for different categories\n",
    "\n",
    "Since we already have a way to find alpha diversity values, our main challenge is to separate samples that do or don't have the disease. If we have a list of sample ids for each group, we can filter the rows of the dataframe to just those in each group one by one. So our first challenge is:\n",
    "\n",
    "- figuring out all the possible categories our samples are in\n",
    "- looping over them one by one to collect sample ids \n",
    "-  filtering our alpha diversity values to just the ones for samples in that category.\n",
    "\n",
    "#### Figuring out all our sample categories\n",
    "\n",
    "In our example we only have two categories: healthy and disease. However, we want to write our code as generally as possible so it's easy to reuse. So we should probably consider that there could be three or more categories of samples. Let's start by figuring out what those categories are.\n",
    "\n",
    "We'll write a function that does this. For it to work, it will need a DataFrame for the mapping file, as well as an indication of what column we are interested in (since there are often many columns in a mapping file).\n",
    "\n",
    "The `.unique()` method of pandas DataFrames is helpful here, since it can get us unique values from a pandas Series object. "
   ]
  },
  {
   "cell_type": "code",
   "execution_count": 13,
   "metadata": {},
   "outputs": [],
   "source": [
    "def unique_category_values(mapping_df,mapping_col):\n",
    "    \"\"\"Return a list of unique values in one column of a mapping file\n",
    "    \n",
    "    mapping_df -- a mapping file represented as a pandas DataFrame\n",
    "    mapping_col -- a string indicating the column we're interested in  \n",
    "    \"\"\"\n",
    "    \n",
    "    data = mapping_df.loc[:,mapping_col]\n",
    "    unique_values = list(data.unique())\n",
    "    unique_values = sorted(unique_values)\n",
    "    return unique_values"
   ]
  },
  {
   "cell_type": "markdown",
   "metadata": {},
   "source": [
    "Let's test it out:"
   ]
  },
  {
   "cell_type": "code",
   "execution_count": 16,
   "metadata": {},
   "outputs": [
    {
     "name": "stdout",
     "output_type": "stream",
     "text": [
      "Unique values for the column are: ['disease', 'healthy']\n"
     ]
    }
   ],
   "source": [
    "unique_values = unique_category_values(mapping_df,'health_status')\n",
    "print(\"Unique values for the column are:\", unique_values)"
   ]
  },
  {
   "cell_type": "markdown",
   "metadata": {},
   "source": [
    "#### Figuring out what category each sample is in\n",
    "\n",
    "Now we'll loop over our samples, and use repeated filtering operations to grab the sample ids associated with each category. We'll then return a dict with categories as the keys and lists of sample_ids as the values"
   ]
  },
  {
   "cell_type": "code",
   "execution_count": 19,
   "metadata": {},
   "outputs": [
    {
     "name": "stdout",
     "output_type": "stream",
     "text": [
      "Finding samples in category disease\n",
      "Finding samples in category healthy\n"
     ]
    }
   ],
   "source": [
    "def categorize_samples(mapping_df,mapping_col):\n",
    "    \"\"\"Return a dict organizing DataFrame rows by sample category\n",
    "    \n",
    "    mapping_df -- a mapping file represented as a pandas DataFrame\n",
    "    mapping_col -- a string indicating the column we're interested in  \n",
    "    \"\"\"\n",
    "    \n",
    "    for category in unique_category_values(mapping_df,mapping_col):\n",
    "        print(f\"Finding samples in category {category}\")\n",
    "        \n",
    "        \n",
    "\n",
    "categorize_samples(mapping_df,\"health_status\")"
   ]
  },
  {
   "cell_type": "markdown",
   "metadata": {},
   "source": [
    "Our function is now looping over categories of samples, but isn't yet filtering out the relevant rows. Let's build on it:"
   ]
  },
  {
   "cell_type": "code",
   "execution_count": 29,
   "metadata": {},
   "outputs": [
    {
     "data": {
      "text/plain": [
       "{'disease': ['patient6',\n",
       "  'patient7',\n",
       "  'patient8',\n",
       "  'patient9',\n",
       "  'patient10',\n",
       "  'patient11',\n",
       "  'patient12'],\n",
       " 'healthy': ['patient1', 'patient2', 'patient3', 'patient4', 'patient5']}"
      ]
     },
     "execution_count": 29,
     "metadata": {},
     "output_type": "execute_result"
    }
   ],
   "source": [
    "def categorize_samples(mapping_df,mapping_col):\n",
    "    \"\"\"Return a dict organizing DataFrame rows by sample category    \n",
    "    \n",
    "    \"\"\"\n",
    "    \n",
    "    ids_by_category = {}\n",
    "    for category in unique_category_values(mapping_df,mapping_col):\n",
    "        \n",
    "        #Create a series of True or False values for whether each row is in the category\n",
    "        category_rows = mapping_df[mapping_col] == category\n",
    "        \n",
    "        #Use that series to select just rows that were True\n",
    "        relevant_samples = mapping_df.loc[category_rows]\n",
    "        \n",
    "        #Get just the index or SampleID values\n",
    "        relevant_sample_ids = list(relevant_samples.index)\n",
    "        \n",
    "        ids_by_category[category] = relevant_sample_ids\n",
    "    \n",
    "    return ids_by_category\n",
    "        \n",
    "\n",
    "categorize_samples(mapping_df,\"health_status\")"
   ]
  },
  {
   "cell_type": "markdown",
   "metadata": {},
   "source": [
    "#### Filtering sample data to those within the category\n",
    "\n",
    "Now that we have a dictionary mapping categories to lists of sample ids, we can loop over that dictionary and pull out alpha diversity data for just those categories one by one."
   ]
  },
  {
   "cell_type": "code",
   "execution_count": 45,
   "metadata": {},
   "outputs": [
    {
     "name": "stdout",
     "output_type": "stream",
     "text": [
      "--------------------------------------------------------------------------------\n",
      "disease\n",
      "\n",
      "data for category:\n",
      "            alpha_diversity\n",
      "patient6                 3\n",
      "patient7                 5\n",
      "patient8                 5\n",
      "patient9                 4\n",
      "patient10                4\n",
      "patient11                5\n",
      "patient12                5\n",
      "--------------------------------------------------------------------------------\n",
      "healthy\n",
      "\n",
      "data for category:\n",
      "           alpha_diversity\n",
      "patient1                4\n",
      "patient2                4\n",
      "patient3                3\n",
      "patient4                4\n",
      "patient5                3\n"
     ]
    }
   ],
   "source": [
    "def yield_table_by_category(data_df, mapping_df, mapping_col ):\n",
    "    \"\"\"Yield feature table\n",
    "    \n",
    "    data_df -- a dataframe with sample ids as indices \n",
    "    mapping_df -- a mapping file represented as a pandas DataFrame\n",
    "    mapping_col -- a string indicating the column we're interested in  \n",
    "    \"\"\"\n",
    "    sample_dict = categorize_samples(mapping_df,mapping_col)\n",
    "    for category, samples in sample_dict.items():       \n",
    "        relevant_data = data_df.loc[samples,:]\n",
    "        yield category,relevant_data\n",
    "\n",
    "for category,df_subset in yield_table_by_category(adiv_df,mapping_df,'health_status'):\n",
    "    print(\"-\"*80)\n",
    "    print(category)\n",
    "    print(\"\\ndata for category:\\n\",df_subset)"
   ]
  },
  {
   "cell_type": "markdown",
   "metadata": {},
   "source": [
    "Now we can reach all the way back to the boxplot code from the 'A Quick Win' chapter to graph our data. To make a boxplot, we'll need a list of categories, and then a nested list with one list of data per category. We can build these up by initializing empty lists before we loop over our categorized data, and then adding our data and category names to those empty lists as we reach each category. This approach has the advantage that it should work for data with any number of categories. "
   ]
  },
  {
   "cell_type": "code",
   "execution_count": 71,
   "metadata": {},
   "outputs": [
    {
     "name": "stdout",
     "output_type": "stream",
     "text": [
      "disease            alpha_diversity\n",
      "patient6                 3\n",
      "patient7                 5\n",
      "patient8                 5\n",
      "patient9                 4\n",
      "patient10                4\n",
      "patient11                5\n",
      "patient12                5\n",
      "healthy           alpha_diversity\n",
      "patient1                4\n",
      "patient2                4\n",
      "patient3                3\n",
      "patient4                4\n",
      "patient5                3\n",
      "['disease', 'healthy']\n",
      "[[3, 5, 5, 4, 4, 5, 5], [4, 4, 3, 4, 3]]\n"
     ]
    },
    {
     "data": {
      "text/plain": [
       "Text(0, 0.5, 'Alpha Diveristy (Observed Features)')"
      ]
     },
     "execution_count": 71,
     "metadata": {},
     "output_type": "execute_result"
    },
    {
     "data": {
      "image/png": "[encoded data removed]",
      "text/plain": [
       "<Figure size 640x480 with 1 Axes>"
      ]
     },
     "metadata": {},
     "output_type": "display_data"
    }
   ],
   "source": [
    "adiv_col = \"alpha_diversity\"\n",
    "\n",
    "categories =[]\n",
    "graph_data = []\n",
    "\n",
    "for category,df_subset in yield_table_by_category(adiv_df,mapping_df,'health_status'):\n",
    "    print(category,df_subset)\n",
    "    categories.append(category)\n",
    "    graph_data.append(list(df_subset.loc[:,adiv_col]))\n",
    "    \n",
    "print(categories)\n",
    "print(graph_data)\n",
    "\n",
    "#Now let's actually graph the data\n",
    "%matplotlib inline\n",
    "from matplotlib.pyplot import boxplot,scatter,xlabel,ylabel\n",
    "\n",
    "boxplot_graph = boxplot(graph_data,labels=categories,patch_artist=True,zorder=-1)\n",
    "xlabel(\"Disease status\")\n",
    "ylabel(\"Alpha Diveristy (Observed Features)\")"
   ]
  },
  {
   "cell_type": "markdown",
   "metadata": {},
   "source": [
    "In this case our boxplot looks pretty bad since we have so few data points. We may wish to show the individual data points in addition to or instead of the boxplots, as they may be clearer in small datasets. The code below shows how to adjust the boxplot colors and add the datapoints themselves. Since many data points in our set have exactly the same y-axis value, we can also add random 'jitter' to the x-axis values (which just represent categories) to prevent points from overlapping one another."
   ]
  },
  {
   "cell_type": "code",
   "execution_count": 74,
   "metadata": {},
   "outputs": [
    {
     "name": "stdout",
     "output_type": "stream",
     "text": [
      "skyblue PathPatch6((0.925, 4) ...)\n",
      "orange PathPatch6((1.925, 3) ...)\n"
     ]
    },
    {
     "data": {
      "image/png": "[encoded data removed]",
      "text/plain": [
       "<Figure size 640x480 with 1 Axes>"
      ]
     },
     "metadata": {},
     "output_type": "display_data"
    }
   ],
   "source": [
    "from random import randint\n",
    "#We can color the boxplot\n",
    "\n",
    "colors = [\"skyblue\",\"orange\"]\n",
    "\n",
    "boxplot_graph = boxplot(graph_data,labels=categories,patch_artist=True,zorder=-1)\n",
    "for color,patch in zip(colors,boxplot_graph[\"boxes\"]):\n",
    "    print(color,patch)\n",
    "    patch.set_facecolor(color)\n",
    "\n",
    "\n",
    "#Boxplots are graphed on the x axis at positions numbered\n",
    "#from 1 rather than zero (even though numbers aren't shown)\n",
    "\n",
    "#We can use this to plot scatterplot points over each boxplot\n",
    "x_axis_positions = {c:i+1 for i,c in enumerate(categories)}\n",
    "\n",
    "\n",
    "\n",
    "for c,d in zip(categories,graph_data):\n",
    "    x_coords = [x_axis_positions[c]]*len(d)\n",
    "    #Add random x-axis jitter to avoid overlap\n",
    "    #Won't change data (y) axis position\n",
    "    jittered_points = []\n",
    "    for point in x_coords:\n",
    "        jitter = randint(-10,10) /100\n",
    "        point = point + point * jitter\n",
    "        jittered_points.append(point)\n",
    "    scatter(jittered_points,d,edgecolor=\"black\",alpha=0.5)\n",
    "    \n",
    "    "
   ]
  },
  {
   "cell_type": "markdown",
   "metadata": {},
   "source": [
    "## Exercises"
   ]
  },
  {
   "cell_type": "markdown",
   "metadata": {},
   "source": [
    "## Reading Responses & Feedback \n",
    "\n",
    "^Make this a hyperlink using Google Forms"
   ]
  },
  {
   "cell_type": "markdown",
   "metadata": {},
   "source": [
    "## Further Reading"
   ]
  },
  {
   "cell_type": "markdown",
   "metadata": {},
   "source": [
    "## References"
   ]
  }
 ],
 "metadata": {
  "kernelspec": {
   "display_name": "Python 3 (ipykernel)",
   "language": "python",
   "name": "python3"
  },
  "language_info": {
   "codemirror_mode": {
    "name": "ipython",
    "version": 3
   },
   "file_extension": ".py",
   "mimetype": "text/x-python",
   "name": "python",
   "nbconvert_exporter": "python",
   "pygments_lexer": "ipython3",
   "version": "3.9.19"
  }
 },
 "nbformat": 4,
 "nbformat_minor": 2
}
