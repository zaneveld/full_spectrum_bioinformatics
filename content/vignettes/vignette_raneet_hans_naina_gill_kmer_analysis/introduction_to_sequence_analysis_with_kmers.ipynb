{
 "cells": [
  {
   "cell_type": "markdown",
   "id": "87bdc968",
   "metadata": {},
   "source": [
    "# Bioinformatics Vignette: Introduction to Sequence Analysis with k-mers\n",
    "\n",
    "## *Vignette Authors*: Naina Gill* and Raneet Hans*\n",
    "*Contributed equally"
   ]
  },
  {
   "cell_type": "markdown",
   "id": "779ab2a4",
   "metadata": {},
   "source": [
    "## About Us"
   ]
  },
  {
   "cell_type": "markdown",
   "id": "95f291cd",
   "metadata": {},
   "source": [
    "<img style=\"margin: 0px 10px 0px 0px;\" align=\"left\" width=\"100\" src=\"./Naina_Picture.jpg\">\n",
    "\n",
    "**Naina:** I've always been interested in coding and computational biology, and even though I'm pursuing medicine, I still enjoy the logical rhythms and efficiency of writing programs. This vignette focuses on exploring k-mers, which I think are a very fascinating and underexplored region of genome analysis. I hope that through the introduction and exercises I've written, you'll find k-mers as exciting as I do. I encourage you to explore and design your own branches of this project, and to keep being curious. =) <br>"
   ]
  },
  {
   "cell_type": "markdown",
   "id": "a2e0b829",
   "metadata": {},
   "source": [
    "<img style=\"margin: 0px 10px 0px 0px;\" align=\"left\" width=\"100\" src=\"./Raneet_Picture.jpg\">\n",
    "\n",
    "**Raneet:** I'm fairly new to the world of computer science, and my strengths have always lied closer to the conceptual side of biology. Even so, I was intrigued by this course, and I've really enjoyed all the new things I've learned. Coding can seem quite daunting for a beginner, so I wanted to create this vignette to help invite people like me to practice and grow their programming skills. Plus, k-mers are super cool! I hope you enjoy this project, and that it inspires you to keep building your bioinformatics toolkit. =D\n",
    " "
   ]
  },
  {
   "cell_type": "markdown",
   "id": "c5a871a5",
   "metadata": {},
   "source": [
    "## About our Research\n",
    "We were initially interested in analyzing existing methods of genome analysis. A lot of the tools currently out there have their pros and cons, so our first goal was to test the limits of how well programs like ANI fare when sorting between different ecological niches of bacterial genomes. We then designed a new method, using k-mers, to fill the gaps that ANI left behind, and to be more functional when working with less-than-ideal datasets. We saw that ANI lacks the ability to do things like metagenomic screening, contamination detection, taxonomic profiling, and computing large scale genome clustering with raw data or minimal reasources, where in these areas k-mers/Mash dominate. As our research continues, we're evaluating the effectiveness of our new program and refining it to become a tool that can one day be used to improve the efficiency of genomic analysis."
   ]
  },
  {
   "cell_type": "markdown",
   "id": "d7d55a48",
   "metadata": {},
   "source": [
    "## What is a k-mer?\n",
    "A k-mer is a substring of length 'k' that is extracted from DNA or RNA sequences. These short fragments are very essential to genomic analysis, including genome assembly, motif discovery, and sequence comparison. \n",
    " \n",
    " **Example:** \n",
    " <br>\n",
    " For the sequence *ATGCA* if we assume that k = 3, we get the following 3-mers: \n",
    " - ATG\n",
    " - TGC\n",
    " - GCA\n",
    " <br>\n",
    " \n",
    " By breaking the sequence into k-mers of a certain length (in this case 3), we can capture short, local patterns that may reflect things like evolutionary or ecological signals or other functional elements. This approach is useful, particularly when comparing genomes without relying on complete genome alignments and it is very easy to scale efficiently to larger datasets. \n"
   ]
  },
  {
   "cell_type": "markdown",
   "id": "3002aa11",
   "metadata": {},
   "source": [
    "## Extracting k-mers from a Sequence\n",
    "In order to extract k-mers, we use a sliding window approach: moving a window of size *k* across the sequence one nucleotide base at a time and recording each substring consecutively.\n",
    "The function below includes `raise ValueError(...)`, which stops the execution of the function and displays an error message if the input is not valid. This ensures that the function behaves as we predict and prevents any failures that are silent/hidden. "
   ]
  },
  {
   "cell_type": "code",
   "execution_count": 3,
   "id": "4f0cc41d",
   "metadata": {},
   "outputs": [
    {
     "name": "stdout",
     "output_type": "stream",
     "text": [
      "Output: ['ATG', 'TGC', 'GCA']\n"
     ]
    }
   ],
   "source": [
    "def get_kmers(sequence, k):\n",
    "    \"\"\"\n",
    "    Returns a list of all the k-mers (substrings of length k) from the input sequence in order\n",
    "\n",
    "    Parameters:\n",
    "    sequence (str): A string representing a genomic sequence.\n",
    "    k (int): Length of each k-mer to extract.\n",
    "\n",
    "    Returns:\n",
    "    List[str]: A list of k-mers extracted from the sequence.\n",
    "    \"\"\"\n",
    "    if k > len(sequence):\n",
    "        raise ValueError(\"k cannot be larger than the input sequence length\")\n",
    " #       for i in range(len(sequence) - k + 1):\n",
    " #          yield sequence[i:i+k]\n",
    "        # add this * for practical application later\n",
    "\n",
    "    return [sequence[i:i+k] for i in range(len(sequence) - k + 1)] # generate all k-mers (substrings of length k) from the sequence by sliding a window one base at a time\n",
    "\n",
    "sequence = \"ATGCA\"\n",
    "k = 3\n",
    "kmers = get_kmers(sequence, k)\n",
    "print(\"Output:\", kmers)\n"
   ]
  },
  {
   "cell_type": "markdown",
   "id": "885d9b29",
   "metadata": {},
   "source": [
    "Extracting k-mers allows us to analyze the sequences in managable units, which helps facilitate the detection of recurring patterns and allows for genomic comparisons to become easier across species. This is memory-effecient and avoids the computational overhead of traditional alignment algorithms like ANI. "
   ]
  },
  {
   "cell_type": "markdown",
   "id": "ade62016",
   "metadata": {},
   "source": [
    "## Counting k-mer Frequencies\n",
    "Once we have the k-mers, we often want to quantify or count how frequently each one appears in a sequence. This can help reveal motifs that may be overrepresented, repetitive regions, or sequencing artifacts. In the function below, we use a `Counter` object from Python's `collections` module to tally or count (thats crazy, the counter object counts?) of each k-mer. We then convert it to a dictionary with `dict()`. This results in the creation of a dictionary where each k-mer is a key and its count is the value."
   ]
  },
  {
   "cell_type": "code",
   "execution_count": 6,
   "id": "dbd92b45",
   "metadata": {},
   "outputs": [
    {
     "name": "stdout",
     "output_type": "stream",
     "text": [
      "Output: {'AT': 2, 'TG': 2, 'GC': 2, 'CA': 1}\n"
     ]
    }
   ],
   "source": [
    "from collections import Counter\n",
    "\n",
    "def count_kmers(sequence, k):\n",
    "    \"\"\"\n",
    "    Counts the frequency of each k-mer in the input sequence.\n",
    "\n",
    "    Parameters:\n",
    "    sequence (str): A string representing a genomic sequence.\n",
    "    k (int): Length of each k-mer to count.\n",
    "\n",
    "    Returns:\n",
    "    dict: A dictionary mapping each k-mer to its frequency in the sequence.\n",
    "    \"\"\"\n",
    "    kmers = get_kmers(sequence, k) # this will extract k-mers from the sequence \n",
    "\n",
    "    return dict(Counter(kmers)) # this will return a dictionary that has the count for how many times each k-mer appears in the sequence\n",
    "\n",
    "sequence = \"ATGCATGC\"\n",
    "k = 2\n",
    "kmer_counts = count_kmers(sequence, k)\n",
    "print(\"Output:\", kmer_counts)\n"
   ]
  },
  {
   "cell_type": "markdown",
   "id": "f59ae524",
   "metadata": {},
   "source": [
    " K-mers that appear more frequently may correspond to elements that have been conserved over time that may act as regulatory factors, or simply present as repetitive genomic regions. Counting them provides a concise, alignment-free output that summarizes the content of the sequence and prepares the data for tasks that may appear later in projects such as clustering or classification. "
   ]
  },
  {
   "cell_type": "markdown",
   "id": "0be398af",
   "metadata": {},
   "source": [
    "## Comparing k-mers Between Sequences \n",
    "In order to compare two sequences, we need to examine the set of k-mers that they share. This can help us identify which regions of the genome are conserved between species or estimate sequence similarity. We use Python's `set()` function to remove any duplicates and `&` to help compute the intersection between the k-mers that appear in both sequences. "
   ]
  },
  {
   "cell_type": "code",
   "execution_count": 9,
   "id": "70811abc",
   "metadata": {},
   "outputs": [],
   "source": [
    "def shared_kmers(sequence_1, sequence_2, k):\n",
    "    \"\"\"\n",
    "    Identifies k-mers that are shared between two input sequences.\n",
    "\n",
    "    Parameters:\n",
    "    sequence_1 (str): First genomic sequence.\n",
    "    sequence_2 (str): Second genomic sequence.\n",
    "    k (int): Length of each k-mer to compare.\n",
    "\n",
    "    Returns:\n",
    "    set: A set of k-mers that appear in both sequences.\n",
    "    \"\"\"\n",
    "\n",
    "    kmers_1 = set(get_kmers(sequence_1, k)) # this will help to convert the first sequence into k-mers \n",
    "    kmers_2 = set(get_kmers(sequence_2, k)) # this will help to convert the second sequence into k-mers\n",
    "\n",
    "    return kmers_1 & kmers_2 # this returns the shared k-mers"
   ]
  },
  {
   "cell_type": "code",
   "execution_count": 10,
   "id": "791cacbb",
   "metadata": {},
   "outputs": [
    {
     "name": "stdout",
     "output_type": "stream",
     "text": [
      "Output: {'ATG', 'TGC', 'GCA', 'CAT'}\n"
     ]
    }
   ],
   "source": [
    "sequence_1 = \"ATGCAT\"\n",
    "sequence_2 = \"GCATGC\"\n",
    "k = 3\n",
    "shared = shared_kmers(sequence_1, sequence_2, k)\n",
    "print(\"Output:\", shared)"
   ]
  },
  {
   "cell_type": "markdown",
   "id": "87f2ce97",
   "metadata": {},
   "source": [
    "Shared k-mers can often reflect homologus regions or conserved functional elements in species genomes. Set-based comparisons are computationally efficient and also avoid the complexity of sequence alignment which makes it especially useful for larger or fragmented datasets. \n",
    " "
   ]
  },
  {
   "cell_type": "markdown",
   "id": "0ff6fb6a",
   "metadata": {},
   "source": [
    "## Scaling k-mer Analysis Across Multiple Sequences\n",
    "To analyze multiple genomes or sequences, we need to construct a function that returns k-mer profiles for each one. This allows for parallel comparison and supports broader investigations across sample sets. <br>\n",
    "\n",
    "We use a dictionary to store the results, where each genome name is a key and its k-mer profile is the value. "
   ]
  },
  {
   "cell_type": "code",
   "execution_count": 12,
   "id": "d99c50f1",
   "metadata": {},
   "outputs": [],
   "source": [
    "def all_kmer_profiles(sequences, k):\n",
    "    \"\"\"\n",
    "    Computes k-mer frequency profiles for multiple sequences.\n",
    "\n",
    "    Parameters:\n",
    "    sequences (dict): A dictionary mapping sequence names to genomic sequences.\n",
    "    k (int): Length of each k-mer to analyze.\n",
    "\n",
    "    Returns:\n",
    "    dict: A dictionary mapping each sequence name to its k-mer frequency profile.\n",
    "    \"\"\"\n",
    "\n",
    "    profiles = {} # initialize an empty dictionary to store results \n",
    "\n",
    "    for name, seq in sequences.items():\n",
    "        profiles[name] = count_kmers(seq, k) # computes and stores k-mer profiles\n",
    "\n",
    "    return profiles"
   ]
  },
  {
   "cell_type": "code",
   "execution_count": 13,
   "id": "451a981b",
   "metadata": {},
   "outputs": [
    {
     "name": "stdout",
     "output_type": "stream",
     "text": [
      "Output:\n",
      "Genome_1 {'ATG': 2, 'TGC': 2, 'GCA': 1, 'CAT': 1}\n",
      "Genome_2 {'GCA': 2, 'CAT': 2, 'ATG': 1, 'TGC': 1}\n",
      "Genome_3 {'TGC': 2, 'GCA': 2, 'CAT': 1, 'ATG': 1}\n"
     ]
    }
   ],
   "source": [
    "sequences = {\n",
    "    \"Genome_1\": \"ATGCATGC\",\n",
    "    \"Genome_2\": \"GCATGCAT\",\n",
    "    \"Genome_3\": \"TGCATGCA\"\n",
    "}\n",
    "\n",
    "k = 3\n",
    "profiles = all_kmer_profiles(sequences, k)\n",
    "\n",
    "print(\"Output:\")\n",
    "for name, profile in profiles.items():\n",
    "    print(name, profile)"
   ]
  },
  {
   "cell_type": "markdown",
   "id": "f249c069",
   "metadata": {},
   "source": [
    "This structure allows for the comparisons of k-mer distributions across genomes, revealing ecological adaptations, taxonomic relationships, or horizontal gene transfer(HGTs). It also supports features like batch processing and integrates well within machine learning workflows."
   ]
  },
  {
   "cell_type": "markdown",
   "id": "f2f64139",
   "metadata": {},
   "source": [
    "## Comparing Sequences Using k-mer Similarity\n",
    "In order to compare two genomic sequences without using alignment-based methods like ANI, we can use a k-mer-based similarity score. This allows us to evaluate how many k-mers are shared between the two sequences relative to the total number of unique k-mers found in both. <br>\n",
    "It is especially useful for fragmented or noisy data, and is commonly used in metagenomics, genome clustering, and contamination detection.<br>\n",
    "The function below uses set operations to compute the `intersection` and `union` of k-mers from each sequence. The similarity score is then defined as the ratio of shared k-mers to the total number of unique k-mers. If both sequences are empty or contain no valid k-mers, the function returns `0.0` to avoid division by zero.\n"
   ]
  },
  {
   "cell_type": "code",
   "execution_count": 14,
   "id": "566b656f",
   "metadata": {},
   "outputs": [
    {
     "name": "stdout",
     "output_type": "stream",
     "text": [
      "Output: 1.0\n"
     ]
    }
   ],
   "source": [
    "def kmer_similarity(seq1, seq2, k):\n",
    "    \"\"\"\n",
    "    Computes a similarity score between two sequences based on shared k-mers.\n",
    "\n",
    "    Parameters:\n",
    "    seq1 (str): First genomic sequence.\n",
    "    seq2 (str): Second genomic sequence.\n",
    "    k (int): Length of k-mers to compare.\n",
    "\n",
    "    Returns:\n",
    "    float: Similarity score between 0 and 1.\n",
    "    \"\"\"\n",
    "\n",
    "    kmers1 = set(get_kmers(seq1, k))  # extract unique k-mers from first sequence\n",
    "    kmers2 = set(get_kmers(seq2, k))  # extract unique k-mers from second sequence\n",
    "\n",
    "    shared = kmers1 & kmers2          # compute intersection (shared k-mers)\n",
    "    union = kmers1 | kmers2           # compute union (all unique k-mers)\n",
    "\n",
    "    if not union:\n",
    "        return 0.0                    # return 0 if no valid k-mers are found\n",
    "\n",
    "    return len(shared) / len(union)   # compute similarity score\n",
    "\n",
    "\n",
    "seq1 = \"ATGCAT\"\n",
    "seq2 = \"GCATGC\"\n",
    "k = 3\n",
    "score = kmer_similarity(seq1, seq2, k)\n",
    "print(\"Output:\", score)"
   ]
  },
  {
   "cell_type": "markdown",
   "id": "3ef5bb30",
   "metadata": {},
   "source": [
    "The output of `1.0` indicates that the two sequences share all of their k-mers. In this case, both `\"ATGCAT\"` and `\"GCATGC\"` produce the same set of four 3-mers: `'ATG'`, `'TGC'`, `'GCA'`, and `'CAT'`. Since the intersection and union of these sets are identical, the similarity score—defined as the number of shared k-mers divided by the total number of unique k-mers—is `4 / 4 = 1.0`. This reflects complete overlap in k-mer content between the two sequences."
   ]
  },
  {
   "cell_type": "markdown",
   "id": "c038406f",
   "metadata": {},
   "source": [
    "## Exercises\n",
    "\n",
    "1. Write a function that returns how many k-mers will be generated from a sequence of length `n` and a given `k`. <br> **Hint:** The number of k-mers is `n - k + 1` if `k <= n`. If `k > n`, return 0 or raise an error.\n",
    "\n",
    "2. Given a sequence and a value of `k`, determine whether all k-mers in the sequence are unique. <br> **Hint:** Extract the k-mers and compare the length of the list to the length of the set. If they match, all k-mers are unique.\n",
    "\n",
    "3. Write a function that returns the most frequent k-mer in a sequence. <br> **Hint:** use your `count_kmers()` function and apply `max()` with `key = counts.get` to find the k-mer with the highest count. \n",
    "\n",
    "4. Use `matplotlib` or `seaborn` to plot the frequency of k-mers for a given sequence. <br> **Hint:** Convert the dictionary of k-mer counts into two lists: one for the k-mers and one for their frequencies. Use a *bar plot* to visualize results.\n",
    "\n",
    "5. Modify your k-mer extraction to include reverse complements. Compare how this affects shared k-mer analysis. <br> **Hint:** Write a helper function that returns the reverse complement of a DNA string. Include both the original and its reverse complement in your k-mer set.* <-- put in main text instead\n",
    "\n",
    "6. Analyze how the number of shared k-mers change as you vary `k` from 2 to 10. <br> **Hint:** Loop over a range of `k` values and record the number of shared k-mers at each step. Plot the results to observe trends.\n",
    "\n",
    "7. **EXTRA CHALLENGE >:)** --> Download two bacterial genomes (e.g., *E.coli* and *Staphylococcus* and compare their k-mer profiles. <br> **Hint:** Use a FASTA parser (e.g., from `Biopython`) to read the sequences. Apply your existing functions to compute and compare k-mer profiles. Focus on conserved or highly frequent k-mers. "
   ]
  }
 ],
 "metadata": {
  "kernelspec": {
   "display_name": "Python 3 (ipykernel)",
   "language": "python",
   "name": "python3"
  },
  "language_info": {
   "codemirror_mode": {
    "name": "ipython",
    "version": 3
   },
   "file_extension": ".py",
   "mimetype": "text/x-python",
   "name": "python",
   "nbconvert_exporter": "python",
   "pygments_lexer": "ipython3",
   "version": "3.9.19"
  }
 },
 "nbformat": 4,
 "nbformat_minor": 5
}
