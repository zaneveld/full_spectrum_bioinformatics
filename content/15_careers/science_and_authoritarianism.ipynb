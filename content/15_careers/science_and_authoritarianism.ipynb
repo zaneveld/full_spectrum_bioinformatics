{
 "cells": [
  {
   "cell_type": "markdown",
   "metadata": {},
   "source": [
    "# Science and Authoritarianism\n",
    "\n",
    "It may seem strange to have a chapter on authoritarianism in a textbook on bioinformatics. However, as we will discuss below, the true practice of science in general and biology in particular depend on people willing to humbly, creatively, persistently and collectively test ideas. Some dedicated to these ideals will persist even in the most horrific of conditions.\n",
    "\n",
    "However, the political context can exert pressures that can directly or indirectly stifle science. Directly, scientists and natural philosophers have been burned at the stake, sent to gulags, fired or harassed for unpopular views. Indirectly, mere knowledge of what topics are politically disfavored can sometimes distort, to a degree, direct scientific reports about some topics. \n",
    "\n",
    "In this chapter we are going to talk about science and authoritarianism. Whenever we can, I'd like us to center our thinking on this topic at the level of particular choices made by specific people, not general theory. I want us to get as close as possible to reflection and planning that can inform our own choices. "
   ]
  },
  {
   "cell_type": "markdown",
   "metadata": {},
   "source": [
    "## In this section\n",
    "    - Science Exists in Social Context\n",
    "        - How authoritarian regimes try to stifle science\n",
    "    - Social Conditions that favor open science\n",
    "    - Scientific resistance and resilience "
   ]
  },
  {
   "cell_type": "markdown",
   "metadata": {},
   "source": [
    "## Prerequisites\n",
    "    - None"
   ]
  },
  {
   "cell_type": "markdown",
   "metadata": {},
   "source": [
    "## Table of Content\n",
    "* [In this section](#In-this-section)\n",
    "* [Prerequisites](#Prerequisites)\n",
    "* [Three Challenges to Thinking about Science and Authoritarianism](#Three-Challenges-in-Thinking-about-Science-and-Authoritarianism)\n",
    "* [How Authoritarian Regimes Constrain Science](#How-Authoritarian-Regimes-Constrain-Science)\n",
    "* [The Appeal of Authoritarianism](#The-Appeal-of-Authoritarianism)\n",
    "* [Scientific-Resistance-and-Resilience](#Scientific-Resistance-and-Resilience)\n",
    "* [Exercises](#Exercises)\n",
    "* [Reading Response](#Reading-Responses-&-Feedback)\n",
    "* [Further Reading](#Further-Reading)\n",
    "\n",
    "\n"
   ]
  },
  {
   "cell_type": "markdown",
   "metadata": {},
   "source": [
    "## Three Challenges in Thinking about Science and Authoritarianism\n",
    "Before we dive in, I'd like to address up front that this this is a difficult topic to talk about for three reasons: the difference between repression and 'repression'; the myth of apolitical science; and the tension between a clear-eyed recognition of challenges and creatively and sometimes courageously work to overcome them. Let's talk about each in turn."
   ]
  },
  {
   "cell_type": "markdown",
   "metadata": {},
   "source": [
    "### Repression and 'repression'\n",
    "First, those who would use science to pursure pet theories or enrich themselves by peddling convenient falsehoods will falsely claim scientific repression. So we must be nuanced enough to recognize the difference between actual state repression, and rejection of an idea by the scientific community because it is false or unproven. In other words, we must recognize the difference between the words \"follow the evidence\" when spoken by a conspiracy theorist or crank who has a single destination in mind, and \"follow the evidence\" in the scientific sense of 'follow the evidence wherever it leads' The latter means that we follow the totality of the evidence collected by ourselves and others where it leads, regardless of whether that place is (the vast majority of the time) a somewhat minor elaboration on or confirmation of existing ideas or (rarely) a really contradictory finding that should be intensely interrogated and tested to see if it will drive a new understanding. \n",
    "\n",
    "### The myth (and truth) of apolitical science\n",
    "Second, this topic is difficult to write about because of the myth but also the truth of apolitical science. As we discussed very early in the text in the chapter on literature surveys, testing scientic hypotheses  should be, as objective, unbiased, and consistent across people as we can possibly make it. In my view, this is the *truth* of apolitical science. However, there is not a similarly objective process for deciding what questions are important to pursue. In societies with strong scientific independence, there may be processes run that make the process of allocating state resources to scientists as objective as can be managed. However, even there bias can influence to greater or lesser degree even the best designed processes, and ensuring 'fair' or at least productive allocation of resources among ideas requires constant self-reflection, scrutiny and care. The sense in which the popular idea of apolitical science is a myth lies in the processes by which scientific inquiries are designed and funded in the first place. The degree of freedom, safety and protection scientists have in using those resources to conduct research is also a political question. And how scientific conclusions about how the world works are or are not incorporated into policy in order to improve people's well-being is also an extremely political question. These processes can *seem* apolitical to folks (here I raise my hand) that are in fact favored by political features of the process. What topics are important enough to spend resources researching is a political and social question. None of this is inherently a bad thing, in my view. Everything done by or within a large enough group of people is political, and political actions can be good, helpful and even transformative for a lot of people.\n",
    "\n",
    "### The challenge of balancing clarity and courage\n",
    "Third, it is difficult to talk about science and authoritarianism because both courage and fear are contagious. I do not want to minimize the constraints and difficult choices scientists in repressive regimes now or in the past have faced. But I also want to convey that there are many brave people who have driven both science and society forward. I want us to learn from both their bravery and their tactical and strategic understanding of what moves are possible to promote science under difficult conditions. I view this as especiall important for scientists in the United States (I am writing in 2025), who may not have faced concerted efforts at state repression in the past, and have much to learn from colleagues who have - especially from movements in mixed regimes. If we want to train in science - which everyone reading this book presumably does - then we are also training ourselves to commit to the value of understanding and spreading truth, however uncomfortable, in as effective a manner as we can manage. These are statements of ethics and values, which again may seem strange in a science textbook. Yet the entire scientific enterprise depends on those ethics and those values. My view is that we have much to learn from those that have upheld them in the past, as well as colleagues working for those values in the present.\n",
    "\n",
    "\n",
    "\n",
    "Given all that in this chapter we will:\n",
    "\n",
    "a) work to understand how authoritarians constrain genuine scientific inquiry (without confusing scientific rejection of unfounded ideas as 'censorship')\n",
    "\n",
    "b) think about these topics with the understanding that the social and political preconditions for open scientific inquiry are deeply political (while keeping in mind that scientific tests and analyses must be as objective as we can make them).\n",
    "\n",
    "c) seek to identify ways in which scientists have creatively and bravely worked to create space for the discovery of truth (recognizing the impossible choices some have faced)"
   ]
  },
  {
   "cell_type": "markdown",
   "metadata": {},
   "source": [
    "## How Authoritarian Regimes Constrain Science\n",
    "\n",
    "Authoritarianism is a system of government in which a single power or authority gains the ability to dominate a political system. This might be a single person (an autocracy or dictatorship), a small group (an oligarchy), or a sole political party or power (e.g. a one-party state or a nation ruled by its military). Regardless, authoritarian systems are characterized by a rejection of plurality: they seek to centralize political power. Therefore authoritarian governments want to take power away from the people, opposed political parties,  and any other civil society, business, or religious groups that they perceive as threatening absolute power. They also tend to seek to break down laws, civil rights, independent legislatures, and standards of professional behavior that might form the basis for opposition."
   ]
  },
  {
   "cell_type": "markdown",
   "metadata": {},
   "source": [
    "## The Consequences of Authoritarianism for Science \n",
    "\n",
    "Authoritarian governments may promote certain people doing certain types of science, but tend to destroy scientific programs (and often scientists themselves) when they challenge views held by the government. In many ways these consequences of authoritarianism are tiny compared to the horrors that authoritarian goverments have inflicted on groups they target, as well as the natural horrors like famines that arise as a result of rigid, inflexible and ideological decision-making. Still, as scientists in the field of bioinformatics — or at least folks interested in that topic – it behooves us to pay special attention to how authoritarianism impacts our area of research and study\n",
    "\n",
    "### Dictating Scientific Outcomes\n",
    "\n",
    "Because authoritarian governments by definition concentrate power, independent scientific opinions can become a problem for them. While 'normal' science can sometimes be harnassed or even promoted by authoritarian regimes, free scientific inquiry will often include findings that contradict the views of the authoritarian government. Authoritarian governments can view science that differs from their ideology as a threat. The harm authoritarian governments have done to science could, and does, fill volumes. Similarly, factions that oppose intellectual freedom may try to dictate scientific outcomes within democracies. Here are some necessarily incomplete examples of how authoritarian governments or movements have constrained science:"
   ]
  },
  {
   "cell_type": "markdown",
   "metadata": {},
   "source": [
    "<img align=\"left\" src=\"./resources/Lysenko_1938_Public_Domain.jpg\" alt=\"A black and white portrait of Trofim Lysenko, staring icily into the camera. His hair is parted to one side, and he wears a sort of jacket or uniform.\" width=\"200px\" style=\"background-color: white; padding-top: 5px; padding-bottom: 5px; padding-right: 20px; padding-left: 20px\">\n",
    "\n",
    "#### Lysenkoism in the Soviet Union\n",
    " In the Soviet Union starting around 1940 [Trofim Lysenko](https://en.wikipedia.org/wiki/Trofim_Lysenko#Consequences_of_Lysenko's_views) used his power as director of the Institute of Genetics in the Soviet Academy of Sciences to prop up multiple wildly inaccurate claims — from the non-existence of genes to the idea that Darwinian evolution was wrong and organisms could pass on acquired characteristics (i.e. Larmarkianism). He even claimed he could transform one wheat species into another by changing the planting season (despite the two species in question having different chromosome numbers). Under Stalin, Lysenko denounced many scientists with opposing views. Thousands of them were executed, with more still sent to labor camps. His influence on Soviet agriculture lead to famines that caused millions of deaths in the Soviet Union, and still more when his methods spread to Communist China. "
   ]
  },
  {
   "cell_type": "markdown",
   "metadata": {},
   "source": [
    "#### The Cultural Revolution in China\n",
    "During the Cultural Revolution in China, disfavored ideas like Einstein's theory of general relativity were viewed as contrary to party doctrine. Academics were viewed as burgeois, rightist, and anti-Mao, with 249 academics at the Chinese Academy of Sciences either killed or driven to suicide. Torture was widespread, including during 'struggle sessions' where researchers and other members of the politically disfavored Nine Black Categories were driven to recant their ideas or face humiliation, torture or death at the hands of mobs often led by their own students or relatives [2]. "
   ]
  },
  {
   "cell_type": "markdown",
   "metadata": {},
   "source": [
    "#### Seizing Control of Universities in Hungary\n",
    "In Hungary in 2021, Viktor Orbán seized control of 11 state universities by transferring control of their foundations to his ideological allies. Orbán also drove [the Central European University](https://www.chronicle.com/article/how-a-university-fights-an-authoritarian-regime) out of the country after a protracted conflict involving large public protests."
   ]
  },
  {
   "cell_type": "markdown",
   "metadata": {},
   "source": [
    "#### Hindu Nationalism and Education in India\n",
    "India is, as of 2024, rates similarly to the US as a flawed democracy. In India, Modi has influenced the specific topics taught in schools and universities, often modifying teaching based on specific religious or political beliefs. For example, despite [protests by hundreds of scientists](https://www.npr.org/2023/06/21/1183578258/hundreds-of-scientists-protest-the-indian-governments-changes-made-to-textbooks), Modi's government in 2023 removed disfavored topics like evolution from 10th grade textbooks, as well as many historical passages that were politically inconvenient. "
   ]
  },
  {
   "cell_type": "markdown",
   "metadata": {},
   "source": [
    "### Excluding People from Science\n",
    "\n",
    "Equally, many authoritarian governments, especially fascist ones, think about people in terms of hierarchies. Authoritarian governments can try to force people from disfavored groups out of scientific institutions or encourage discrimination against them. \n",
    "\n",
    "- In Mussolini's Italy, scientists were made to swear loyalty oaths, with those who refused immediately fired [1]. While initially Mussolini's fascists did not ban Jews from scholarly activity, after 1938 a series of anti-Jewish laws excluded Jews from schools and universities. \n",
    "\n",
    "\n",
    "- In the United States in 2025 (now considered by many scholars a mixed regime, struggling democracy, and/or nascent authoritarianism), immigrants, both legal and undocumented are a targeted group. Intellectuals as a group are also viewed by the countries executive branch as a threat, with Vice President J.D. Vance declaring, [\"Professors are the Enemy.\"](https://www.aaup.org/news/professors-are-not-enemy-fascists-are%C2%A0). In 2025, President Trump and the MAGA movement began executing a series of moves designed to undermine independent sources of information, and to exclude groups viewed as undesirable from science. These moves were stated explicitly with executive orders directing the executive branch of the US government to move against any policies that promote diversity, equity or inclusion. In other words, changes were sought to make science more homogeneous, less equitable, and more intolerant of disfavored groups. In keeping with this policy, the government began arbitrarily revoking visas from international students, which then subjected them to immediate arrest and detention. Students and researchers scholars like Dr. Badar Han Siri at Georgetown, were arrested by masked agents. In order to restrict the access of disfavored groups to research funds, the government began cancelling research grants containing words like 'women' and banning books by or about disfavored groups in areas it had control, such as naval schools. Although these moves were characterized as about neutrality, in truth any achievements by disfavored groups were called into question - with censors even scrubbing government websites and photo displays of figures like Jackie Robinson and Native American Code Talkers.\n",
    "\n",
    "“Government reports and government-funded research are being held back if they include prohibited terms such as “gender”, “pregnant person”, “women”, “elderly”, or “disabled”. Grants funded by the National Institutes of Health are being cancelled if they address diversity, equality or inclusion in any form”."
   ]
  },
  {
   "cell_type": "markdown",
   "metadata": {},
   "source": [
    "## The Appeal of Authoritarianism\n",
    "\n",
    "It is important to recognize that authoritarian governments do not always begin with an invasion or a coup, but can emerge from within a country through the gradual erosion of civil society, constraints on government power, and public commitment to an open society. This is a textbook about bioinformatics, and so the role of students and scientists as independent actors in civil society — or collaborators strengthening authoritarian power — is especially relevant\n",
    "\n",
    "Authoritarian governments are sometimes imposed by force. For example, Nazi Germany [invaded](https://en.wikipedia.org/wiki/German_invasion_of_the_Netherlands) the Netherlands soon before my father was born there and imposed authoritarian rule. Similarly, in 1858 King Leopold of Belgium imposed an authoritarian and colonial rule on the Congo that used forced labor and the threat of mutilation or death in order to force people living there to extract resources like rubber and ivory. In many other cases, however, authoritarian governments have arisen from within societies through a combination of political and legal manuevering, intimidation and violence. Democratic societies can become mixed regimes or competitive autocracies through the erosion of free and fair elections, civil rights, and constraints on the power of leaders. At first, elections may still be held, but tactics like arresting opposition leaders, disregarding judges, intimidating voters, and inflaming hatred towards less powerful groups can tilt the playing field further and further away from plural democracy until a full authoritarian system is achieved. Confusingly, during periods when autocracy is not yet fully established, those seeking to do so may loudly claim that they are themselves being unfairly targeted, or that some other worse group is the real threat to society. For example, the authoritarian and fascist Nazi movement regularly portrayed communists as the real threat to Germany. \n",
    "\n",
    "Authoritarian governments often have disastrous consequences for nations, some of which we will talk about below. That leaves open the question of why anyone would support authoritarianism in the first place.\n",
    "\n",
    "Fascist governments are one type of authoritarianism. In *How Fascism Works: the Politics of Us and Them* Jason Stanley examines the rhetoric of fascist governments, especially in their early stages before authoritarianism is fully established. He identifies several common themes in fascist rhetoric: perpetuating worldviews rooted in hierarchies rather than equality, promoting a culture of victimhood, and fueling sexual anxieties among men. "
   ]
  },
  {
   "cell_type": "markdown",
   "metadata": {},
   "source": [
    "## Scientific Resistance and Resilience\n",
    "\n",
    "If we've seen how authoritarian governments weaken science by distoring what can be studied and who can study it, that still leaves open the question of how scientists who want to resist authoritarian policies or outright authoritarian rule can do that. If we don't have clear strategies we can convey to our friends, colleagues and coworkers, the danger is that scientific institutions become complicit in helping to perpetuate the harms that authoritarian regimes inevitably inflict on disfavored groups. At the same time, I think it is critical for those of us who have not (at least not previously) faced pressure from a mixed or authoritarian government to recognize that we have a lot to learn from those around the world who have successfully opposed autocrats - whether scientists, comedians, or preachers. \n",
    "\n",
    "### Political Action and Advocacy\n",
    "\n",
    "Where democratic or mixed systems exist, advocacy during elections and around policy are important ways scientists can contribute to outcomes that strengthen plural democratic governance and civil rights, and prevent full autocracy from taking hold. Scientists and researchers have the skills to analyze and understand evidence, and -contrary to sterotype- many are good public speakers. It is much easier to strengthen democracy and civil rights while voting is an option and strong civil rights protections allow for free speech. This first category covers actions that will be most relevant in full democracies or mixed regimes - although even in fully authoritarian regimes public pressure and persuasion can still sometimes change outcomes.\n",
    "\n",
    "#### Lobbying Representatives\n",
    "\n",
    "In democracies and mixed regimes, abuses of power depend at least to an extent on preventing effective opposition from elected representatives. For example, in the United States, Congress can block funding for projects, hold hearings and compel testimony from government officials or impeach officials acting unlawfully. Those representatives in turn, respond at least in part to pressure by constituents. Calls by constituents within house districts are logged, sorted by issue, and counted for each day. One representative, Jim Lankford of Oklahoma, stated that typical call volumes for a day were only in the range of 21-29 per day (150-200 per week). In the US Senate, voicemail boxes typically only hold about [1000 calls before they must be emptied and counted](https://www.pbs.org/newshour/politics/senate-offices-receive-unusually-high-volume-of-calls-in-trumps-first-weeks). Therefore, constituent calls can make a difference in highlighting what constitutents want. It is considered effective to be brief, professional and clear in terms of what you want to have happen - but also to be persistent in calling daily about issues you care about.  However, calls outside of a constituent's district are generally regarded as less effective, as are form emails sent with automated tools. \n",
    "\n",
    "In person meetings are another way to lobby representatives. These are often easier to achieve with a group - a team of concerned scientists outside of work, or a small group of concerned community members. Scientists who have started small businesses may have even better access to advocate for strong civil rights, equality, and pro-democracy measures, and against authoritarianism. For example, my brother Jacques Zaneveld co-founded [Lazarus 3D](https://www.lazarus3d.com/), a company which uses 3D printing to make customized surgical practice models to reduce surgical errors in complex surguries. By participating in a small business forum, he was able to meet with congressional staff, who were then sufficiently interested to invite him to DC. We worked together to prepare claims that we hoped would make a compelling case that demolishing DEI initiatives, traumatizing immigrants, and illegally withholding congressionally-allocated science funding was, in addition to being horrific in it's own right, also doing irreparable long-term damage to the US economy and medical cures that everyone depends on when they get sick.\n",
    "\n",
    "#### Public comment\n",
    "\n",
    "In the United States, many changes to regulations by the executive branch have an open period of [public comment](https://www.regulations.gov/learn), usually 60 days. During this time, members of the public can comment on any issues that they see with regulations. For this forum, the total number of comments matters a little, but the [specific, substantive issues and potential alternative ways of achieving similar goals](https://regulatorystudies.columbian.gwu.edu/quality-not-quantity-key-effective-commenting) raised in comments matters much more. As such, scientists are well positioned to make a difference by commenting on proposed changes to regulations, especially when those changes impact their area of expertise. Indeed, in the US the Supreme Court has clarified that agencies are legally obligated to provide a ['reasoned response' to substantial, fact-based comments](https://www.nossaman.com/newsroom-insights-supreme-court-clarifies-requirement-for-agencies-to-respond-to-public-comments-on-proposed-rulemakings) - with failure to do so potential evidence in cases challenging the regulation, such as *Ohio v. Environmental Protection Agency* (2024). "
   ]
  },
  {
   "cell_type": "markdown",
   "metadata": {},
   "source": [
    "###  Protest and Resistance \n",
    "\n",
    "Despite a great deal of literature suggesting that protests, including especially economic protests and disruptive protests, can move policy, folks in the natural sciences are sometimes uninformed about what good protests do. The loud, raucous nature of protests is in some ways opposite to carefully reasoned scientific discussion. It is important to recognize, however, that this discomfort is mostly bias. Protests have made large differences, even in the face of extreme authoritarian repression.\n",
    "\n",
    "For example, there is no more extreme example of ruthless authoritarian violence than Hitler's Third Reich. Yet even there, members of the public were sometimes able to save lives with fearless protest. In 1943, a large group of Jewish men married to non-Jewish German women were arrested and detained at an office on Rosenstrasse before they were to be sent to death camps. In the [Rosenstrasse protests of 1943](https://en.wikipedia.org/wiki/Rosenstrasse_protest), several hundred women along with other occasional supporters camped out on the street. They returned after being threatened with shooting, in what became the only mass protest against the deportation of Jews in Germany's Third Reich. Ultimately Hitler and Goebbels decided that shooting the women would create too many problems for the regime, and agreed to let the men go. While this example can't be replicated everywhere - the women were viewed as apolitical and therefore dangerous to shoot or arrest - it does show that even in horrific and situations protest can matter.\n",
    "\n",
    "The political scientist [Erica Chenoweth](https://www.hks.harvard.edu/faculty/erica-chenoweth) has found that non-violent movements are, perhaps surprisingly, far more successful than armed rebellions at overthrowing governments, and has estimated that mass non-violent protests consistently engaging 3.5% of the population are [typically enough to overthrow an autocratic government](https://www.bbc.com/future/article/20190513-it-only-takes-35-of-people-to-change-the-world). Examples of mass public mobilization bringing down governments including the 1986 People Power protests that overthrew Ferdinand Marcos' regime in the Phillipines, the 2003 Rose Revolution in Georgia, and the Arab Spring revolutions in Algeria and Sudan."
   ]
  },
  {
   "cell_type": "markdown",
   "metadata": {},
   "source": [
    "#### Activating Networks of Support\n",
    "\n",
    "Victor Orbán tried to shut down the Central European University. He promoted new laws that would have required a branch in the United States (although many overseas universities would have one) and his permission to operate. Michael Ignatieff, the president of CEU between 2016-2021 reported [some of the steps they took](https://www.chronicle.com/article/how-a-university-fights-an-authoritarian-regime) to push back in what has been called an [\"epic struggle with a repressive regime\"](https://www.theguardian.com/world/2019/nov/16/ceu-classes-move-to-vienna-orban-hungary-ousts-university). These included moving rapidly, without mincing words, to activate networks of people who can testify to the importance of intellectual freedom and universities: alumni, leaders of corporations created by university inventions, other universities, and patients treated at university-run medical schools. CEU eventually lost their fight and was forced to move to Vienna in Austria, but not before costing the regime significant international standing and political capital."
   ]
  },
  {
   "cell_type": "markdown",
   "metadata": {},
   "source": [
    "#### Dilemma Actions\n",
    "\n",
    "Srdja Popovic along with a few dozen friends helped establish the Otpor! student movement, whose protests ultimately brought down Serbian dictator Slobodon Milošević. His book [\"Pranksters vs. Autocrats\"](https://www.jstor.org/stable/10.7591/j.ctv310vjt0.4?seq=5), co-authored wtih political satire expert Sophia McClennon describes a special type of protest action called a dilemma action. The idea of a dilemma action is that it is one that puts a regime in an impossible position: either they allow some action to continue and thereby cede public space, or they intervene and risk creating futher public outrage. Popovic argues that designing actions that force a response distinguishes dilemma actions from simple street protests, which authorities could potentially just ignore. Additionally, the available actions to respond to the dilemma action should be things that make the regime look comical, weak, evil, or some combination of the above. Popovic cites Gandhi's Salt March, in which Indians marched to the ocean to protest a British ban on collecting one's own salt - the British colonizers had to either give up some of their power by allowing the march, or look heavy-handed and evil by beating up non-violent protestors simply trying to dry some seawater for salt. \n",
    "\n",
    "Another example came from the Otpor! movement itself: although public criticism of Milosovic was not tolerated, they set up stations where people could throw a dime in a hat to beat up a dirty barrel painted with a picture of Milošević. When police arrived, they couldn't arrest the activists (who were watching incognito from a nearby café), so they had to either arrest all the regular people beating up the barrel (a heavy handed move) or try to confiscate the large dirty barrels. The activists had alerted media to the stunt, so when they tried to haul off the large barrels, photos of police awkwardly dragging them off produced widespread mockery and weakened the regime's political power. You can read [Pranksters vs. Autocrats in full for free at this link](https://library.oapen.org/handle/20.500.12657/62212) - it's very approachable and highly recommended."
   ]
  },
  {
   "cell_type": "markdown",
   "metadata": {},
   "source": [
    "#### Economic Boycotts\n",
    "\n",
    "In 2025, some European Scientists called for a boycott of scientific conferences in the United States after a French Researcher was [detained because he had anti-Trump messages on his phone](https://www.timeshighereducation.com/news/us-conference-boycott-urged-after-french-scientist-deported). These types of boycotts, if covered in the media, send a signal that something is not right, and may help to strengthen internal resistance to authoritarianism. "
   ]
  },
  {
   "cell_type": "markdown",
   "metadata": {},
   "source": [
    "#### A fake typhus epidemic that saved thousands of lives\n",
    "\n",
    "Even in cases of war and genocide, scientists have sometimes found ways to use their knowledge to save lives. After the Nazi invasion of Poland in 1939, Dr. Eugene Lazowski sought to protect Jews from the Nazis, who were isolating and exterminating Jews throughout the conuntry. Although forbidden from treating patients in the ghettos that Jews were forced into by the Nazis, he snuck in and did so anyway. \n",
    "\n",
    "He used the finding that a dead version of the 'Proteus OX19' bacteria could create false positive results in tests for Typhus. By giving this harmlessly to people, he was able to convince Nazi officials of [of a fake typhus epidemic](https://www.lowellmilkencenter.org/programs/projects/view/the-weapon-of-intelligence/hero) in the area - a real concern since a real Typhus outbreak was killing ~700 people each day. The quarantine Dr. Lazowski was able to establish using this trickery is credited with saving the lives of 8000 people across 12 villages. "
   ]
  },
  {
   "cell_type": "markdown",
   "metadata": {},
   "source": [
    "### Building Power and Independence\n",
    "\n",
    "As societies recover or open up from authoritarianism, it is critical for scientific institutions to build protections and independence that allow for intellectual freedom. This can involve engaging with civil society, forming strong academic unions, not-for-profit academy journals, and creative ways to insulate scientific research from political pressure, such as some of the independent funding streams established by the Chinese Academy of Sciences through their stake in the computer manufacturer Lenovo  [2]"
   ]
  },
  {
   "cell_type": "markdown",
   "metadata": {},
   "source": [
    "## Exercises\n",
    "\n",
    "- Think about a place you have a connection with or interest in that has either gone through periods of authoritarian rule, or narrowly avoided it. The place can be a country or region, or a smaller area, and the authoritarian rule could apply to the whole population, or just to part of it (as in the Jim Crow era in the US South). Research at least one non-violent protest action that opposed that rule. How did that rule affect intellectual freedom and science? Did any scientists mount effective actions to oppose authoritarianism? I especially recommend researching creative resistance in areas of the world you might be least familiar with. \n",
    "\n",
    "- Propose one dilemma action that scientists could take to oppose an autocratic policy. If you can, consider incorporating humor into your proposed action such that any response highlights the absurdity of the authoritarian policy."
   ]
  },
  {
   "cell_type": "markdown",
   "metadata": {},
   "source": [
    "## [Reading Responses & Feedback](https://docs.google.com/forms/d/e/1FAIpQLSeUQPI_JbyKcX1juAFLt5z1CLzC2vTqaCYySUAYCNElNwZqqQ/viewform)\n",
    "\n"
   ]
  },
  {
   "cell_type": "markdown",
   "metadata": {},
   "source": [
    "## Further Reading\n",
    "\n",
    "Popovic, S., and McCLENNEN, S. A. (2020). Pranksters vs. Autocrats: Why Dilemma Actions Advance Nonviolent Activism. Cornell University Press. Available at: https://www.jstor.org/stable/10.7591/j.ctv310vjt0 (Accessed April 9, 2025).\n"
   ]
  },
  {
   "cell_type": "markdown",
   "metadata": {},
   "source": [
    "## References\n",
    "\n",
    "\n",
    "[Link to Doc for Zotero](https://docs.google.com/document/d/1xGpsWLlfuRZvZz-pAa2kYkXBUoseKtcWAp4OOYiVp4w/edit?tab=t.0)"
   ]
  },
  {
   "cell_type": "markdown",
   "metadata": {},
   "source": [
    "[1] Opinion | What Autocrats Want From Academics: Servility (2025). Chron. High. Educ. Available at: https://www.chronicle.com/article/what-autocrats-want-from-academics-servility (Accessed April 8, 2025).\n",
    "\n",
    "[2] The Chinese Academy of Sciences at 70 (2019). Nature 574, 5–5. doi: 10.1038/d41586-019-02950-5"
   ]
  }
 ],
 "metadata": {
  "kernelspec": {
   "display_name": "Python 3 (ipykernel)",
   "language": "python",
   "name": "python3"
  },
  "language_info": {
   "codemirror_mode": {
    "name": "ipython",
    "version": 3
   },
   "file_extension": ".py",
   "mimetype": "text/x-python",
   "name": "python",
   "nbconvert_exporter": "python",
   "pygments_lexer": "ipython3",
   "version": "3.9.19"
  }
 },
 "nbformat": 4,
 "nbformat_minor": 2
}
