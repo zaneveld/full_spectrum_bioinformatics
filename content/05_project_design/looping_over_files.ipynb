{
 "cells": [
  {
   "cell_type": "markdown",
   "metadata": {},
   "source": [
    "# Scaling Up: using for loops to compare multiple genomes\n",
    "\n",
    "Part of the beauty of bioinformatics is that once you figure out how to do something once, you can often ask the computer to repeat the process hundreds or thousands or millions of times. It usually takes some work to organize the results carefully, but far less time than if you had to run extensive comparisons by hand."
   ]
  },
  {
   "cell_type": "markdown",
   "metadata": {},
   "source": [
    "## In this section\n",
    "    - Looping external software over directories full of genomes or other files\n",
    "    - Using BLAST to compare gene content conservation between genomes\n",
    "    - Using a double for loop to perform pairwise comparisons"
   ]
  },
  {
   "cell_type": "markdown",
   "metadata": {},
   "source": [
    "## Prerequisites\n",
    "\n",
    "    - Familiar with basic BASH (cd, ls, mkdir, etc)\n",
    "    - Familiar with basic python (variables, for loops, if statements)\n",
    "    - Have command-line BLAST+ installed (see Duck vs. Yeast exercise)\n",
    "    - Familiar with loading `.csv` files as `pandas` `DataFrames`"
   ]
  },
  {
   "cell_type": "markdown",
   "metadata": {},
   "source": [
    "## Table of Content\n",
    "* [In this section](#In-this-section)\n",
    "* [Prerequisites](#Prerequisites)\n",
    "* [Downloading files using python](#Downloading-files-using-python)\n",
    "* [Looping over files in a folder](#Looping-over-files-in-a-folder)\n",
    "* [Running external software](#Running-external-software)\n",
    "* [Using a double `for` loop to compare pairs of genomes](#Using-a-double-for-loop-to-compare-pairs-of-genomes)"
   ]
  },
  {
   "cell_type": "markdown",
   "metadata": {},
   "source": [
    "## Running software in a loop\n",
    "\n",
    "### Creating a directory to hold our data\n",
    "\n"
   ]
  },
  {
   "cell_type": "code",
   "execution_count": 7,
   "metadata": {},
   "outputs": [],
   "source": [
    "from os import mkdir\n",
    "from os.path import exists\n",
    "\n",
    "data_dir = \"./resources/genomes\"\n",
    "\n",
    "#Check if our data directory already\n",
    "#exists. If not, make it\n",
    "if not exists(data_dir):\n",
    "    mkdir(data_dir)"
   ]
  },
  {
   "cell_type": "markdown",
   "metadata": {},
   "source": [
    "### Downloading files using python"
   ]
  },
  {
   "cell_type": "markdown",
   "metadata": {},
   "source": [
    "### Looping over files in a folder\n",
    "\n",
    "We can use the `listdir` function to get a list of everything in a directory. If we then loop over that list using a `for` loop, we can get the name of each file in turn. Often our directory may have some files we don't want (e.g. random hidden system files that are not data files). We can address this by using an if statement to check whether each file matches some criterion for being a valid data file, and just skip those that aren't part of our analysis. \n",
    "\n",
    "#### Getting the contents of a directory\n",
    "\n",
    "Before we can run software on a collection of data, we need to organize it into a folder. I made a folder called 'resources' and inside that a folder called 'genomes'. So relative to my current working directory, my data are in './resources/genomes'. You can put your data anywhere, as long as you can figure out the relative path to that place from your current working directory. If you forget your current working directory, you can always check it using `getcwd` that you can import from the `os` module"
   ]
  },
  {
   "cell_type": "code",
   "execution_count": 8,
   "metadata": {},
   "outputs": [
    {
     "name": "stdout",
     "output_type": "stream",
     "text": [
      "Files in data dir ./resources/genomes/:['genome3.fna', 'genome2.fna', 'genome1.fna', 'genome4.fna']\n"
     ]
    }
   ],
   "source": [
    "from os import listdir\n",
    "\n",
    "#First use a string to set the directory where our data is\n",
    "#Defining this in a variable makes it easy to change latter.\n",
    "#(Replace my string with the path to wherever your data is, \n",
    "# relative to where you started the jupyter notebook)\n",
    "\n",
    "data_dir = \"./resources/genomes/\" \n",
    "\n",
    "#Save data files into a variable\n",
    "data_files = listdir(data_dir)\n",
    "\n",
    "#Use a format string to print out our list of data files\n",
    "print(f\"Files in data dir {data_dir}:{data_files}\")"
   ]
  },
  {
   "cell_type": "markdown",
   "metadata": {},
   "source": [
    "### Running external software with `subprocess`\n",
    "\n",
    "We want to do BLAST comparisons between each pair of genomes. To do that, we'll have to learn how to run external software in general, then apply what we learned to BLAST. By learning this in a general way, you should be able to run *any* command line software you want from inside python. Queue mad cackling like some sort of cartoon villain, drunk with power!\n",
    "\n",
    "Before the mad cackling, let's start simple. How can we run `ls` from inside python.\n",
    "\n",
    "One general way to do this is with pythons `subprocess` module. The module can do a lot, but we'll start by covering a simple approach that should work for many common cases.\n",
    "\n",
    "The main input to subprocess is a `command`. This can be a list of strings, with each string being one \"word\" of a command line command. So instead of saying `ls -l ./`, we'll write `command = ['ls','-l','./']`, then pass that `command` variable to subprocess. Here's how that would look:"
   ]
  },
  {
   "cell_type": "code",
   "execution_count": 9,
   "metadata": {},
   "outputs": [],
   "source": [
    "\n",
    "#Import the subprocess module\n",
    "import subprocess\n",
    "\n",
    "#Define our command as a list of strings\n",
    "#(so far this is just basic python)\n",
    "command = ['ls','-l','./']\n",
    "\n",
    "\n",
    "\n"
   ]
  },
  {
   "cell_type": "markdown",
   "metadata": {},
   "source": [
    "### Running external software in a loop"
   ]
  },
  {
   "cell_type": "markdown",
   "metadata": {},
   "source": [
    "###  Using a double for loop to compare pairs of genomes"
   ]
  },
  {
   "cell_type": "markdown",
   "metadata": {},
   "source": [
    "### Parsing data"
   ]
  },
  {
   "cell_type": "markdown",
   "metadata": {},
   "source": [
    "## Showing Images\n",
    "An image **with description field for screen readers**\n",
    "\n",
    "<img src=\"./resources/card_back_tree_canopy-01.png\" width=\"400\"  description=\"A picture of a tree canopy, as seen from below. The canopy is thick with intertwining branches, and blue sky can be seen peeking out from between the backlit leaves.\">"
   ]
  },
  {
   "cell_type": "markdown",
   "metadata": {},
   "source": [
    "## Writing Mathematical Symbols\n",
    "A simple math symbol: (see https://sites.psu.edu/symbolcodes/codehtml/#math and https://www.keynotesupport.com/internet/special-characters-greek-letters-symbols.shtml\n",
    "\n",
    "y = &beta;<sub>0</sub>x<sub>0</sub>  + &beta;<sub>1</sub>x<sub>1</sub> + &beta;<sub>2</sub>x<sub>2</sub> + &beta;<sub>3"
   ]
  },
  {
   "cell_type": "markdown",
   "metadata": {},
   "source": [
    "## Jupyter Notebook Tricks and Tips\n",
    "Split cells with cntrl-shift-minus\n",
    "\n",
    "[https://www.dataquest.io/blog/jupyter-notebook-tips-tricks-shortcuts/](https://www.dataquest.io/blog/jupyter-notebook-tips-tricks-shortcuts/)"
   ]
  },
  {
   "cell_type": "markdown",
   "metadata": {},
   "source": [
    "## 4-color palette\n",
    "- Bright green ( RGB 146,249,11)\n",
    "- Orange (RGB 253,173,1)\n",
    "- Magenta (RGB 255,19,170)\n",
    "- Deep Blue (RGB 11,79,175)"
   ]
  },
  {
   "cell_type": "markdown",
   "metadata": {},
   "source": [
    "## Quickly generate tags for all .png images in the resources file that start like 1_first_diagram.png"
   ]
  },
  {
   "cell_type": "code",
   "execution_count": null,
   "metadata": {},
   "outputs": [],
   "source": [
    "from os import listdir\n",
    "resources = listdir(\"./resources/\")\n",
    "resources = [r for r in resources if \"_\" in r and r.split(\"_\")[0].isnumeric()]\n",
    "resources.sort(key= lambda x:int(x.split(\"_\")[0]))\n",
    "for f in resources:\n",
    "    if not f[0].isdigit():\n",
    "        continue\n",
    "    if not f.endswith(\".png\"):\n",
    "        continue\n",
    "\n",
    "    print(f'<img src=\"./resources/{f}\" width=\"400\"  description=\"TODO: describe {f}\">')"
   ]
  },
  {
   "cell_type": "markdown",
   "metadata": {},
   "source": [
    "## Exercises"
   ]
  },
  {
   "cell_type": "markdown",
   "metadata": {},
   "source": [
    "## Reading Responses & Feedback \n",
    "\n",
    "^Make this a hyperlink using Google Forms"
   ]
  },
  {
   "cell_type": "markdown",
   "metadata": {},
   "source": [
    "## Further Reading"
   ]
  },
  {
   "cell_type": "code",
   "execution_count": 1,
   "metadata": {},
   "outputs": [
    {
     "name": "stdout",
     "output_type": "stream",
     "text": [
      "9223372036854775807\n"
     ]
    }
   ],
   "source": [
    "import sys\n",
    "print(sys.maxsize)"
   ]
  },
  {
   "cell_type": "markdown",
   "metadata": {},
   "source": [
    "## References"
   ]
  }
 ],
 "metadata": {
  "kernelspec": {
   "display_name": "Python 3 (ipykernel)",
   "language": "python",
   "name": "python3"
  },
  "language_info": {
   "codemirror_mode": {
    "name": "ipython",
    "version": 3
   },
   "file_extension": ".py",
   "mimetype": "text/x-python",
   "name": "python",
   "nbconvert_exporter": "python",
   "pygments_lexer": "ipython3",
   "version": "3.9.19"
  }
 },
 "nbformat": 4,
 "nbformat_minor": 2
}
