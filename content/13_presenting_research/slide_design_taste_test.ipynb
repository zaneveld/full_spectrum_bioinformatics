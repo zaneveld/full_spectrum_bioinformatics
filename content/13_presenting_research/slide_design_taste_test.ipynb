{
 "cells": [
  {
   "cell_type": "markdown",
   "metadata": {},
   "source": [
    "# Slide Design Taste Test\n",
    "\n",
    "If you present at a scientific meeting, there are some standard suggestions that mentors will almost always give for how to revise an initial version of slides. In this chapter, we'll address some slide design ideas using visual examples. "
   ]
  },
  {
   "cell_type": "markdown",
   "metadata": {},
   "source": [
    "## In this section\n",
    "\n",
    "An interactive 'taste test' of slide design that will highlight examples of some of the following slide design principles:\n",
    "\n",
    "  - image vs text in slide design\n",
    "  - ideas for handling lists of information\n",
    "  - visual hierarchy in slide design\n",
    "  - using color hints to organize slides"
   ]
  },
  {
   "cell_type": "markdown",
   "metadata": {},
   "source": [
    "## Prerequisites\n",
    "\n",
    "- None (but if you have a draft presentation, it will be helpful)"
   ]
  },
  {
   "cell_type": "markdown",
   "metadata": {},
   "source": [
    "## Table of Content\n",
    "* [In this section](#In-this-section)\n",
    "* [Prerequisites](#Prerequisites)\n",
    "* [Instructions for the Slide Design Taste Test](#Taste-Test-1:-Designs-for-a-Slide-about-Data-Integration)\n",
    "* [Taste Test 1 - Data Integration](#Taste-Test-1:-Text-in-Slide-Design)\n",
    "* [Taste Test 2 - Comparative Genomics Methods Slide](#Taste-Test-2:-Methods-Slide-Comparing-Dinucleotide-Usage-Across-Genomes)\n",
    "* [Exercises](#Exercises)\n",
    "* [Further Reading](#Further-Reading)"
   ]
  },
  {
   "cell_type": "markdown",
   "metadata": {},
   "source": [
    "## Instructions for the Slide Design Taste Test\n",
    "\n",
    "Slides presented at a research conference often undergo multiple rounds of revision. Typically, a first round happens after presenting a proposed presentation to a mentor, followed by a second round after presenting to a lab or research group. With more experience, you may be able to make many adjustments on your own before receiving feedback, but at first it's really useful to consult with folks familiar with conventions for scientific talks.\n",
    "\n",
    "In this section, we're going to take a visual approach to considering different ways you might structure slides. In each section, we'll present two or more versions of a slide for a visual 'slide design taste test'. \n",
    "\n",
    "To make things fair, each image will contain only the same image (Figure 1 from Epstein et al), though some will use crop, duplicate, etc to set things up nicely.\n",
    "\n",
    "For each 'taste test', you can try to answer three questions: \n",
    "   - what do you notice is different between the versions? \n",
    "   - which version do I prefer? \n",
    "   - why does the version you like better seem more effective?\n",
    "        \n",
    "We'll start with some slides that might reflect how slides typically start, and go from there"
   ]
  },
  {
   "cell_type": "markdown",
   "metadata": {},
   "source": [
    "<hr>\n",
    "\n",
    "## Taste Test 1: Designs for a Slide about Data Integration\n",
    "\n",
    "<hr>\n",
    "\n",
    "### Taste Test 1 `Version A`\n",
    "\n",
    "<img src=\"./resources/2_example_slide_texty.png\" width=\"400\" description=\"A slide titled 'Methods' with a small multipart image on the left and a wall of bullet pointed text on the right\" style=\"box-shadow: 5px 5px 10px rgba(0, 0, 0, 0.5);\">\n",
    "\n",
    "### Taste Test 1 `Version B`\n",
    "\n",
    "<img src=\"./resources/3_example_slide_limited_text.png\" width=\"400\"  description=\"A slide titled 'Integrated Microbiome and Disease Data' with a small image on the left and key points in bullet-pointed text on the right\" style=\"box-shadow: 5px 5px 10px rgba(0, 0, 0, 0.5);\">\n",
    "\n",
    "### Taste Test 1 `Version C`\n",
    "\n",
    "<img src=\"./resources/4_example_slide_larger_image.png\" width=\"400\"  description=\"A slide titled 'Integrated Microbiome and Disease Data' with a large image on the left and key points in bullet-pointed text on the right\" style=\"box-shadow: 5px 5px 10px rgba(0, 0, 0, 0.5);\">\n",
    "\n",
    "### Taste Test 1 `Version D`\n",
    "\n",
    "<img src=\"./resources/5_example_slide_visual_hierarchy.png\" width=\"400\"  description=\"A slide titled 'Integrated Microbiome and Disease Data' with a large image on the left and key points in text on the right separated into Microbiome and Disease categories by use of larger text boxes with those words on them. The title has a grey bar behind it. \" style=\"padding: 5px 5px 5px 5px;box-shadow: 5px 5px 10px rgba(0, 0, 0, 0.5);\">\n",
    "\n",
    "### Taste Test 1 `Version E`\n",
    "<img src=\"./resources/6_example_slide_color_hints.png\" width=\"400\"  description=\"A slide titled 'Integrated Microbiome and Disease Data' with the word microbiome bold and in orange and the word microbiome bold and in pink. A large image on the left is divided into orange and pink gradient shaded portions, matching the shading for key points in text on the right separated into Microbiome and Disease categories by use of larger text boxes with those words on them. The title has a grey bar behind it.\" style=\"box-shadow: 5px 5px 10px rgba(0, 0, 0, 0.5);\">\n",
    "\n",
    "\n",
    "### Taste Test 1 `Questions`\n",
    "For Taste Test 1, answer three questions: \n",
    "    - what do you notice is different between the following versions of the slide:\n",
    "       - Version A vs. Version B?\n",
    "       \n",
    "       - Version B vs. Version C?\n",
    "       \n",
    "       - Version C vs. Versiod D?\n",
    "       \n",
    "       - Version D vs. Versiod E?\n",
    "        \n",
    "   - which version do you prefer? \n",
    "   \n",
    "   - why does the version you prefer seem more effective?"
   ]
  },
  {
   "cell_type": "markdown",
   "metadata": {},
   "source": [
    "<hr>\n",
    "\n",
    "## Taste Test 2: Methods Slide Comparing Dinucleotide Usage Across Genomes\n",
    "\n",
    "<hr>\n",
    "\n",
    "This next taste test is another methods slide, this time for a project that compared dinucleotide usage in some gene across a set of pathogen or commensal genomes. Again, to make things fair, each image will contain only the same image (A diagram of some abstract microbes from Scenario 1 in the Microbiome Change Scenarios in this book), though some will use crop, duplicate, recolor etc to set things up nicely.\n",
    "\n",
    "For each 'taste test', you can try to answer three questions: \n",
    "   - what do you notice is different between the versions? \n",
    "   - which version do I prefer? \n",
    "   - why does the version you like better seem more effective?\n",
    "        \n",
    "We'll start with some slides that might reflect how slides typically start, and go from there"
   ]
  },
  {
   "cell_type": "markdown",
   "metadata": {},
   "source": [
    "### Taste Test 2 `Version A`\n",
    "\n",
    "<img src=\"./resources/12_workflow_bottom_arrows_slide.png\" width=\"400\"  description=\"TODO: describe 12_workflow_bottom_arrows_slide.png\" width=\"400\" description=\"TODO: describe 2_example_slide_texty.png\" style=\"box-shadow: 5px 5px 10px rgba(0, 0, 0, 0.5);\">"
   ]
  },
  {
   "cell_type": "markdown",
   "metadata": {},
   "source": [
    "### Taste Test 2 `Version B`\n",
    "\n",
    "<img src=\"./resources/11_workflow_diagram_slide.png\" width=\"400\"  description=\"TODO: describe 11_workflow_diagram_slide.png\" style=\"box-shadow: 5px 5px 10px rgba(0, 0, 0, 0.5);\">"
   ]
  },
  {
   "cell_type": "markdown",
   "metadata": {},
   "source": [
    "### Taste Test 2 `Version C`\n",
    "\n",
    "<img src=\"./resources/10_workflow_texty_slide.png\" width=\"400\"  description=\"TODO: describe 10_workflow_texty_slide.png\" style=\"box-shadow: 5px 5px 10px rgba(0, 0, 0, 0.5);\">"
   ]
  },
  {
   "cell_type": "markdown",
   "metadata": {},
   "source": [
    "## Exercises\n",
    "\n",
    "1. Based on your taste test results, write out 3 principles or tricks you would like to try out when revising slides.\n",
    "\n",
    "2. Using the principles you wrote out, check out the slide below, then make your own version that is as good as you can make it. When revising, you can assume the slide refers <a href=\"https://pmc.ncbi.nlm.nih.gov/articles/PMC4899628/\"> Zaneveld et al., 2016 </a> \n",
    "<img src=\"./resources/example_bad_slide.png\" width=\"400\"  description=\"TODO: describe 10_workflow_texty_slide.png\" style=\"box-shadow: 5px 5px 10px rgba(0, 0, 0, 0.5);\">\n",
    "\n",
    "If you want to include images or icons for coral, algae, parrotfish or bacteria <a href=\"https://www.phylopic.org/\"> PhyloPic </a> has some that can be used (note some require acknowledgement). Or you can use these 3 PhyloPic images that have been placed in the public domain.\n",
    "\n",
    "<img src=\"./resources/coral_icon_phylopic.png\" width=\"90\" align =\"left\" description=\"A black branching coral silhouette on a white background\">\n",
    "\n",
    "<img src=\"./resources/parrotfish_icon_phylopic.png\" width=\"90\" align =\"left\" description=\"A black parrotfish silhouette on a white background\">\n",
    "\n",
    "<img src=\"./resources/macroalgae_icon_phylopic.png\" width=\"90\" align =\"left\" description=\"A macroalgae silhouette on a white background\">\n",
    "\n",
    "<img src=\"./resources/microbe_icon_phylopic.png\" width=\"90\" align =\"left\" description=\"A microbe silhouette on a white background\">"
   ]
  },
  {
   "cell_type": "markdown",
   "metadata": {},
   "source": [
    "## Reading Responses & Feedback \n",
    "\n",
    "^Make this a hyperlink using Google Forms"
   ]
  },
  {
   "cell_type": "markdown",
   "metadata": {},
   "source": [
    "## Further Reading"
   ]
  },
  {
   "cell_type": "markdown",
   "metadata": {},
   "source": [
    " - Liesbet Smit <a href = \"https://www.theonlinescientist.com/5-simple-tricks-improve-slides/\">Improve your scientific presentation slide design with 5 simple tricks\" <\\a>. I wasn't familiar with this article, but it contains advice on revising slides similar to what I'm hoping folks will glean from the 'taste test' up above!\n",
    " \n",
    " - The Northwestern University CLIMB program also has resources for oral communication skills, including some summarized bullet points and a short video. <a href = \"https://www.northwestern.edu/climb/resources/oral-communication-skills/designing-PowerPoint-slides.html\">Designing PowerPoint Slides </a>"
   ]
  },
  {
   "cell_type": "code",
   "execution_count": null,
   "metadata": {},
   "outputs": [],
   "source": []
  }
 ],
 "metadata": {
  "kernelspec": {
   "display_name": "Python 3 (ipykernel)",
   "language": "python",
   "name": "python3"
  },
  "language_info": {
   "codemirror_mode": {
    "name": "ipython",
    "version": 3
   },
   "file_extension": ".py",
   "mimetype": "text/x-python",
   "name": "python",
   "nbconvert_exporter": "python",
   "pygments_lexer": "ipython3",
   "version": "3.9.19"
  }
 },
 "nbformat": 4,
 "nbformat_minor": 2
}
