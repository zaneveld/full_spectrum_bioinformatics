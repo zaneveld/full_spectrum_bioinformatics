{
 "cells": [
  {
   "cell_type": "markdown",
   "id": "113b06b8",
   "metadata": {},
   "source": [
    "# Resistance is Futile: Becoming a Language Borg\n",
    "\n",
    "In Star Trek: The Next Generation, the Borg are cybernetic aliens that adopt the technology and knowledge of other species and cultures through a sinister process called Assimilation. When writing about our science, we won't be injecting other scientists with nanoprobes or robotically stating that \"Resistance is Futile.\" But as scientific communicators we do want to learn from and assimilate successful communication strategies used by others. In doing so, we can benefit from thinking just a little bit like The Borg."
   ]
  },
  {
   "cell_type": "markdown",
   "id": "46ea66c4",
   "metadata": {},
   "source": [
    "## Table of Contents\n",
    "\n",
    "- [Templating](#Templating)\n",
    "- [Example 1 - Hsiao et al., \"Microbiota modulate behavioral and physiological abnormalities associated with neurodevelopmental disorders\"](http://localhost:8888/notebooks/becoming_a_language_borg.ipynb#Example-1.-From-Hsiao-et-al.,-2013,-%22Microbiota-modulate-behavioral-and-physiological-abnormalities-associated-with-neurodevelopmental-disorders%22)\n",
    "- [Example 2 - Pinker 1997 \"Words and Rules in the Human Brain\"](http://localhost:8888/notebooks/becoming_a_language_borg.ipynb#Example-1.-From-Hsiao-et-al.,-2013,-%22Microbiota-modulate-behavioral-and-physiological-abnormalities-associated-with-neurodevelopmental-disorders%22)\n",
    "- [Example 3 - Blechman 2015 \"Host genetic variation impacts microbiome composition across human body sites\"](#Example-3.-From-Blechman-2015,-%22Host-genetic-variation-impacts-microbiome-composition-across-human-body-sites%22.)\n",
    "- [Templating vs. Plagiarism](http://localhost:8888/notebooks/becoming_a_language_borg.ipynb#Templating-vs.-Plagiarism)\n",
    "- [Exercises](#Exercises)"
   ]
  },
  {
   "cell_type": "markdown",
   "id": "3af8fcc8",
   "metadata": {},
   "source": [
    "## Templating\n",
    "\n",
    "In this chapter, we'll talk about a strategy called **templating** we can use to improve our writing. We'll talk about it mostly in the context of scientific writing, but its a useful way to analyze and understand writing techniques in any domain.\n",
    "\n",
    "The basic idea of templating is to take a specific example of effective scientific writing, then to abstract it into a general pattern that could be used in many different contexts, and finally to practice generating your own writing using that pattern. Let's break down each of these steps in turn:\n",
    "\n",
    "\n",
    "1. **Identify** a source. In this step, we'll find a piece of language — a sentence, paragraph, or maybe even whole chapter — that we find really clear or compelling. If you've been following along in this text, you could go back to some of the papers you liked best from your literature review, and re-read them to focus in on specific explanations that you liked.  It's a good idea to record citation info and a link to your source so you can find it later.\n",
    "\n",
    "\n",
    "2. **Study** the source. Write down some general notes about what you appreciate about the source writing, and what yout hink makes it effective. \n",
    "\n",
    "\n",
    "3. **Abstract** the source into a template. In this step, we'll try to understand what makes our source writing work. We'll then try to write a template that substitutes specific details of the language with more general placeholders. I usually use square brackets to indicate these placeholders. \n",
    "\n",
    "\n",
    "4. **Produce** your own examples. In this step you'll use your template to produce new writing about topics that aren't related to your source. If you're working on a bioinformatic project of your own, you might use these productions to experiment with where you could use this language strucutre in your own writing. Sometimes it's helpful to include an extra sentence or two for context. I find it most helpful to come up with two or three of these, just to get this new language pattern into muscle memory.\n",
    "\n",
    "These steps will be much clearer when you see them applied to a few examples."
   ]
  },
  {
   "cell_type": "markdown",
   "id": "9fed607d",
   "metadata": {},
   "source": [
    "## Example 1. From [Hsiao et al., 2013](https://pubmed.ncbi.nlm.nih.gov/24315484/), \"Microbiota modulate behavioral and physiological abnormalities associated with neurodevelopmental disorders\"\n",
    "\n",
    "### Source \n",
    "\n",
    "The authors of [Hsiao et al 2013](https://www.ncbi.nlm.nih.gov/pmc/articles/PMC3897394/) have already given background on neurodivergence, and gastrointestinal (GI) disorders in children with autism spectrum disorders (ASD). They are investigating a mouse maternal immune activation (MIA) model for how this happens.\n",
    "\n",
    "\"Subsets of ASD children are reported to display GI abnormalities, including increased intestinal permeability or “leaky gut” (D’Eufemia et al., 1996; de Magistris et al., 2010; Ibrahim et al., 2009) ... Consistent with the leaky gut phenotype, colons from adult MIA offspring contain decreased gene expression of ZO-1, ZO-2, OCLN and CLDN8, and increased expression of CLDN15 (Figure 1B). Deficient expression of ZO-1 is also observed in small intestines of adult MIA offspring (Figure S1A), demonstrating a widespread defect in intestinal barrier integrity. Gut permeability is commonly associated with an altered immune response (Turner, 2009)\"\n",
    "\n",
    "\n",
    "### Notes\n",
    "\n",
    "This passage is somewhat dense. I've added elipses (...) to focus in on the part I thought was most interesting, but the whole paper is worth reading. Some things I noticed:\n",
    "\n",
    "- The authors start a results section with background. This is a little unusual, and might get pushback from reviewers at some journals, but I found myself *really* liking it as a reader. Each section of results is sandwiched betweeen a couple of sentences of mini-intro and a sentence of mini-discussion that contextualizes the results and compares them to other literature. I found this very effective.\n",
    "\n",
    "- The authors say up-front what they think the relevance of their gene expression results are, before showing the results themselves. This might also be mildy controversial, since some argue that it is better to first share objective results, let readers formulate their own thoughts, and only subsequently include the authors interpretations. I'm sympathetic to that view, but in this case I think giving context for the significance of increased expression of genes like ZO-1 (which many non-specialist readers may not recognize) is helpful.\n",
    "\n",
    "### Templates\n",
    "\n",
    "I tried to think about how I could generalize this strategy overall, as well as studying more specific structures.\n",
    "\n",
    "Really specific template for the key sentence:\n",
    "    \n",
    "    Consistent with [hypothesis], [description of samples] show [result].\n",
    "\n",
    "Really broad template at a whole-paragraph scale:\n",
    "\n",
    "    [Sentence citing previous knowledge on topic to support why they are testing a particular hypothesis]. [Sentence discussing the result]. [Sentence further showing how results distribute in subsets of the data]. [Sentence linking out to these results to the next part of the story, using citations to the literature to connect teh two].\n",
    "    \n",
    " \n",
    " ### Productions\n",
    " \n",
    " ##### 1.\n",
    " ##### 2.\n",
    " ##### 3.\n",
    " \n",
    " \n",
    " Next I tried writing some example sentences. Here I'll focus more on the detailed sentence since the examples are more concise. In each, I tried to think about how this structure might relate to topics I sometimes talk about in my own research and teaching. I won't necessarily use these right away, but am generating them in order to get different ways of writing about science into 'muscle memory'.\n",
    " \n",
    "     Consistent with the hypothesis that both top-down ecological pressures are critical in shaping reef communities, reef patches from which large herbivorous fishes were excluded became dominated by macroalgae\n",
    "     \n",
    "     Consistent with strong and specific habitat-filtering by different parts of coral anatomy, coral mucus, tissue and skeleton show dramatic differences in alpha-diversity, beta-diversity, and correlation with host vs. environmental parameters.  \n",
    "     \n",
    "     Consistent with the prediction that non-phylogenetic methods will show poor performance in cross-species comparisons because they fail to account for the correlation structure of the tree, simulated microbiomes with no correlations between host traits and microbiome beta-diversity nonethless showed many highly significant false positive correlations when analyzed by PERMANOVA.\n",
    "     \n",
    "     \n",
    "     \n",
    "None of these examples are perfect, but they help me to think about ways I might use this structure in my own writing. I probably won't use any directly, but I might glance at a list of templates I've worked up from time to time before I start to write. This can help me avoid falling into the same patterns over and over in writing. \n",
    "     \n",
    "     "
   ]
  },
  {
   "cell_type": "markdown",
   "id": "a034d041",
   "metadata": {},
   "source": [
    "## Example 2. From [Pinker 1997](https://www.nature.com/articles/42347#:~:text=A%20new%20study%20of%20neurological,different%20parts%20of%20the%20brain.), \"Words and Rules in the Human Brain\".\n",
    "\n",
    "It's good to learn from the communication strategies of folks you both like and dislike. While I have very strong personal opinions about Steven Pinker, I also appreciate some of the writing strategies he uses in his scientific writing. This example comes from a comment article, which add context to especially exciting research articles, and appear alongside them.\n",
    "\n",
    "### Source\n",
    "\n",
    "    \"Regular verbs have a natural control group — the irregular verbs, such as ring-rang\" \n",
    "    (Pinker 1997)\n",
    "\n",
    "### Notes\n",
    "    \n",
    "        I like that this sentence seamlessly includes a specific example of a category (irregular verbs in English), that readers might otherwise have difficulty bringing to mind. The dashed phrase feels dramatic when read, like a speaker is pausing for dramatic effect before going on to clue us in on the control \n",
    "\n",
    "### Template\n",
    "\n",
    "    [category X] has a [relationship between categories] — [category Y], such as [example of category Y]\n",
    "\n",
    "### Productions\n",
    "\n",
    "\"for loops in python have a natural complement — iterable data structures, such as lists, dicts, and sets.\"\n",
    "\n",
    "\"Overgrowth of benthic algae on coral reefs has a natural solution — herbivores, such as *Diadema* urchins or Stoplight Parrotfish.\"\n",
    "\n",
    " \"While bird microbiomes differ in stability and richness from those of terrestrial mammals, it is challenging to determine if this is due to phylogeny, or has more to do with flight. Luckily, the microbiome of birds has a clear control group — that of flighted mammals, such as bats.\"\n",
    "    "
   ]
  },
  {
   "cell_type": "markdown",
   "id": "68dc9785",
   "metadata": {},
   "source": [
    "Now let's try a longer and more biological example.\n",
    "\n",
    "\n",
    "### Example 3. From [Blechman 2015](https://genomebiology.biomedcentral.com/counter/pdf/10.1186/s13059-015-0759-1.pdf), \"Host genetic variation impacts microbiome composition across human body sites\".\n",
    "\n",
    "#### Source\n",
    "\n",
    "    \"We recognize at the outset that our sample size is an order of magnitude smaller than most genome-wide association studies (GWAS), precluding us from being able to perform a standard test of association between microbiome composition and each SNP. Therefore, instead, we used a pathway-based analysis, whereby we aggregated SNPs into pathways in order to learn about the biological functions and processes that underlie interactions between host genome and the microbiome. We note that this is a common analysis approach for genome-wide association data, driven by the rationale that complex traits are controlled by multiple genetic effects, which could originate in different genes, but are likely to aggregate in the same biological pathway or function.\"\n",
    "    \n",
    "    (Blechman 2015)\n",
    "\n",
    "#### Notes\n",
    "    \n",
    "I like how this short paragraph answers a key objective the reader has. I zeroed in on the last sentence which both highlights when a technique is common in a field the reader may not be super familiar with (e.g. genomics approaches for a microbiome reader) and why it makes sense. Probably the 'we note that' could be dropped if needed, though it may serve to call attention to a point that could otherwise be missed. \n",
    "        \n",
    "I both like the overall structure of problem, then method, then why the method makes sense, and the specific way the method of pooling microbe-SNP associations into pathways is discussed, so I made separate templates for each.\n",
    "\n",
    "#### Templates\n",
    "\n",
    "    We note that [strategy] is a common analysis approach for [data type], driven by the rationale that [rationale]\n",
    "  \n",
    "    We recognize [problem]. Therefore, [sentence about method you used]. [Explanation of why method makes sense to address problem]\n",
    "  \n",
    "\n",
    "#### Productions\n",
    "\n",
    "    All p-values for gene copy number - microbiome correlations were Bonferroni-corrected. We note that this is a common strategy for microbiome data, driven by the rationale that there is a much higher cost to false positives than false negatives, and therefore a stringent control for multiple comparisons is appropriate.\n",
    "\n",
    "    We recognize that contamination is a common issue in microbiome studies. Therefore, all sequencing runs included both blanks and mock communities. This allowed us to check for contamination using the blanks, and to check accuracy by comparing the mock community sequence libraries against the known composition of those communities.\n",
    "\n",
    "    We recognize that errors in the tree may affect the accuracy of trait prediction. Therefore, we simulated tree errors of varying magnitude using a Monte Carlo approach, and then tested to what degree they affected the accuracy of trait prediction. Because each tree is different, this approach provides a tree-specific estimate of the effects of phylogenetic error.\n",
    "    "
   ]
  },
  {
   "cell_type": "markdown",
   "id": "9b1a8124",
   "metadata": {},
   "source": [
    "## Templating vs. Plagiarism\n",
    "\n",
    "If you've had any instruction on academic writing, you know that it's critical to write in your own words and to cite your sources. Directly copying anyone else's language into an academic text is plagiarism. However, it is normal and extremely important to learn from effective writing, including by emulating language structures deployed by others.\n",
    "\n",
    "This might seem like a contradiction, but in fact follows a pretty clear pattern. An example from art might be helpful to clarify. If I like Van Gogh's \"Starry Night\", paint an exact replica, and then try to pass it off as my original work, that's plagiarism. If I like Van Gogh's \"Starry Night\", study the style and techniques that make the painting work and then try to apply them in my own work, that's templating.\n",
    "\n",
    "In this way the main difference between unethical plagiarism and templating is in the *degree of abstraction*. Instead of unethically using someone's exact words (often without understanding them very well), we're instead seeking to understand and assimilate the language structure underneath those words.\n",
    "\n",
    "In truth, I almost never use these templates or the productions from them *directly* when writing, but instead find that the act of writing them down and glancing at them from time to time helps to remind me of the toolbox of different ways an idea *could* be written. "
   ]
  },
  {
   "cell_type": "markdown",
   "id": "e16bdfea",
   "metadata": {},
   "source": [
    "# Exercises\n",
    "\n",
    "1. Pick one of the papers you've read recently that you remember being clear or well-written. You might use one that you wrote about for your Literature Synthesis. Reread it, looking for sections or sentences that you liked. Pick one, and write some notes about why it works. Then, try to abstract it into a template, removing specific details and replacing them with general placeholders. Finally, write 3 productions (sentences) from your template. You might write these around things you already wanted to talk about for your research project. You can fill in your original text, notes, template and productions using the headings below:\n",
    "\n",
    "    ### Source Text\n",
    "\n",
    "    ### Notes\n",
    "\n",
    "    ### Templates\n",
    "\n",
    "    ### Productions\n",
    "\n",
    "\n",
    "2. Read the titles of 10 papers in an area of research related to your project on Google Scholar or another database of peer-reviewed papers. Pick 2-3 that you like. Generate a template for each of them. Then, see if you can generate some possible titles for your project using these templates as examples. "
   ]
  },
  {
   "cell_type": "markdown",
   "id": "3d1aa273",
   "metadata": {},
   "source": [
    "# Futher Reading\n",
    "\n",
    "If you're interested in learning more about templating, two books covering templating from social science perspectives, both \"How to Write a Sentence\" (Fish 2011) and \"They Say / I Say\" (Birkenstein and Graff, 2018) offer useful advice and examples."
   ]
  },
  {
   "cell_type": "markdown",
   "id": "04202758",
   "metadata": {},
   "source": [
    "# References\n",
    "\n",
    "Birkenstein, C., and Graff, G. (2018). They Say / I Say: The Moves That Matter in Academic Writing    : Fourth Edition. W. W. Norton & Company.\n",
    "\n",
    "Blekhman, R., Goodrich, J. K., Huang, K., Sun, Q., Bukowski, R., Bell, J. T., et al. (2015). Host genetic variation impacts microbiome composition across human body sites. Genome Biol. 16, 191. doi: 10.1186/s13059-015-0759-1\n",
    "\n",
    "Fish, S. (2011). How to write a sentence. HarperCollins.\n",
    "\n",
    "Hsiao, E. Y., McBride, S. W., Hsien, S., Sharon, G., Hyde, E. R., McCue, T., et al. (2013). The microbiota modulates gut physiology and behavioral abnormalities associated with autism. Cell 155, 1451–1463. doi: 10.1016/j.cell.2013.11.024\n",
    "\n",
    "Pinker, S. (1997). Words and rules in the human brain. Nature 387, 547–548. doi: 10.1038/42347\n",
    "\n"
   ]
  },
  {
   "cell_type": "code",
   "execution_count": null,
   "id": "f3c10692",
   "metadata": {},
   "outputs": [],
   "source": []
  }
 ],
 "metadata": {
  "kernelspec": {
   "display_name": "Python 3",
   "language": "python",
   "name": "python3"
  },
  "language_info": {
   "codemirror_mode": {
    "name": "ipython",
    "version": 3
   },
   "file_extension": ".py",
   "mimetype": "text/x-python",
   "name": "python",
   "nbconvert_exporter": "python",
   "pygments_lexer": "ipython3",
   "version": "3.8.8"
  }
 },
 "nbformat": 4,
 "nbformat_minor": 5
}
